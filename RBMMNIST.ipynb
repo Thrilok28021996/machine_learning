{
  "nbformat": 4,
  "nbformat_minor": 0,
  "metadata": {
    "kernelspec": {
      "display_name": "Python 3",
      "language": "python",
      "name": "python3"
    },
    "language_info": {
      "codemirror_mode": {
        "name": "ipython",
        "version": 3
      },
      "file_extension": ".py",
      "mimetype": "text/x-python",
      "name": "python",
      "nbconvert_exporter": "python",
      "pygments_lexer": "ipython3",
      "version": "3.8.0"
    },
    "colab": {
      "name": "ML0120EN-4.1-Review-RBMMNIST.ipynb",
      "provenance": []
    }
  },
  "cells": [
    {
      "cell_type": "markdown",
      "metadata": {
        "id": "fbsEqDnLNeaN"
      },
      "source": [
        "<a href=\"https://www.skills.network/?utm_medium=Exinfluencer&utm_source=Exinfluencer&utm_content=000026UJ&utm_term=10006555&utm_id=NA-SkillsNetwork-Channel-SkillsNetworkCoursesIBMDeveloperSkillsNetworkDL0120ENSkillsNetwork20629446-2021-01-01\"><img src=\"https://cf-courses-data.s3.us.cloud-object-storage.appdomain.cloud/IBM-DL0120ENedX/labs/Template%20for%20Instructional%20Hands-on%20Labs/images/IDSNlogo.png\" width=\"400px\" align=\"center\"></a>\n",
        "\n",
        "<h1 align=\"center\"><font size=\"5\">RESTRICTED BOLTZMANN MACHINES</font></h1>\n"
      ]
    },
    {
      "cell_type": "markdown",
      "metadata": {
        "id": "vEKUcIRLNeaQ"
      },
      "source": [
        "<h3>Introduction</h3>\n",
        "<b>Restricted Boltzmann Machine (RBM):</b>  RBMs are shallow neural nets that learn to reconstruct data by themselves in an unsupervised fashion.  \n",
        "\n",
        "<h4>Why are RBMs important?</h4>\n",
        "An RBM are a basic form of autoencoder.  It can automatically extract <b>meaningful</b> features from a given input.\n",
        "\n",
        "<h4>How does it work?</h4>\n",
        "RBM is a 2 layer neural network. Simply, RBM takes the inputs and translates those into a set of binary values that represents them in the hidden layer. Then, these numbers can be translated back to reconstruct the inputs. Through several forward and backward passes, the RBM will be trained, and a trained RBM can reveal which features are the most important ones when detecting patterns.   \n",
        "\n",
        "<h4>What are the applications of an RBM?</h4>\n",
        "RBM is useful for <a href='http://www.cs.utoronto.ca/~hinton/absps/netflixICML.pdf?utm_medium=Exinfluencer&utm_source=Exinfluencer&utm_content=000026UJ&utm_term=10006555&utm_id=NA-SkillsNetwork-Channel-SkillsNetworkCoursesIBMDeveloperSkillsNetworkDL0120ENSkillsNetwork20629446-2021-01-01'>  Collaborative Filtering</a>, dimensionality reduction, classification, regression, feature learning, topic modeling and even <b>Deep Belief Networks</b>.\n",
        "\n",
        "<h4>Is RBM a generative or Discriminative model?</h4>\n",
        "RBM is a generative model. Let me explain it by first, see what is different between discriminative and generative models: \n",
        "\n",
        "<b>Discriminative:</b> Consider a classification problem where we want to learn to distinguish between Sedan cars (y = 1) and SUV cars (y = 0), based on some features of cars. Given a training set, an algorithm like logistic regression tries to find a straight line, or <i>decision boundary</i>, that separates the suv and sedan.\n",
        "\n",
        "<b>Generative:</b> looking at cars, we can build a model of what Sedan cars look like. Then, looking at SUVs, we can build a separate model of what SUV cars look like. Finally, to classify a new car, we can match the new car against the Sedan model, and match it against the SUV model, to see whether the new car looks more like the SUV or Sedan.\n",
        "\n",
        "Generative Models specify a probability distribution over a dataset of input vectors. We can carry out both supervised and unsupervised tasks with generative models:\n",
        "\n",
        "<ul>\n",
        "    <li>In an unsupervised task, we try to form a model for $P(x)$, where $P$ is the probability given $x$ as an input vector.</li>\n",
        "    <li>In the supervised task, we first form a model for $P(x|y)$, where $P$ is the probability of $x$ given $y$(the label for $x$). For example, if $y = 0$ indicates that a car is an SUV, and $y = 1$ indicates that a car is a sedan, then $p(x|y = 0)$ models the distribution of SUV features, and $p(x|y = 1)$ models the distribution of sedan features. If we manage to find $P(x|y)$ and $P(y)$, then we can use <b>Bayes rule</b> to estimate $P(y|x)$, because:   \n",
        "        $$p(y|x) = \\frac{p(x|y)p(y)}{p(x)}$$</li>\n",
        "</ul>\n",
        "Now the question is, can we build a generative model, and then use it to create synthetic data by directly sampling from the modeled probability distributions? Lets see. \n"
      ]
    },
    {
      "cell_type": "markdown",
      "metadata": {
        "id": "i2374ikhNeaU"
      },
      "source": [
        "<h2>Table of Contents</h2>\n",
        "<ol>\n",
        "    <li><a href=\"https://#ref1\">Initialization</a></li>\n",
        "    <li><a href=\"https://#ref2\">RBM layers</a></li>\n",
        "    <li><a href=\"https://#ref3\">What RBM can do after training?</a></li>\n",
        "    <li><a href=\"https://#ref4\">How to train the model?</a></li>\n",
        "    <li><a href=\"https://#ref5\">Learned features</a></li>\n",
        "</ol>\n",
        "<p></p>\n",
        "</div>\n",
        "<br>\n",
        "\n",
        "<hr>\n"
      ]
    },
    {
      "cell_type": "markdown",
      "metadata": {
        "id": "9yUBRP69NeaX"
      },
      "source": [
        "<a id=\"ref1\"></a>\n",
        "\n",
        "<h3>Initialization</h3>\n",
        "\n",
        "First, we have to load the utility file which contains different utility functions that are not connected\n",
        "in any way to the networks presented in the tutorials, but rather help in\n",
        "processing the outputs into a more understandable way.\n"
      ]
    },
    {
      "cell_type": "code",
      "metadata": {
        "id": "or5124k1NeaZ"
      },
      "source": [
        "import urllib.request\n",
        "with urllib.request.urlopen(\"https://cf-courses-data.s3.us.cloud-object-storage.appdomain.cloud/IBMDeveloperSkillsNetwork-DL0120EN-SkillsNetwork/labs/Week4/data/utils.py\") as url:\n",
        "    response = url.read()\n",
        "target = open('utils.py', 'w')\n",
        "target.write(response.decode('utf-8'))\n",
        "target.close()"
      ],
      "execution_count": 1,
      "outputs": []
    },
    {
      "cell_type": "markdown",
      "metadata": {
        "id": "5onS-tOONeab"
      },
      "source": [
        "<h2>Installing TensorFlow </h2>\n",
        "\n",
        "We will installing TensorFlow version 2.2.0 and its required prerequistes.  Also installing pillow\\...\n"
      ]
    },
    {
      "cell_type": "code",
      "metadata": {
        "colab": {
          "base_uri": "https://localhost:8080/"
        },
        "id": "slZ7UNYjNead",
        "outputId": "6a47e865-dccb-4394-9652-943149781aaa"
      },
      "source": [
        "!pip install grpcio==1.24.3\n",
        "!pip install tensorflow==2.2.0\n",
        "!pip install pillow"
      ],
      "execution_count": 2,
      "outputs": [
        {
          "output_type": "stream",
          "text": [
            "Collecting grpcio==1.24.3\n",
            "  Downloading grpcio-1.24.3-cp37-cp37m-manylinux2010_x86_64.whl (2.2 MB)\n",
            "\u001b[K     |████████████████████████████████| 2.2 MB 10.3 MB/s \n",
            "\u001b[?25hRequirement already satisfied: six>=1.5.2 in /usr/local/lib/python3.7/dist-packages (from grpcio==1.24.3) (1.15.0)\n",
            "Installing collected packages: grpcio\n",
            "  Attempting uninstall: grpcio\n",
            "    Found existing installation: grpcio 1.39.0\n",
            "    Uninstalling grpcio-1.39.0:\n",
            "      Successfully uninstalled grpcio-1.39.0\n",
            "\u001b[31mERROR: pip's dependency resolver does not currently take into account all the packages that are installed. This behaviour is the source of the following dependency conflicts.\n",
            "tensorflow 2.6.0 requires grpcio<2.0,>=1.37.0, but you have grpcio 1.24.3 which is incompatible.\u001b[0m\n",
            "Successfully installed grpcio-1.24.3\n",
            "Collecting tensorflow==2.2.0\n",
            "  Downloading tensorflow-2.2.0-cp37-cp37m-manylinux2010_x86_64.whl (516.2 MB)\n",
            "\u001b[K     |████████████████████████████████| 516.2 MB 3.6 kB/s \n",
            "\u001b[?25hRequirement already satisfied: opt-einsum>=2.3.2 in /usr/local/lib/python3.7/dist-packages (from tensorflow==2.2.0) (3.3.0)\n",
            "Collecting gast==0.3.3\n",
            "  Downloading gast-0.3.3-py2.py3-none-any.whl (9.7 kB)\n",
            "Requirement already satisfied: protobuf>=3.8.0 in /usr/local/lib/python3.7/dist-packages (from tensorflow==2.2.0) (3.17.3)\n",
            "Collecting tensorflow-estimator<2.3.0,>=2.2.0\n",
            "  Downloading tensorflow_estimator-2.2.0-py2.py3-none-any.whl (454 kB)\n",
            "\u001b[K     |████████████████████████████████| 454 kB 50.8 MB/s \n",
            "\u001b[?25hRequirement already satisfied: astunparse==1.6.3 in /usr/local/lib/python3.7/dist-packages (from tensorflow==2.2.0) (1.6.3)\n",
            "Requirement already satisfied: wrapt>=1.11.1 in /usr/local/lib/python3.7/dist-packages (from tensorflow==2.2.0) (1.12.1)\n",
            "Requirement already satisfied: wheel>=0.26 in /usr/local/lib/python3.7/dist-packages (from tensorflow==2.2.0) (0.37.0)\n",
            "Requirement already satisfied: numpy<2.0,>=1.16.0 in /usr/local/lib/python3.7/dist-packages (from tensorflow==2.2.0) (1.19.5)\n",
            "Requirement already satisfied: absl-py>=0.7.0 in /usr/local/lib/python3.7/dist-packages (from tensorflow==2.2.0) (0.12.0)\n",
            "Requirement already satisfied: grpcio>=1.8.6 in /usr/local/lib/python3.7/dist-packages (from tensorflow==2.2.0) (1.24.3)\n",
            "Collecting tensorboard<2.3.0,>=2.2.0\n",
            "  Downloading tensorboard-2.2.2-py3-none-any.whl (3.0 MB)\n",
            "\u001b[K     |████████████████████████████████| 3.0 MB 57.6 MB/s \n",
            "\u001b[?25hRequirement already satisfied: scipy==1.4.1 in /usr/local/lib/python3.7/dist-packages (from tensorflow==2.2.0) (1.4.1)\n",
            "Requirement already satisfied: keras-preprocessing>=1.1.0 in /usr/local/lib/python3.7/dist-packages (from tensorflow==2.2.0) (1.1.2)\n",
            "Requirement already satisfied: termcolor>=1.1.0 in /usr/local/lib/python3.7/dist-packages (from tensorflow==2.2.0) (1.1.0)\n",
            "Collecting h5py<2.11.0,>=2.10.0\n",
            "  Downloading h5py-2.10.0-cp37-cp37m-manylinux1_x86_64.whl (2.9 MB)\n",
            "\u001b[K     |████████████████████████████████| 2.9 MB 43.6 MB/s \n",
            "\u001b[?25hRequirement already satisfied: google-pasta>=0.1.8 in /usr/local/lib/python3.7/dist-packages (from tensorflow==2.2.0) (0.2.0)\n",
            "Requirement already satisfied: six>=1.12.0 in /usr/local/lib/python3.7/dist-packages (from tensorflow==2.2.0) (1.15.0)\n",
            "Requirement already satisfied: werkzeug>=0.11.15 in /usr/local/lib/python3.7/dist-packages (from tensorboard<2.3.0,>=2.2.0->tensorflow==2.2.0) (1.0.1)\n",
            "Requirement already satisfied: google-auth-oauthlib<0.5,>=0.4.1 in /usr/local/lib/python3.7/dist-packages (from tensorboard<2.3.0,>=2.2.0->tensorflow==2.2.0) (0.4.5)\n",
            "Requirement already satisfied: setuptools>=41.0.0 in /usr/local/lib/python3.7/dist-packages (from tensorboard<2.3.0,>=2.2.0->tensorflow==2.2.0) (57.4.0)\n",
            "Requirement already satisfied: markdown>=2.6.8 in /usr/local/lib/python3.7/dist-packages (from tensorboard<2.3.0,>=2.2.0->tensorflow==2.2.0) (3.3.4)\n",
            "Requirement already satisfied: tensorboard-plugin-wit>=1.6.0 in /usr/local/lib/python3.7/dist-packages (from tensorboard<2.3.0,>=2.2.0->tensorflow==2.2.0) (1.8.0)\n",
            "Requirement already satisfied: google-auth<2,>=1.6.3 in /usr/local/lib/python3.7/dist-packages (from tensorboard<2.3.0,>=2.2.0->tensorflow==2.2.0) (1.34.0)\n",
            "Requirement already satisfied: requests<3,>=2.21.0 in /usr/local/lib/python3.7/dist-packages (from tensorboard<2.3.0,>=2.2.0->tensorflow==2.2.0) (2.23.0)\n",
            "Requirement already satisfied: rsa<5,>=3.1.4 in /usr/local/lib/python3.7/dist-packages (from google-auth<2,>=1.6.3->tensorboard<2.3.0,>=2.2.0->tensorflow==2.2.0) (4.7.2)\n",
            "Requirement already satisfied: cachetools<5.0,>=2.0.0 in /usr/local/lib/python3.7/dist-packages (from google-auth<2,>=1.6.3->tensorboard<2.3.0,>=2.2.0->tensorflow==2.2.0) (4.2.2)\n",
            "Requirement already satisfied: pyasn1-modules>=0.2.1 in /usr/local/lib/python3.7/dist-packages (from google-auth<2,>=1.6.3->tensorboard<2.3.0,>=2.2.0->tensorflow==2.2.0) (0.2.8)\n",
            "Requirement already satisfied: requests-oauthlib>=0.7.0 in /usr/local/lib/python3.7/dist-packages (from google-auth-oauthlib<0.5,>=0.4.1->tensorboard<2.3.0,>=2.2.0->tensorflow==2.2.0) (1.3.0)\n",
            "Requirement already satisfied: importlib-metadata in /usr/local/lib/python3.7/dist-packages (from markdown>=2.6.8->tensorboard<2.3.0,>=2.2.0->tensorflow==2.2.0) (4.6.4)\n",
            "Requirement already satisfied: pyasn1<0.5.0,>=0.4.6 in /usr/local/lib/python3.7/dist-packages (from pyasn1-modules>=0.2.1->google-auth<2,>=1.6.3->tensorboard<2.3.0,>=2.2.0->tensorflow==2.2.0) (0.4.8)\n",
            "Requirement already satisfied: idna<3,>=2.5 in /usr/local/lib/python3.7/dist-packages (from requests<3,>=2.21.0->tensorboard<2.3.0,>=2.2.0->tensorflow==2.2.0) (2.10)\n",
            "Requirement already satisfied: certifi>=2017.4.17 in /usr/local/lib/python3.7/dist-packages (from requests<3,>=2.21.0->tensorboard<2.3.0,>=2.2.0->tensorflow==2.2.0) (2021.5.30)\n",
            "Requirement already satisfied: chardet<4,>=3.0.2 in /usr/local/lib/python3.7/dist-packages (from requests<3,>=2.21.0->tensorboard<2.3.0,>=2.2.0->tensorflow==2.2.0) (3.0.4)\n",
            "Requirement already satisfied: urllib3!=1.25.0,!=1.25.1,<1.26,>=1.21.1 in /usr/local/lib/python3.7/dist-packages (from requests<3,>=2.21.0->tensorboard<2.3.0,>=2.2.0->tensorflow==2.2.0) (1.24.3)\n",
            "Requirement already satisfied: oauthlib>=3.0.0 in /usr/local/lib/python3.7/dist-packages (from requests-oauthlib>=0.7.0->google-auth-oauthlib<0.5,>=0.4.1->tensorboard<2.3.0,>=2.2.0->tensorflow==2.2.0) (3.1.1)\n",
            "Requirement already satisfied: zipp>=0.5 in /usr/local/lib/python3.7/dist-packages (from importlib-metadata->markdown>=2.6.8->tensorboard<2.3.0,>=2.2.0->tensorflow==2.2.0) (3.5.0)\n",
            "Requirement already satisfied: typing-extensions>=3.6.4 in /usr/local/lib/python3.7/dist-packages (from importlib-metadata->markdown>=2.6.8->tensorboard<2.3.0,>=2.2.0->tensorflow==2.2.0) (3.7.4.3)\n",
            "Installing collected packages: tensorflow-estimator, tensorboard, h5py, gast, tensorflow\n",
            "  Attempting uninstall: tensorflow-estimator\n",
            "    Found existing installation: tensorflow-estimator 2.6.0\n",
            "    Uninstalling tensorflow-estimator-2.6.0:\n",
            "      Successfully uninstalled tensorflow-estimator-2.6.0\n",
            "  Attempting uninstall: tensorboard\n",
            "    Found existing installation: tensorboard 2.6.0\n",
            "    Uninstalling tensorboard-2.6.0:\n",
            "      Successfully uninstalled tensorboard-2.6.0\n",
            "  Attempting uninstall: h5py\n",
            "    Found existing installation: h5py 3.1.0\n",
            "    Uninstalling h5py-3.1.0:\n",
            "      Successfully uninstalled h5py-3.1.0\n",
            "  Attempting uninstall: gast\n",
            "    Found existing installation: gast 0.4.0\n",
            "    Uninstalling gast-0.4.0:\n",
            "      Successfully uninstalled gast-0.4.0\n",
            "  Attempting uninstall: tensorflow\n",
            "    Found existing installation: tensorflow 2.6.0\n",
            "    Uninstalling tensorflow-2.6.0:\n",
            "      Successfully uninstalled tensorflow-2.6.0\n",
            "Successfully installed gast-0.3.3 h5py-2.10.0 tensorboard-2.2.2 tensorflow-2.2.0 tensorflow-estimator-2.2.0\n",
            "Requirement already satisfied: pillow in /usr/local/lib/python3.7/dist-packages (7.1.2)\n"
          ],
          "name": "stdout"
        }
      ]
    },
    {
      "cell_type": "markdown",
      "metadata": {
        "id": "E4SRXJ5ONeae"
      },
      "source": [
        "<b>Notice:</b> This notebook has been created with TensorFlow version 2.2, and might not work with other versions. Therefore we check:\n"
      ]
    },
    {
      "cell_type": "code",
      "metadata": {
        "id": "wrQyd22qNeah"
      },
      "source": [
        "import tensorflow as tf\n",
        "from IPython.display import Markdown, display\n",
        "\n",
        "def printmd(string):\n",
        "    display(Markdown('# <span style=\"color:red\">'+string+'</span>'))\n",
        "\n",
        "\n",
        "if not tf.__version__ == '2.2.0':\n",
        "    printmd('<<<<<!!!!! ERROR !!!! please upgrade to TensorFlow 2.2.0, or restart your Kernel (Kernel->Restart & Clear Output)>>>>>')"
      ],
      "execution_count": 3,
      "outputs": []
    },
    {
      "cell_type": "markdown",
      "metadata": {
        "id": "2i-eBa4rNeaj"
      },
      "source": [
        "Now, we load in all the packages that we use to create the net including the TensorFlow package:\n"
      ]
    },
    {
      "cell_type": "code",
      "metadata": {
        "id": "r0nHhw2ANeal"
      },
      "source": [
        "import tensorflow as tf\n",
        "import numpy as np\n",
        "\n",
        "from PIL import Image\n",
        "from utils import tile_raster_images\n",
        "import matplotlib.pyplot as plt\n",
        "%matplotlib inline"
      ],
      "execution_count": 4,
      "outputs": []
    },
    {
      "cell_type": "markdown",
      "metadata": {
        "id": "jYlkDT5dNean"
      },
      "source": [
        "<hr>\n"
      ]
    },
    {
      "cell_type": "markdown",
      "metadata": {
        "id": "Gdk9bFxFNeao"
      },
      "source": [
        "<a id=\"ref2\"></a>\n",
        "\n",
        "<h3>RBM layers</h3>\n",
        "\n",
        "An RBM has two layers. The first layer of the RBM is called the <b>visible</b> (or input layer). Imagine that our toy example, has only vectors with 7 values, so the visible layer must have $V=7$ input nodes.\n",
        "The second layer is the <b>hidden</b> layer, which has $H$ neurons in our case. Each hidden node takes on values of either 0 or 1 (i.e., $h_i = 1$ or $h_i$ = 0), with a probability that is a logistic function of the inputs it receives from the other $V$ visible units, called for example, $p(h_i = 1)$. For our toy sample, we'll use 2 nodes in the hidden layer, so $H = 2$.\n",
        "\n",
        "<center><img src=\"https://ibm.box.com/shared/static/eu26opvcefgls6vnwuo29uwp0nudmokh.png\" alt=\"RBM Model\" style=\"width: 400px;\"></center>\n"
      ]
    },
    {
      "cell_type": "markdown",
      "metadata": {
        "id": "zDBZScQ1Neap"
      },
      "source": [
        "Each node in the first layer also has a <b>bias</b>. We will denote the bias as $v\\_{bias}$, and this single value is shared among the $V$ visible units.\n",
        "\n",
        "The <b>bias</b> of the second is defined similarly as $h\\_{bias}$, and this single value among the $H$ hidden units.\n"
      ]
    },
    {
      "cell_type": "code",
      "metadata": {
        "id": "NKwR-usyNeaq"
      },
      "source": [
        "v_bias = tf.Variable(tf.zeros([7]), tf.float32)\n",
        "h_bias = tf.Variable(tf.zeros([2]), tf.float32)"
      ],
      "execution_count": 5,
      "outputs": []
    },
    {
      "cell_type": "markdown",
      "metadata": {
        "id": "Gdp4pI6YNear"
      },
      "source": [
        "We have to define weights among the input layer and hidden layer nodes. In the weight matrix, the number of rows are equal to the input nodes, and the number of columns are equal to the output nodes. We define a tensor $\\mathbf{W}$ of shape = (7,2), where the number of visible neurons = 7, and the number of hidden neurons = 2.\n"
      ]
    },
    {
      "cell_type": "code",
      "metadata": {
        "id": "ud-damx2Near"
      },
      "source": [
        "W = tf.constant(np.random.normal(loc=0.0, scale=1.0, size=(7, 2)).astype(np.float32))"
      ],
      "execution_count": 6,
      "outputs": []
    },
    {
      "cell_type": "markdown",
      "metadata": {
        "id": "mD4N9UvZNeat"
      },
      "source": [
        "<hr>\n"
      ]
    },
    {
      "cell_type": "markdown",
      "metadata": {
        "id": "14JDwzP_Neat"
      },
      "source": [
        "<a id=\"ref3\"></a>\n",
        "\n",
        "<h3>What RBM can do after training?</h3>\n",
        "Think of RBM as a model that has been trained based on images of a dataset of many SUV and sedan cars. Also, imagine that the RBM network has only two hidden nodes, where one node encodes the weight and, and the other encodes the size.  \n",
        "In a sense, the different configurations represent different cars, where one is an SUV and the other is Sedan.  In a training process, through many forward and backward passes, the RBM adjust its weights to send a stronger signal to either the SUV node (0, 1) or the sedan node (1, 0) in the hidden layer, given the pixels of images. Now, given an SUV in hidden layer, which distribution of pixels should we expect? RBM can give you 2 things. First, it encodes your images in hidden layer. Second, it gives you the probability of observing a case, given some hidden values.\n",
        "\n",
        "<h3>The Inference Process</h3>\n",
        "\n",
        "RBM has two phases:\n",
        "\n",
        "<ul>\n",
        "    <li>Forward Pass</li>  \n",
        "    <li>Backward Pass or Reconstruction</li>\n",
        "</ul>\n",
        "\n",
        "<b>Phase 1) Forward pass:</b>\n",
        "\n",
        "Input one training sample (one image) $\\mathbf{x}$ through all visible nodes, and pass it to all hidden nodes. Processing happens in each node in the hidden layer. This computation begins by making stochastic decisions about whether to transmit that input or not (i.e. to determine the state of each hidden layer).  First, the probability vector is computed using the input feature vector $\\mathbf{x}$, the weight matrix $\\mathbf{W}$, and the bias term $h\\_{bias}$, as\n",
        "\n",
        "$$p({h_j}|\\mathbf x)= \\sigma( \\sum\\_{i=1}^V W\\_{ij} x_i + h\\_{bias} )$$,\n",
        "\n",
        "where $\\sigma(z) = (1+e^{-z})^{-1}$ is the logistic function.\n",
        "\n",
        "So, what does $p({h_j})$ represent? It is the <b>probability distribution</b> of the hidden units. That is, RBM uses inputs $x_i$ to make predictions about hidden node activations. For example, imagine that the hidden node activation values are \\[0.51 0.84] for the first training item. It tells you that the conditional probability for each hidden neuron for Phase 1 is:\n",
        "\n",
        "$$p(h\\_{1} = 1|\\mathbf{v}) = 0.51$$\n",
        "$$p(h\\_{2} = 1|\\mathbf{v}) = 0.84$$\n",
        "\n",
        "As a result, for each row in the training set, vector of probabilities is generated.  In TensorFlow, this is referred to as a `tensor` with a shape of (1,2).\n",
        "\n",
        "We then turn unit $j$ with probability $p(h\\_{j}|\\mathbf{v})$, and turn it off with probability $1 - p(h\\_{j}|\\mathbf{v})$ by generating a uniform random number vector $\\mathbf{\\xi}$, and comparing it to the activation probability as\n",
        "\n",
        "<center>If $\\xi_j>p(h_{j}|\\mathbf{v})$, then $h_j=1$, else $h_j=0$.</center>\n",
        "\n",
        "Therefore, the conditional probability of a configuration of $\\mathbf{h}$ given $\\mathbf{v}$ (for a training sample) is:\n",
        "\n",
        "$$p(\\mathbf{h} \\mid \\mathbf{v}) = \\prod\\_{j=1}^H p(h_j \\mid \\mathbf{v})$$\n",
        "\n",
        "where $H$ is the number of hidden units.\n"
      ]
    },
    {
      "cell_type": "markdown",
      "metadata": {
        "id": "QQMgDo6hNeav"
      },
      "source": [
        "Before we go further, let's look at a toy example for one case out of all input. Assume that we have a trained RBM, and a very simple input vector, such as \\[1.0, 0.0, 0.0, 1.0, 0.0, 0.0, 0.0].\\\n",
        "Let's see what the output of forward pass would look like:\n"
      ]
    },
    {
      "cell_type": "code",
      "metadata": {
        "colab": {
          "base_uri": "https://localhost:8080/"
        },
        "id": "ebA_rdC4Neaw",
        "outputId": "eb677fa8-04ef-4e52-d1a8-2af631e78e6d"
      },
      "source": [
        "X = tf.constant([[1.0, 0.0, 0.0, 1.0, 0.0, 0.0, 0.0]], tf.float32)\n",
        "\n",
        "v_state = X\n",
        "print (\"Input: \", v_state)\n",
        "\n",
        "h_bias = tf.constant([0.1, 0.1])\n",
        "print (\"hb: \", h_bias)\n",
        "print (\"w: \", W)\n",
        "\n",
        "# Calculate the probabilities of turning the hidden units on:\n",
        "h_prob = tf.nn.sigmoid(tf.matmul(v_state, W) + h_bias)  #probabilities of the hidden units\n",
        "print (\"p(h|v): \", h_prob)\n",
        "\n",
        "# Draw samples from the distribution:\n",
        "h_state = tf.nn.relu(tf.sign(h_prob - tf.random.uniform(tf.shape(h_prob)))) #states\n",
        "print (\"h0 states:\", h_state)"
      ],
      "execution_count": 7,
      "outputs": [
        {
          "output_type": "stream",
          "text": [
            "Input:  tf.Tensor([[1. 0. 0. 1. 0. 0. 0.]], shape=(1, 7), dtype=float32)\n",
            "hb:  tf.Tensor([0.1 0.1], shape=(2,), dtype=float32)\n",
            "w:  tf.Tensor(\n",
            "[[-0.7588633   0.29710558]\n",
            " [ 1.32178     1.1028905 ]\n",
            " [-0.18807843 -1.6830659 ]\n",
            " [ 2.2075412   1.4338661 ]\n",
            " [ 0.12859729  1.2315072 ]\n",
            " [-2.1881711   1.2183179 ]\n",
            " [ 0.0353384   0.9136827 ]], shape=(7, 2), dtype=float32)\n",
            "p(h|v):  tf.Tensor([[0.82472277 0.8618774 ]], shape=(1, 2), dtype=float32)\n",
            "h0 states: tf.Tensor([[1. 1.]], shape=(1, 2), dtype=float32)\n"
          ],
          "name": "stdout"
        }
      ]
    },
    {
      "cell_type": "markdown",
      "metadata": {
        "id": "hr06XE3hNeax"
      },
      "source": [
        "<b>Phase 2) Backward Pass (Reconstruction):</b>\n",
        "The RBM reconstructs data by making several forward and backward passes between the visible and hidden layers.\n",
        "\n",
        "So, in the second phase (i.e. reconstruction phase), the samples from the hidden layer (i.e. $\\mathbf h$) becomes the input in the backward pass. The same weight matrix and visible layer biases are used to passed to the sigmoid function. The reproduced output is a reconstruction which is an approximation of the original input.\n"
      ]
    },
    {
      "cell_type": "code",
      "metadata": {
        "colab": {
          "base_uri": "https://localhost:8080/"
        },
        "id": "vk8d4vA5Neay",
        "outputId": "f27043cf-cd2d-4e97-e5be-149ee0c3a626"
      },
      "source": [
        "vb = tf.constant([0.1, 0.2, 0.1, 0.1, 0.1, 0.2, 0.1])\n",
        "print (\"b: \", vb)\n",
        "v_prob = tf.nn.sigmoid(tf.matmul(h_state, tf.transpose(W)) + vb)\n",
        "print (\"p(vi∣h): \", v_prob)\n",
        "v_state = tf.nn.relu(tf.sign(v_prob - tf.random.uniform(tf.shape(v_prob))))\n",
        "print (\"v probability states: \", v_state)"
      ],
      "execution_count": 8,
      "outputs": [
        {
          "output_type": "stream",
          "text": [
            "b:  tf.Tensor([0.1 0.2 0.1 0.1 0.1 0.2 0.1], shape=(7,), dtype=float32)\n",
            "p(vi∣h):  tf.Tensor(\n",
            "[[0.4105341  0.93243253 0.14540009 0.9768289  0.8115486  0.31651086\n",
            "  0.7405869 ]], shape=(1, 7), dtype=float32)\n",
            "v probability states:  tf.Tensor([[0. 1. 0. 1. 1. 0. 1.]], shape=(1, 7), dtype=float32)\n"
          ],
          "name": "stdout"
        }
      ]
    },
    {
      "cell_type": "markdown",
      "metadata": {
        "id": "6AMyexsWNeaz"
      },
      "source": [
        "RBM learns a probability distribution over the input, and then, after being trained, the RBM can generate new samples from the learned probability distribution. As you know, <b>probability distribution</b>, is a mathematical function that provides the probabilities of occurrence of different possible outcomes in an experiment.\n",
        "\n",
        "The (conditional) probability distribution over the visible units v is given by\n",
        "\n",
        "$$p(\\mathbf{v} \\mid \\mathbf{h}) = \\prod\\_{i=1}^V p(v_i \\mid \\mathbf{h}),$$\n",
        "\n",
        "where,\n",
        "\n",
        "$$p(v_i \\mid \\mathbf{h}) = \\sigma\\left(\\sum\\_{j=1}^H W\\_{ji} h_j + v\\_{bias} \\right)$$\n",
        "\n",
        "so, given current state of hidden units and weights, what is the probability of generating \\[1. 0. 0. 1. 0. 0. 0.] in reconstruction phase, based on the above <b>probability distribution</b> function?\n"
      ]
    },
    {
      "cell_type": "code",
      "metadata": {
        "colab": {
          "base_uri": "https://localhost:8080/"
        },
        "id": "S8beprAwNea0",
        "outputId": "df91d9b5-89ae-4b10-ba1a-033184537a91"
      },
      "source": [
        "inp = X\n",
        "print(\"input X:\" , inp.numpy())\n",
        "\n",
        "print(\"probablity vector:\" , v_prob[0].numpy())\n",
        "v_probability = 1\n",
        "\n",
        "for elm, p in zip(inp[0],v_prob[0]) :\n",
        "    if elm ==1:\n",
        "        v_probability *= p\n",
        "    else:\n",
        "        v_probability *= (1-p)\n",
        "\n",
        "print(\"probability of generating X: \" , v_probability.numpy())"
      ],
      "execution_count": 9,
      "outputs": [
        {
          "output_type": "stream",
          "text": [
            "input X: [[1. 0. 0. 1. 0. 0. 0.]]\n",
            "probablity vector: [0.4105341  0.93243253 0.14540009 0.9768289  0.8115486  0.31651086\n",
            " 0.7405869 ]\n",
            "probability of generating X:  0.000773733\n"
          ],
          "name": "stdout"
        }
      ]
    },
    {
      "cell_type": "markdown",
      "metadata": {
        "id": "fBFITmOWNea1"
      },
      "source": [
        "How similar are vectors $\\mathbf{x}$ and $\\mathbf{v}$? Of course, the reconstructed values most likely will not look anything like the input vector, because our network has not been trained yet. Our objective is to train the model in such a way that the input vector and reconstructed vector to be same. Therefore, based on how different the input values look to the ones that we just reconstructed, the weights are adjusted.\n"
      ]
    },
    {
      "cell_type": "markdown",
      "metadata": {
        "id": "eJipiLBBNea2"
      },
      "source": [
        "<hr>\n"
      ]
    },
    {
      "cell_type": "markdown",
      "metadata": {
        "id": "Cr9lot4hNea3"
      },
      "source": [
        "<h2>MNIST</h2>\n"
      ]
    },
    {
      "cell_type": "markdown",
      "metadata": {
        "id": "FarUgYMyNea3"
      },
      "source": [
        "We will be using the MNIST dataset to practice the usage of RBMs. The following cell loads the MNIST dataset.\n"
      ]
    },
    {
      "cell_type": "code",
      "metadata": {
        "colab": {
          "base_uri": "https://localhost:8080/"
        },
        "id": "rSVzspJ1Nea3",
        "outputId": "e6c1557f-a783-4cb4-cf9f-be27ffcb2a69"
      },
      "source": [
        "#loading training and test data\n",
        "mnist = tf.keras.datasets.mnist\n",
        "(trX, trY), (teX, teY) = mnist.load_data()\n",
        "\n",
        "# showing an example of the Flatten class and operation\n",
        "from tensorflow.keras.layers import Flatten\n",
        "flatten = Flatten(dtype='float32')\n",
        "trX = flatten(trX/255.0)\n",
        "trY = flatten(trY/255.0)"
      ],
      "execution_count": 10,
      "outputs": [
        {
          "output_type": "stream",
          "text": [
            "Downloading data from https://storage.googleapis.com/tensorflow/tf-keras-datasets/mnist.npz\n",
            "11493376/11490434 [==============================] - 0s 0us/step\n"
          ],
          "name": "stdout"
        }
      ]
    },
    {
      "cell_type": "markdown",
      "metadata": {
        "id": "gQlNGzYDNea3"
      },
      "source": [
        "Lets look at the dimension of the images.\n"
      ]
    },
    {
      "cell_type": "markdown",
      "metadata": {
        "id": "P_goxGirNea5"
      },
      "source": [
        "MNIST images have 784 pixels, so the visible layer must have 784 input nodes.  For our case, we'll use 50 nodes in the hidden layer, so i = 50.\n"
      ]
    },
    {
      "cell_type": "code",
      "metadata": {
        "collapsed": true,
        "jupyter": {
          "outputs_hidden": true
        },
        "id": "_w63ONplNea5"
      },
      "source": [
        "vb = tf.Variable(tf.zeros([784]), tf.float32)\n",
        "hb = tf.Variable(tf.zeros([50]), tf.float32)"
      ],
      "execution_count": 11,
      "outputs": []
    },
    {
      "cell_type": "markdown",
      "metadata": {
        "id": "uHDsY6kPNea6"
      },
      "source": [
        "Let $\\mathbf W$ be the Tensor of 784x50 (784 - number of visible neurons, 50 - number of hidden neurons) that represents weights between the neurons.\n"
      ]
    },
    {
      "cell_type": "code",
      "metadata": {
        "collapsed": true,
        "jupyter": {
          "outputs_hidden": true
        },
        "id": "v_y0DxI6NebL"
      },
      "source": [
        "W = tf.Variable(tf.zeros([784,50]), tf.float32)"
      ],
      "execution_count": 12,
      "outputs": []
    },
    {
      "cell_type": "markdown",
      "metadata": {
        "id": "MSqFi2eJNebN"
      },
      "source": [
        "Lets define the visible layer:\n"
      ]
    },
    {
      "cell_type": "code",
      "metadata": {
        "colab": {
          "base_uri": "https://localhost:8080/"
        },
        "id": "SWQR9I6fNebP",
        "outputId": "9889b910-526e-4848-81e7-67b717eb5a7b"
      },
      "source": [
        "v0_state = tf.Variable(tf.zeros([784]), tf.float32)\n",
        "\n",
        "#testing to see if the matrix product works\n",
        "tf.matmul( [v0_state], W)"
      ],
      "execution_count": 13,
      "outputs": [
        {
          "output_type": "execute_result",
          "data": {
            "text/plain": [
              "<tf.Tensor: shape=(1, 50), dtype=float32, numpy=\n",
              "array([[0., 0., 0., 0., 0., 0., 0., 0., 0., 0., 0., 0., 0., 0., 0., 0.,\n",
              "        0., 0., 0., 0., 0., 0., 0., 0., 0., 0., 0., 0., 0., 0., 0., 0.,\n",
              "        0., 0., 0., 0., 0., 0., 0., 0., 0., 0., 0., 0., 0., 0., 0., 0.,\n",
              "        0., 0.]], dtype=float32)>"
            ]
          },
          "metadata": {},
          "execution_count": 13
        }
      ]
    },
    {
      "cell_type": "markdown",
      "metadata": {
        "id": "XR0bBMFpNebQ"
      },
      "source": [
        "Now, we can define hidden layer:\n"
      ]
    },
    {
      "cell_type": "code",
      "metadata": {
        "colab": {
          "base_uri": "https://localhost:8080/"
        },
        "id": "AlfwjaddNebR",
        "outputId": "1acf7619-79ae-47dc-ff50-c52757ba74b2"
      },
      "source": [
        "#computing the hidden nodes probability vector and checking shape\n",
        "h0_prob = tf.nn.sigmoid(tf.matmul([v0_state], W) + hb)  #probabilities of the hidden units\n",
        "print(\"h0_state shape: \" , tf.shape(h0_prob))\n",
        "\n",
        "#defining a function to return only the generated hidden states \n",
        "def hidden_layer(v0_state, W, hb):\n",
        "    h0_prob = tf.nn.sigmoid(tf.matmul([v0_state], W) + hb)  #probabilities of the hidden units\n",
        "    h0_state = tf.nn.relu(tf.sign(h0_prob - tf.random.uniform(tf.shape(h0_prob)))) #sample_h_given_X\n",
        "    return h0_state\n",
        "\n",
        "\n",
        "h0_state = hidden_layer(v0_state, W, hb)\n",
        "print(\"first 15 hidden states: \", h0_state[0][0:15])"
      ],
      "execution_count": 14,
      "outputs": [
        {
          "output_type": "stream",
          "text": [
            "h0_state shape:  tf.Tensor([ 1 50], shape=(2,), dtype=int32)\n",
            "first 15 hidden states:  tf.Tensor([1. 1. 0. 0. 1. 1. 1. 1. 1. 1. 0. 0. 0. 1. 0.], shape=(15,), dtype=float32)\n"
          ],
          "name": "stdout"
        }
      ]
    },
    {
      "cell_type": "markdown",
      "metadata": {
        "id": "rVJ5lg3zNebR"
      },
      "source": [
        "Now, we define reconstruction part:\n"
      ]
    },
    {
      "cell_type": "code",
      "metadata": {
        "colab": {
          "base_uri": "https://localhost:8080/"
        },
        "id": "lOClwwDHNebS",
        "outputId": "4a09a91b-dc1f-42c0-e229-7df421e51656"
      },
      "source": [
        "def reconstructed_output(h0_state, W, vb):\n",
        "    v1_prob = tf.nn.sigmoid(tf.matmul(h0_state, tf.transpose(W)) + vb) \n",
        "    v1_state = tf.nn.relu(tf.sign(v1_prob - tf.random.uniform(tf.shape(v1_prob)))) #sample_v_given_h\n",
        "    return v1_state[0]\n",
        "\n",
        "v1_state = reconstructed_output(h0_state, W, vb)\n",
        "print(\"hidden state shape: \", h0_state.shape)\n",
        "print(\"v0 state shape:  \", v0_state.shape)\n",
        "print(\"v1 state shape:  \", v1_state.shape)"
      ],
      "execution_count": 15,
      "outputs": [
        {
          "output_type": "stream",
          "text": [
            "hidden state shape:  (1, 50)\n",
            "v0 state shape:   (784,)\n",
            "v1 state shape:   (784,)\n"
          ],
          "name": "stdout"
        }
      ]
    },
    {
      "cell_type": "markdown",
      "metadata": {
        "id": "lGBO6_-bNebT"
      },
      "source": [
        "<h3>What is the objective function?</h3>\n",
        "\n",
        "<b>Goal</b>: Maximize the likelihood of our data being drawn from that distribution\n",
        "\n",
        "<b>Calculate error:</b>\\\n",
        "In each epoch, we compute the \"error\" as a sum of the squared difference between step 1 and step n,\n",
        "e.g the error shows the difference between the data and its reconstruction.\n",
        "\n",
        "<b>Note:</b> tf.reduce_mean computes the mean of elements across dimensions of a tensor.\n"
      ]
    },
    {
      "cell_type": "code",
      "metadata": {
        "colab": {
          "base_uri": "https://localhost:8080/"
        },
        "id": "QfMw5KowNebT",
        "outputId": "c2268710-2dd2-4942-a347-b2cf9b74436a"
      },
      "source": [
        "def error(v0_state, v1_state):\n",
        "    return tf.reduce_mean(tf.square(v0_state - v1_state))\n",
        "\n",
        "err = tf.reduce_mean(tf.square(v0_state - v1_state))\n",
        "print(\"error\" , err.numpy())"
      ],
      "execution_count": 16,
      "outputs": [
        {
          "output_type": "stream",
          "text": [
            "error 0.4744898\n"
          ],
          "name": "stdout"
        }
      ]
    },
    {
      "cell_type": "markdown",
      "metadata": {
        "id": "OLqCp2_dNebU"
      },
      "source": [
        "<a id=\"ref4\"></a>\n",
        "\n",
        "<h3>Training the Model</h3>\n",
        "<b>Warning...</b> The following part is math-heavy, but you can skip it if you just want to run the cells in the next section.\n",
        "\n",
        "As mentioned, we want to give a high probability to the input data we train on. So, in order to train an RBM, we have to maximize the product of probabilities assigned to all rows $\\mathbf{v}$ (images) in the training set $\\mathbf{V}$ (a matrix, where each row of it is treated as a visible vector $\\mathbf{v}$)\n",
        "\n",
        "$$\\arg \\max_W \\prod\\_{\\mathbf{v}\\in\\mathbf{V}\\_T} p(\\mathbf{v})$$\n",
        "\n",
        "which is equivalent to maximizing the expectation of the log probability, given as\n",
        "\n",
        "$$\\arg\\max_W\\left\\[ \\mathbb{E} \\left(\\prod\\_{\\mathbf v\\in \\mathbf V}\\text{log} \\left(p(\\mathbf v)\\right) \\right) \\right].$$\n",
        "\n",
        "So, we have to update the weights $W\\_{ij}$  to increase $p(\\mathbf{v})$ for all $\\mathbf{v}$ in our training data during training. So we have to calculate the derivative:\n",
        "\n",
        "$$\\frac{\\partial \\log p(\\mathbf v)}{\\partial W\\_{ij}}$$\n",
        "\n",
        "This cannot be easily done by typical <b>gradient descent (SGD)</b>, so we can use another approach, which has 2 steps:\n",
        "\n",
        "<ol>\n",
        "    <li>Gibbs Sampling</li>\n",
        "    <li>Contrastive Divergence</li>\n",
        "</ol>    \n",
        "\n",
        "<h3>Gibbs Sampling</h3>   \n",
        "\n",
        "<h4>Gibbs Sampling Step 1</h4> \n",
        "Given an input vector $\\mathbf{v}$, we are using $p(\\mathbf{h}|\\mathbf{v})$ to predict the hidden values $\\mathbf{h}$. \n",
        "  $$p({h_j}|\\mathbf v)= \\sigma\\left(\\sum_{i=1}^V W_{ij} v_i + h_{bias} \\right)$$\n",
        "The samples are generated from this distribution by generating the uniform random variate vector $\\mathbf{\\xi} \\sim U[0,1]$ of length $H$ and comparing to the computed probabilities as\n",
        "\n",
        "<center>If $\\xi_j>p(h_{j}|\\mathbf{v})$, then $h_j=1$, else $h_j=0$.</center>\n",
        "\n",
        "<h4>Gibbs Sampling Step 2</h4> \n",
        "Then, knowing the hidden values, we use $p(\\mathbf v| \\mathbf h)$ for reconstructing of new input values v. \n",
        "\n",
        "$$p({v_i}|\\mathbf h)= \\sigma\\left(\\sum\\_{j=1}^H W^{T}*{ij} h_j + v*{bias} \\right)$$\n",
        "\n",
        "The samples are generated from this distribution by generating a uniform random variate vector $\\mathbf{\\xi} \\sim U\\[0,1]$ of length $V$ and comparing to the computed probabilities as\n",
        "\n",
        "<center>If $\\xi_i>p(v_{i}|\\mathbf{h})$, then $v_i=1$, else $v_i=0$.</center>\n",
        "\n",
        "Let vectors $\\mathbf v_k$ and $\\mathbf h_k$ be for the $k$th iteration.  In general, the $kth$ state is generrated as:\n",
        "\n",
        "<b>Iteration</b> $k$:\n",
        "\n",
        "$$\\mathbf v\\_{k-1} \\Rightarrow p(\\mathbf h\\_{k-1}|\\mathbf v\\_{k-1})\\Rightarrow \\mathbf h\\_{k-1}\\Rightarrow p(\\mathbf v\\_{k}|\\mathbf h\\_{k-1})\\Rightarrow \\mathbf v_k$$\n",
        "\n",
        "<h3>Contrastive Divergence (CD-k)</h3>\n",
        "The update of the weight matrix is done during the Contrastive Divergence step. \n",
        "\n",
        "Vectors v0 and vk are used to calculate the activation probabilities for hidden values h0 and hk. The difference between the outer products of those probabilities with input vectors v0 and vk results in the update matrix:\n",
        "\n",
        "$$\\Delta \\mathbf W_k =\\mathbf v_k \\otimes \\mathbf h_k - \\mathbf v\\_{k-1} \\otimes \\mathbf h\\_{k-1}$$\n",
        "\n",
        "Contrastive Divergence is actually matrix of values that is computed and used to adjust values of the $\\mathbf W$ matrix. Changing $\\mathbf W$ incrementally leads to training of the  $\\mathbf W$ values. Then, on each step (epoch), $\\mathbf W$ is updated using the following:\n",
        "\n",
        "$$\\mathbf W_k = \\mathbf W\\_{k-1} + \\alpha \\* \\Delta \\mathbf W_k$$\n",
        "\n",
        "Reconstruction steps:\n",
        "\n",
        "<ul>\n",
        "    <li> Get one data point from data set, like <i>x</i>, and pass it through the following steps:</li>\n",
        "\n",
        "<b>Iteration</b> $k=1$:\n",
        "\n",
        "Sampling (starting with input image)\n",
        "$$\\mathbf x = \\mathbf v\\_0 \\Rightarrow p(\\mathbf h\\_0|\\mathbf v\\_0)\\Rightarrow \\mathbf h\\_0 \\Rightarrow p(\\mathbf v\\_1|\\mathbf h\\_0)\\Rightarrow \\mathbf v\\_1$$\\\n",
        "followed by the CD-k step\n",
        "$$\\Delta \\mathbf W\\_1 =\\mathbf v\\_1 \\otimes \\mathbf h\\_1 - \\mathbf v\\_{0} \\otimes \\mathbf h\\_{0}$$\\\n",
        "$$\\mathbf W\\_1 = \\mathbf W\\_{0} + \\alpha \\* \\Delta \\mathbf W\\_1$$\n",
        "\n",
        "<li> $\\mathbf v_1$ is the reconstruction of $\\mathbf x$ sent to the next iteration).</li>\n",
        "\n",
        "<b>Iteration</b> $k=2$:\n",
        "\n",
        "Sampling (starting with $\\mathbf v\\_1$)\n",
        "\n",
        "$$\\mathbf v\\_1 \\Rightarrow p(\\mathbf h\\_1|\\mathbf v\\_1)\\Rightarrow \\mathbf h\\_1\\Rightarrow p(\\mathbf v\\_2|\\mathbf h\\_1)\\Rightarrow \\mathbf v\\_2$$\n",
        "\n",
        "followed by the CD-k step\n",
        "$$\\Delta \\mathbf W\\_2 =\\mathbf v\\_2 \\otimes \\mathbf h\\_2 - \\mathbf v\\_{1} \\otimes \\mathbf h\\_{1}$$\\\n",
        "$$\\mathbf W\\_2 = \\mathbf W\\_{1} + \\alpha \\* \\Delta \\mathbf W\\_2$$\n",
        "\n",
        "<li> $\\mathbf v_2$ is the reconstruction of $\\mathbf v_1$ sent to the next iteration).</li>    \n",
        "\n",
        "<b>Iteration</b> $k=K$:\n",
        "\n",
        "Sampling (starting with $\\mathbf v\\_{K-1}$)\n",
        "\n",
        "$$\\mathbf v\\_{K-1} \\Rightarrow p(\\mathbf h\\_{K-1}|\\mathbf v\\_{K-1})\\Rightarrow \\mathbf h\\_{K-1}\\Rightarrow p(\\mathbf v_K|\\mathbf h\\_{K-1})\\Rightarrow \\mathbf v_K$$\n",
        "\n",
        "followed by the CD-k step\n",
        "$$\\Delta \\mathbf W_K =\\mathbf v_K \\otimes \\mathbf h_K - \\mathbf v\\_{K-1} \\otimes \\mathbf h\\_{K-1}$$\\\n",
        "$$\\mathbf W_K = \\mathbf W\\_{K-1} + \\alpha \\* \\Delta \\mathbf W_K$$\n",
        "\n",
        "<b>What is $\\alpha$?</b>\\\n",
        "Here, alpha is some small step size, and is also known as the \"learning rate\".\n"
      ]
    },
    {
      "cell_type": "markdown",
      "metadata": {
        "id": "ySNmUrqSNebV"
      },
      "source": [
        "$K$ is adjustable, and good performance can be achieved with $K=1$, so that we just take one set of sampling steps per image.\n"
      ]
    },
    {
      "cell_type": "code",
      "metadata": {
        "id": "Ds1VJdQnNebV"
      },
      "source": [
        "h1_prob = tf.nn.sigmoid(tf.matmul([v1_state], W) + hb)\n",
        "h1_state = tf.nn.relu(tf.sign(h1_prob - tf.random.uniform(tf.shape(h1_prob)))) #sample_h_given_X"
      ],
      "execution_count": 17,
      "outputs": []
    },
    {
      "cell_type": "markdown",
      "metadata": {
        "id": "45EZ2pVdNebX"
      },
      "source": [
        "Lets look at the error of the first run:\n"
      ]
    },
    {
      "cell_type": "code",
      "metadata": {
        "colab": {
          "base_uri": "https://localhost:8080/"
        },
        "id": "wYLhWRzUNebX",
        "outputId": "4e447f37-a048-41c4-9044-f09d92b9629a"
      },
      "source": [
        "print(\"error: \", error(v0_state, v1_state))"
      ],
      "execution_count": 18,
      "outputs": [
        {
          "output_type": "stream",
          "text": [
            "error:  tf.Tensor(0.4744898, shape=(), dtype=float32)\n"
          ],
          "name": "stdout"
        }
      ]
    },
    {
      "cell_type": "code",
      "metadata": {
        "colab": {
          "base_uri": "https://localhost:8080/"
        },
        "id": "LS-56ThsNebY",
        "outputId": "82317c26-1cad-4941-9d72-ae55eeed280e"
      },
      "source": [
        "#Parameters\n",
        "alpha = 0.01\n",
        "epochs = 1\n",
        "batchsize = 200\n",
        "weights = []\n",
        "errors = []\n",
        "batch_number = 0\n",
        "K = 1\n",
        "\n",
        "#creating datasets\n",
        "train_ds = \\\n",
        "    tf.data.Dataset.from_tensor_slices((trX, trY)).batch(batchsize)\n",
        "\n",
        "for epoch in range(epochs):\n",
        "    for batch_x, batch_y in train_ds:\n",
        "        batch_number += 1\n",
        "        for i_sample in range(batchsize):           \n",
        "            for k in range(K):\n",
        "                v0_state = batch_x[i_sample]\n",
        "                h0_state = hidden_layer(v0_state, W, hb)\n",
        "                v1_state = reconstructed_output(h0_state, W, vb)\n",
        "                h1_state = hidden_layer(v1_state, W, hb)\n",
        "\n",
        "                delta_W = tf.matmul(tf.transpose([v0_state]), h0_state) - tf.matmul(tf.transpose([v1_state]), h1_state)\n",
        "                W = W + alpha * delta_W\n",
        "\n",
        "                vb = vb + alpha * tf.reduce_mean(v0_state - v1_state, 0)\n",
        "                hb = hb + alpha * tf.reduce_mean(h0_state - h1_state, 0) \n",
        "\n",
        "                v0_state = v1_state\n",
        "\n",
        "            if i_sample == batchsize-1:\n",
        "                err = error(batch_x[i_sample], v1_state)\n",
        "                errors.append(err)\n",
        "                weights.append(W)\n",
        "                print ( 'Epoch: %d' % epoch, \n",
        "                       \"batch #: %i \" % batch_number, \"of %i\" % int(60e3/batchsize), \n",
        "                       \"sample #: %i\" % i_sample,\n",
        "                       'reconstruction error: %f' % err)\n",
        "\n"
      ],
      "execution_count": 19,
      "outputs": [
        {
          "output_type": "stream",
          "text": [
            "Epoch: 0 batch #: 1  of 300 sample #: 199 reconstruction error: 0.179174\n",
            "Epoch: 0 batch #: 2  of 300 sample #: 199 reconstruction error: 0.219465\n",
            "Epoch: 0 batch #: 3  of 300 sample #: 199 reconstruction error: 0.110551\n",
            "Epoch: 0 batch #: 4  of 300 sample #: 199 reconstruction error: 0.131064\n",
            "Epoch: 0 batch #: 5  of 300 sample #: 199 reconstruction error: 0.104440\n",
            "Epoch: 0 batch #: 6  of 300 sample #: 199 reconstruction error: 0.186614\n",
            "Epoch: 0 batch #: 7  of 300 sample #: 199 reconstruction error: 0.093026\n",
            "Epoch: 0 batch #: 8  of 300 sample #: 199 reconstruction error: 0.119679\n",
            "Epoch: 0 batch #: 9  of 300 sample #: 199 reconstruction error: 0.076693\n",
            "Epoch: 0 batch #: 10  of 300 sample #: 199 reconstruction error: 0.156433\n",
            "Epoch: 0 batch #: 11  of 300 sample #: 199 reconstruction error: 0.091961\n",
            "Epoch: 0 batch #: 12  of 300 sample #: 199 reconstruction error: 0.159020\n",
            "Epoch: 0 batch #: 13  of 300 sample #: 199 reconstruction error: 0.073362\n",
            "Epoch: 0 batch #: 14  of 300 sample #: 199 reconstruction error: 0.093819\n",
            "Epoch: 0 batch #: 15  of 300 sample #: 199 reconstruction error: 0.105718\n",
            "Epoch: 0 batch #: 16  of 300 sample #: 199 reconstruction error: 0.102125\n",
            "Epoch: 0 batch #: 17  of 300 sample #: 199 reconstruction error: 0.093945\n",
            "Epoch: 0 batch #: 18  of 300 sample #: 199 reconstruction error: 0.130084\n",
            "Epoch: 0 batch #: 19  of 300 sample #: 199 reconstruction error: 0.148429\n",
            "Epoch: 0 batch #: 20  of 300 sample #: 199 reconstruction error: 0.094748\n",
            "Epoch: 0 batch #: 21  of 300 sample #: 199 reconstruction error: 0.093005\n",
            "Epoch: 0 batch #: 22  of 300 sample #: 199 reconstruction error: 0.078254\n",
            "Epoch: 0 batch #: 23  of 300 sample #: 199 reconstruction error: 0.106773\n",
            "Epoch: 0 batch #: 24  of 300 sample #: 199 reconstruction error: 0.118362\n",
            "Epoch: 0 batch #: 25  of 300 sample #: 199 reconstruction error: 0.068062\n",
            "Epoch: 0 batch #: 26  of 300 sample #: 199 reconstruction error: 0.087252\n",
            "Epoch: 0 batch #: 27  of 300 sample #: 199 reconstruction error: 0.107087\n",
            "Epoch: 0 batch #: 28  of 300 sample #: 199 reconstruction error: 0.093339\n",
            "Epoch: 0 batch #: 29  of 300 sample #: 199 reconstruction error: 0.103937\n",
            "Epoch: 0 batch #: 30  of 300 sample #: 199 reconstruction error: 0.075243\n",
            "Epoch: 0 batch #: 31  of 300 sample #: 199 reconstruction error: 0.095855\n",
            "Epoch: 0 batch #: 32  of 300 sample #: 199 reconstruction error: 0.116943\n",
            "Epoch: 0 batch #: 33  of 300 sample #: 199 reconstruction error: 0.060478\n",
            "Epoch: 0 batch #: 34  of 300 sample #: 199 reconstruction error: 0.076861\n",
            "Epoch: 0 batch #: 35  of 300 sample #: 199 reconstruction error: 0.062235\n",
            "Epoch: 0 batch #: 36  of 300 sample #: 199 reconstruction error: 0.080072\n",
            "Epoch: 0 batch #: 37  of 300 sample #: 199 reconstruction error: 0.062383\n",
            "Epoch: 0 batch #: 38  of 300 sample #: 199 reconstruction error: 0.067207\n",
            "Epoch: 0 batch #: 39  of 300 sample #: 199 reconstruction error: 0.098454\n",
            "Epoch: 0 batch #: 40  of 300 sample #: 199 reconstruction error: 0.113875\n",
            "Epoch: 0 batch #: 41  of 300 sample #: 199 reconstruction error: 0.073746\n",
            "Epoch: 0 batch #: 42  of 300 sample #: 199 reconstruction error: 0.061588\n",
            "Epoch: 0 batch #: 43  of 300 sample #: 199 reconstruction error: 0.135903\n",
            "Epoch: 0 batch #: 44  of 300 sample #: 199 reconstruction error: 0.078448\n",
            "Epoch: 0 batch #: 45  of 300 sample #: 199 reconstruction error: 0.055335\n",
            "Epoch: 0 batch #: 46  of 300 sample #: 199 reconstruction error: 0.033382\n",
            "Epoch: 0 batch #: 47  of 300 sample #: 199 reconstruction error: 0.044867\n",
            "Epoch: 0 batch #: 48  of 300 sample #: 199 reconstruction error: 0.037155\n",
            "Epoch: 0 batch #: 49  of 300 sample #: 199 reconstruction error: 0.114059\n",
            "Epoch: 0 batch #: 50  of 300 sample #: 199 reconstruction error: 0.054164\n",
            "Epoch: 0 batch #: 51  of 300 sample #: 199 reconstruction error: 0.064681\n",
            "Epoch: 0 batch #: 52  of 300 sample #: 199 reconstruction error: 0.033119\n",
            "Epoch: 0 batch #: 53  of 300 sample #: 199 reconstruction error: 0.105177\n",
            "Epoch: 0 batch #: 54  of 300 sample #: 199 reconstruction error: 0.058297\n",
            "Epoch: 0 batch #: 55  of 300 sample #: 199 reconstruction error: 0.111750\n",
            "Epoch: 0 batch #: 56  of 300 sample #: 199 reconstruction error: 0.062708\n",
            "Epoch: 0 batch #: 57  of 300 sample #: 199 reconstruction error: 0.058319\n",
            "Epoch: 0 batch #: 58  of 300 sample #: 199 reconstruction error: 0.080855\n",
            "Epoch: 0 batch #: 59  of 300 sample #: 199 reconstruction error: 0.054240\n",
            "Epoch: 0 batch #: 60  of 300 sample #: 199 reconstruction error: 0.098446\n",
            "Epoch: 0 batch #: 61  of 300 sample #: 199 reconstruction error: 0.075155\n",
            "Epoch: 0 batch #: 62  of 300 sample #: 199 reconstruction error: 0.070144\n",
            "Epoch: 0 batch #: 63  of 300 sample #: 199 reconstruction error: 0.058617\n",
            "Epoch: 0 batch #: 64  of 300 sample #: 199 reconstruction error: 0.081136\n",
            "Epoch: 0 batch #: 65  of 300 sample #: 199 reconstruction error: 0.077751\n",
            "Epoch: 0 batch #: 66  of 300 sample #: 199 reconstruction error: 0.054398\n",
            "Epoch: 0 batch #: 67  of 300 sample #: 199 reconstruction error: 0.050615\n",
            "Epoch: 0 batch #: 68  of 300 sample #: 199 reconstruction error: 0.062093\n",
            "Epoch: 0 batch #: 69  of 300 sample #: 199 reconstruction error: 0.070977\n",
            "Epoch: 0 batch #: 70  of 300 sample #: 199 reconstruction error: 0.095473\n",
            "Epoch: 0 batch #: 71  of 300 sample #: 199 reconstruction error: 0.095413\n",
            "Epoch: 0 batch #: 72  of 300 sample #: 199 reconstruction error: 0.072385\n",
            "Epoch: 0 batch #: 73  of 300 sample #: 199 reconstruction error: 0.073653\n",
            "Epoch: 0 batch #: 74  of 300 sample #: 199 reconstruction error: 0.088532\n",
            "Epoch: 0 batch #: 75  of 300 sample #: 199 reconstruction error: 0.043886\n",
            "Epoch: 0 batch #: 76  of 300 sample #: 199 reconstruction error: 0.075125\n",
            "Epoch: 0 batch #: 77  of 300 sample #: 199 reconstruction error: 0.099798\n",
            "Epoch: 0 batch #: 78  of 300 sample #: 199 reconstruction error: 0.085747\n",
            "Epoch: 0 batch #: 79  of 300 sample #: 199 reconstruction error: 0.124133\n",
            "Epoch: 0 batch #: 80  of 300 sample #: 199 reconstruction error: 0.025779\n",
            "Epoch: 0 batch #: 81  of 300 sample #: 199 reconstruction error: 0.060103\n",
            "Epoch: 0 batch #: 82  of 300 sample #: 199 reconstruction error: 0.051890\n",
            "Epoch: 0 batch #: 83  of 300 sample #: 199 reconstruction error: 0.068582\n",
            "Epoch: 0 batch #: 84  of 300 sample #: 199 reconstruction error: 0.076077\n",
            "Epoch: 0 batch #: 85  of 300 sample #: 199 reconstruction error: 0.044833\n",
            "Epoch: 0 batch #: 86  of 300 sample #: 199 reconstruction error: 0.084768\n",
            "Epoch: 0 batch #: 87  of 300 sample #: 199 reconstruction error: 0.067032\n",
            "Epoch: 0 batch #: 88  of 300 sample #: 199 reconstruction error: 0.028912\n",
            "Epoch: 0 batch #: 89  of 300 sample #: 199 reconstruction error: 0.059863\n",
            "Epoch: 0 batch #: 90  of 300 sample #: 199 reconstruction error: 0.068177\n",
            "Epoch: 0 batch #: 91  of 300 sample #: 199 reconstruction error: 0.066408\n",
            "Epoch: 0 batch #: 92  of 300 sample #: 199 reconstruction error: 0.072931\n",
            "Epoch: 0 batch #: 93  of 300 sample #: 199 reconstruction error: 0.093879\n",
            "Epoch: 0 batch #: 94  of 300 sample #: 199 reconstruction error: 0.124284\n",
            "Epoch: 0 batch #: 95  of 300 sample #: 199 reconstruction error: 0.061549\n",
            "Epoch: 0 batch #: 96  of 300 sample #: 199 reconstruction error: 0.057192\n",
            "Epoch: 0 batch #: 97  of 300 sample #: 199 reconstruction error: 0.104640\n",
            "Epoch: 0 batch #: 98  of 300 sample #: 199 reconstruction error: 0.081036\n",
            "Epoch: 0 batch #: 99  of 300 sample #: 199 reconstruction error: 0.070046\n",
            "Epoch: 0 batch #: 100  of 300 sample #: 199 reconstruction error: 0.095267\n",
            "Epoch: 0 batch #: 101  of 300 sample #: 199 reconstruction error: 0.059792\n",
            "Epoch: 0 batch #: 102  of 300 sample #: 199 reconstruction error: 0.095817\n",
            "Epoch: 0 batch #: 103  of 300 sample #: 199 reconstruction error: 0.071677\n",
            "Epoch: 0 batch #: 104  of 300 sample #: 199 reconstruction error: 0.056802\n",
            "Epoch: 0 batch #: 105  of 300 sample #: 199 reconstruction error: 0.058090\n",
            "Epoch: 0 batch #: 106  of 300 sample #: 199 reconstruction error: 0.113760\n",
            "Epoch: 0 batch #: 107  of 300 sample #: 199 reconstruction error: 0.140214\n",
            "Epoch: 0 batch #: 108  of 300 sample #: 199 reconstruction error: 0.056862\n",
            "Epoch: 0 batch #: 109  of 300 sample #: 199 reconstruction error: 0.110355\n",
            "Epoch: 0 batch #: 110  of 300 sample #: 199 reconstruction error: 0.067580\n",
            "Epoch: 0 batch #: 111  of 300 sample #: 199 reconstruction error: 0.101197\n",
            "Epoch: 0 batch #: 112  of 300 sample #: 199 reconstruction error: 0.045278\n",
            "Epoch: 0 batch #: 113  of 300 sample #: 199 reconstruction error: 0.079661\n",
            "Epoch: 0 batch #: 114  of 300 sample #: 199 reconstruction error: 0.072408\n",
            "Epoch: 0 batch #: 115  of 300 sample #: 199 reconstruction error: 0.065503\n",
            "Epoch: 0 batch #: 116  of 300 sample #: 199 reconstruction error: 0.053921\n",
            "Epoch: 0 batch #: 117  of 300 sample #: 199 reconstruction error: 0.058994\n",
            "Epoch: 0 batch #: 118  of 300 sample #: 199 reconstruction error: 0.087041\n",
            "Epoch: 0 batch #: 119  of 300 sample #: 199 reconstruction error: 0.126424\n",
            "Epoch: 0 batch #: 120  of 300 sample #: 199 reconstruction error: 0.081243\n",
            "Epoch: 0 batch #: 121  of 300 sample #: 199 reconstruction error: 0.051536\n",
            "Epoch: 0 batch #: 122  of 300 sample #: 199 reconstruction error: 0.095935\n",
            "Epoch: 0 batch #: 123  of 300 sample #: 199 reconstruction error: 0.059551\n",
            "Epoch: 0 batch #: 124  of 300 sample #: 199 reconstruction error: 0.094607\n",
            "Epoch: 0 batch #: 125  of 300 sample #: 199 reconstruction error: 0.050018\n",
            "Epoch: 0 batch #: 126  of 300 sample #: 199 reconstruction error: 0.085387\n",
            "Epoch: 0 batch #: 127  of 300 sample #: 199 reconstruction error: 0.089405\n",
            "Epoch: 0 batch #: 128  of 300 sample #: 199 reconstruction error: 0.077956\n",
            "Epoch: 0 batch #: 129  of 300 sample #: 199 reconstruction error: 0.054977\n",
            "Epoch: 0 batch #: 130  of 300 sample #: 199 reconstruction error: 0.083077\n",
            "Epoch: 0 batch #: 131  of 300 sample #: 199 reconstruction error: 0.059691\n",
            "Epoch: 0 batch #: 132  of 300 sample #: 199 reconstruction error: 0.044705\n",
            "Epoch: 0 batch #: 133  of 300 sample #: 199 reconstruction error: 0.064563\n",
            "Epoch: 0 batch #: 134  of 300 sample #: 199 reconstruction error: 0.096592\n",
            "Epoch: 0 batch #: 135  of 300 sample #: 199 reconstruction error: 0.102712\n",
            "Epoch: 0 batch #: 136  of 300 sample #: 199 reconstruction error: 0.090435\n",
            "Epoch: 0 batch #: 137  of 300 sample #: 199 reconstruction error: 0.077099\n",
            "Epoch: 0 batch #: 138  of 300 sample #: 199 reconstruction error: 0.081471\n",
            "Epoch: 0 batch #: 139  of 300 sample #: 199 reconstruction error: 0.083979\n",
            "Epoch: 0 batch #: 140  of 300 sample #: 199 reconstruction error: 0.080458\n",
            "Epoch: 0 batch #: 141  of 300 sample #: 199 reconstruction error: 0.075177\n",
            "Epoch: 0 batch #: 142  of 300 sample #: 199 reconstruction error: 0.073006\n",
            "Epoch: 0 batch #: 143  of 300 sample #: 199 reconstruction error: 0.048433\n",
            "Epoch: 0 batch #: 144  of 300 sample #: 199 reconstruction error: 0.073520\n",
            "Epoch: 0 batch #: 145  of 300 sample #: 199 reconstruction error: 0.090736\n",
            "Epoch: 0 batch #: 146  of 300 sample #: 199 reconstruction error: 0.126679\n",
            "Epoch: 0 batch #: 147  of 300 sample #: 199 reconstruction error: 0.084681\n",
            "Epoch: 0 batch #: 148  of 300 sample #: 199 reconstruction error: 0.077950\n",
            "Epoch: 0 batch #: 149  of 300 sample #: 199 reconstruction error: 0.042011\n",
            "Epoch: 0 batch #: 150  of 300 sample #: 199 reconstruction error: 0.032725\n",
            "Epoch: 0 batch #: 151  of 300 sample #: 199 reconstruction error: 0.111694\n",
            "Epoch: 0 batch #: 152  of 300 sample #: 199 reconstruction error: 0.101466\n",
            "Epoch: 0 batch #: 153  of 300 sample #: 199 reconstruction error: 0.060637\n",
            "Epoch: 0 batch #: 154  of 300 sample #: 199 reconstruction error: 0.089063\n",
            "Epoch: 0 batch #: 155  of 300 sample #: 199 reconstruction error: 0.070541\n",
            "Epoch: 0 batch #: 156  of 300 sample #: 199 reconstruction error: 0.067844\n",
            "Epoch: 0 batch #: 157  of 300 sample #: 199 reconstruction error: 0.095835\n",
            "Epoch: 0 batch #: 158  of 300 sample #: 199 reconstruction error: 0.069589\n",
            "Epoch: 0 batch #: 159  of 300 sample #: 199 reconstruction error: 0.056680\n",
            "Epoch: 0 batch #: 160  of 300 sample #: 199 reconstruction error: 0.067927\n",
            "Epoch: 0 batch #: 161  of 300 sample #: 199 reconstruction error: 0.086581\n",
            "Epoch: 0 batch #: 162  of 300 sample #: 199 reconstruction error: 0.119226\n",
            "Epoch: 0 batch #: 163  of 300 sample #: 199 reconstruction error: 0.042438\n",
            "Epoch: 0 batch #: 164  of 300 sample #: 199 reconstruction error: 0.066015\n",
            "Epoch: 0 batch #: 165  of 300 sample #: 199 reconstruction error: 0.092705\n",
            "Epoch: 0 batch #: 166  of 300 sample #: 199 reconstruction error: 0.052102\n",
            "Epoch: 0 batch #: 167  of 300 sample #: 199 reconstruction error: 0.095993\n",
            "Epoch: 0 batch #: 168  of 300 sample #: 199 reconstruction error: 0.054644\n",
            "Epoch: 0 batch #: 169  of 300 sample #: 199 reconstruction error: 0.038902\n",
            "Epoch: 0 batch #: 170  of 300 sample #: 199 reconstruction error: 0.053942\n",
            "Epoch: 0 batch #: 171  of 300 sample #: 199 reconstruction error: 0.031191\n",
            "Epoch: 0 batch #: 172  of 300 sample #: 199 reconstruction error: 0.046325\n",
            "Epoch: 0 batch #: 173  of 300 sample #: 199 reconstruction error: 0.071138\n",
            "Epoch: 0 batch #: 174  of 300 sample #: 199 reconstruction error: 0.111695\n",
            "Epoch: 0 batch #: 175  of 300 sample #: 199 reconstruction error: 0.074304\n",
            "Epoch: 0 batch #: 176  of 300 sample #: 199 reconstruction error: 0.050903\n",
            "Epoch: 0 batch #: 177  of 300 sample #: 199 reconstruction error: 0.035252\n",
            "Epoch: 0 batch #: 178  of 300 sample #: 199 reconstruction error: 0.106871\n",
            "Epoch: 0 batch #: 179  of 300 sample #: 199 reconstruction error: 0.062204\n",
            "Epoch: 0 batch #: 180  of 300 sample #: 199 reconstruction error: 0.101213\n",
            "Epoch: 0 batch #: 181  of 300 sample #: 199 reconstruction error: 0.104396\n",
            "Epoch: 0 batch #: 182  of 300 sample #: 199 reconstruction error: 0.072830\n",
            "Epoch: 0 batch #: 183  of 300 sample #: 199 reconstruction error: 0.109724\n",
            "Epoch: 0 batch #: 184  of 300 sample #: 199 reconstruction error: 0.057180\n",
            "Epoch: 0 batch #: 185  of 300 sample #: 199 reconstruction error: 0.070802\n",
            "Epoch: 0 batch #: 186  of 300 sample #: 199 reconstruction error: 0.099908\n",
            "Epoch: 0 batch #: 187  of 300 sample #: 199 reconstruction error: 0.067537\n",
            "Epoch: 0 batch #: 188  of 300 sample #: 199 reconstruction error: 0.101466\n",
            "Epoch: 0 batch #: 189  of 300 sample #: 199 reconstruction error: 0.077821\n",
            "Epoch: 0 batch #: 190  of 300 sample #: 199 reconstruction error: 0.051473\n",
            "Epoch: 0 batch #: 191  of 300 sample #: 199 reconstruction error: 0.112666\n",
            "Epoch: 0 batch #: 192  of 300 sample #: 199 reconstruction error: 0.132899\n",
            "Epoch: 0 batch #: 193  of 300 sample #: 199 reconstruction error: 0.106860\n",
            "Epoch: 0 batch #: 194  of 300 sample #: 199 reconstruction error: 0.075547\n",
            "Epoch: 0 batch #: 195  of 300 sample #: 199 reconstruction error: 0.044643\n",
            "Epoch: 0 batch #: 196  of 300 sample #: 199 reconstruction error: 0.040986\n",
            "Epoch: 0 batch #: 197  of 300 sample #: 199 reconstruction error: 0.051023\n",
            "Epoch: 0 batch #: 198  of 300 sample #: 199 reconstruction error: 0.095076\n",
            "Epoch: 0 batch #: 199  of 300 sample #: 199 reconstruction error: 0.080884\n",
            "Epoch: 0 batch #: 200  of 300 sample #: 199 reconstruction error: 0.102681\n",
            "Epoch: 0 batch #: 201  of 300 sample #: 199 reconstruction error: 0.095049\n",
            "Epoch: 0 batch #: 202  of 300 sample #: 199 reconstruction error: 0.030374\n",
            "Epoch: 0 batch #: 203  of 300 sample #: 199 reconstruction error: 0.089376\n",
            "Epoch: 0 batch #: 204  of 300 sample #: 199 reconstruction error: 0.046503\n",
            "Epoch: 0 batch #: 205  of 300 sample #: 199 reconstruction error: 0.020235\n",
            "Epoch: 0 batch #: 206  of 300 sample #: 199 reconstruction error: 0.066624\n",
            "Epoch: 0 batch #: 207  of 300 sample #: 199 reconstruction error: 0.074730\n",
            "Epoch: 0 batch #: 208  of 300 sample #: 199 reconstruction error: 0.052724\n",
            "Epoch: 0 batch #: 209  of 300 sample #: 199 reconstruction error: 0.032802\n",
            "Epoch: 0 batch #: 210  of 300 sample #: 199 reconstruction error: 0.108796\n",
            "Epoch: 0 batch #: 211  of 300 sample #: 199 reconstruction error: 0.100057\n",
            "Epoch: 0 batch #: 212  of 300 sample #: 199 reconstruction error: 0.078019\n",
            "Epoch: 0 batch #: 213  of 300 sample #: 199 reconstruction error: 0.120586\n",
            "Epoch: 0 batch #: 214  of 300 sample #: 199 reconstruction error: 0.096506\n",
            "Epoch: 0 batch #: 215  of 300 sample #: 199 reconstruction error: 0.035910\n",
            "Epoch: 0 batch #: 216  of 300 sample #: 199 reconstruction error: 0.087512\n",
            "Epoch: 0 batch #: 217  of 300 sample #: 199 reconstruction error: 0.079765\n",
            "Epoch: 0 batch #: 218  of 300 sample #: 199 reconstruction error: 0.066891\n",
            "Epoch: 0 batch #: 219  of 300 sample #: 199 reconstruction error: 0.072817\n",
            "Epoch: 0 batch #: 220  of 300 sample #: 199 reconstruction error: 0.058595\n",
            "Epoch: 0 batch #: 221  of 300 sample #: 199 reconstruction error: 0.085422\n",
            "Epoch: 0 batch #: 222  of 300 sample #: 199 reconstruction error: 0.079794\n",
            "Epoch: 0 batch #: 223  of 300 sample #: 199 reconstruction error: 0.079391\n",
            "Epoch: 0 batch #: 224  of 300 sample #: 199 reconstruction error: 0.071574\n",
            "Epoch: 0 batch #: 225  of 300 sample #: 199 reconstruction error: 0.079077\n",
            "Epoch: 0 batch #: 226  of 300 sample #: 199 reconstruction error: 0.126427\n",
            "Epoch: 0 batch #: 227  of 300 sample #: 199 reconstruction error: 0.076146\n",
            "Epoch: 0 batch #: 228  of 300 sample #: 199 reconstruction error: 0.077635\n",
            "Epoch: 0 batch #: 229  of 300 sample #: 199 reconstruction error: 0.089980\n",
            "Epoch: 0 batch #: 230  of 300 sample #: 199 reconstruction error: 0.042041\n",
            "Epoch: 0 batch #: 231  of 300 sample #: 199 reconstruction error: 0.022803\n",
            "Epoch: 0 batch #: 232  of 300 sample #: 199 reconstruction error: 0.072570\n",
            "Epoch: 0 batch #: 233  of 300 sample #: 199 reconstruction error: 0.077898\n",
            "Epoch: 0 batch #: 234  of 300 sample #: 199 reconstruction error: 0.065547\n",
            "Epoch: 0 batch #: 235  of 300 sample #: 199 reconstruction error: 0.059861\n",
            "Epoch: 0 batch #: 236  of 300 sample #: 199 reconstruction error: 0.097765\n",
            "Epoch: 0 batch #: 237  of 300 sample #: 199 reconstruction error: 0.071417\n",
            "Epoch: 0 batch #: 238  of 300 sample #: 199 reconstruction error: 0.112154\n",
            "Epoch: 0 batch #: 239  of 300 sample #: 199 reconstruction error: 0.035223\n",
            "Epoch: 0 batch #: 240  of 300 sample #: 199 reconstruction error: 0.104959\n",
            "Epoch: 0 batch #: 241  of 300 sample #: 199 reconstruction error: 0.082290\n",
            "Epoch: 0 batch #: 242  of 300 sample #: 199 reconstruction error: 0.071515\n",
            "Epoch: 0 batch #: 243  of 300 sample #: 199 reconstruction error: 0.064753\n",
            "Epoch: 0 batch #: 244  of 300 sample #: 199 reconstruction error: 0.073075\n",
            "Epoch: 0 batch #: 245  of 300 sample #: 199 reconstruction error: 0.071662\n",
            "Epoch: 0 batch #: 246  of 300 sample #: 199 reconstruction error: 0.101895\n",
            "Epoch: 0 batch #: 247  of 300 sample #: 199 reconstruction error: 0.049381\n",
            "Epoch: 0 batch #: 248  of 300 sample #: 199 reconstruction error: 0.074039\n",
            "Epoch: 0 batch #: 249  of 300 sample #: 199 reconstruction error: 0.037293\n",
            "Epoch: 0 batch #: 250  of 300 sample #: 199 reconstruction error: 0.079533\n",
            "Epoch: 0 batch #: 251  of 300 sample #: 199 reconstruction error: 0.044665\n",
            "Epoch: 0 batch #: 252  of 300 sample #: 199 reconstruction error: 0.064550\n",
            "Epoch: 0 batch #: 253  of 300 sample #: 199 reconstruction error: 0.045096\n",
            "Epoch: 0 batch #: 254  of 300 sample #: 199 reconstruction error: 0.036996\n",
            "Epoch: 0 batch #: 255  of 300 sample #: 199 reconstruction error: 0.066397\n",
            "Epoch: 0 batch #: 256  of 300 sample #: 199 reconstruction error: 0.077485\n",
            "Epoch: 0 batch #: 257  of 300 sample #: 199 reconstruction error: 0.090328\n",
            "Epoch: 0 batch #: 258  of 300 sample #: 199 reconstruction error: 0.090614\n",
            "Epoch: 0 batch #: 259  of 300 sample #: 199 reconstruction error: 0.081816\n",
            "Epoch: 0 batch #: 260  of 300 sample #: 199 reconstruction error: 0.093551\n",
            "Epoch: 0 batch #: 261  of 300 sample #: 199 reconstruction error: 0.033807\n",
            "Epoch: 0 batch #: 262  of 300 sample #: 199 reconstruction error: 0.053348\n",
            "Epoch: 0 batch #: 263  of 300 sample #: 199 reconstruction error: 0.063401\n",
            "Epoch: 0 batch #: 264  of 300 sample #: 199 reconstruction error: 0.073069\n",
            "Epoch: 0 batch #: 265  of 300 sample #: 199 reconstruction error: 0.082288\n",
            "Epoch: 0 batch #: 266  of 300 sample #: 199 reconstruction error: 0.029956\n",
            "Epoch: 0 batch #: 267  of 300 sample #: 199 reconstruction error: 0.067026\n",
            "Epoch: 0 batch #: 268  of 300 sample #: 199 reconstruction error: 0.025990\n",
            "Epoch: 0 batch #: 269  of 300 sample #: 199 reconstruction error: 0.086727\n",
            "Epoch: 0 batch #: 270  of 300 sample #: 199 reconstruction error: 0.078465\n",
            "Epoch: 0 batch #: 271  of 300 sample #: 199 reconstruction error: 0.057528\n",
            "Epoch: 0 batch #: 272  of 300 sample #: 199 reconstruction error: 0.057524\n",
            "Epoch: 0 batch #: 273  of 300 sample #: 199 reconstruction error: 0.062090\n",
            "Epoch: 0 batch #: 274  of 300 sample #: 199 reconstruction error: 0.054947\n",
            "Epoch: 0 batch #: 275  of 300 sample #: 199 reconstruction error: 0.100741\n",
            "Epoch: 0 batch #: 276  of 300 sample #: 199 reconstruction error: 0.074992\n",
            "Epoch: 0 batch #: 277  of 300 sample #: 199 reconstruction error: 0.082198\n",
            "Epoch: 0 batch #: 278  of 300 sample #: 199 reconstruction error: 0.069759\n",
            "Epoch: 0 batch #: 279  of 300 sample #: 199 reconstruction error: 0.053312\n",
            "Epoch: 0 batch #: 280  of 300 sample #: 199 reconstruction error: 0.066550\n",
            "Epoch: 0 batch #: 281  of 300 sample #: 199 reconstruction error: 0.065766\n",
            "Epoch: 0 batch #: 282  of 300 sample #: 199 reconstruction error: 0.085103\n",
            "Epoch: 0 batch #: 283  of 300 sample #: 199 reconstruction error: 0.044981\n",
            "Epoch: 0 batch #: 284  of 300 sample #: 199 reconstruction error: 0.049007\n",
            "Epoch: 0 batch #: 285  of 300 sample #: 199 reconstruction error: 0.051715\n",
            "Epoch: 0 batch #: 286  of 300 sample #: 199 reconstruction error: 0.065792\n",
            "Epoch: 0 batch #: 287  of 300 sample #: 199 reconstruction error: 0.074686\n",
            "Epoch: 0 batch #: 288  of 300 sample #: 199 reconstruction error: 0.026602\n",
            "Epoch: 0 batch #: 289  of 300 sample #: 199 reconstruction error: 0.080085\n",
            "Epoch: 0 batch #: 290  of 300 sample #: 199 reconstruction error: 0.098519\n",
            "Epoch: 0 batch #: 291  of 300 sample #: 199 reconstruction error: 0.117632\n",
            "Epoch: 0 batch #: 292  of 300 sample #: 199 reconstruction error: 0.060518\n",
            "Epoch: 0 batch #: 293  of 300 sample #: 199 reconstruction error: 0.056630\n",
            "Epoch: 0 batch #: 294  of 300 sample #: 199 reconstruction error: 0.082356\n",
            "Epoch: 0 batch #: 295  of 300 sample #: 199 reconstruction error: 0.078148\n",
            "Epoch: 0 batch #: 296  of 300 sample #: 199 reconstruction error: 0.030555\n",
            "Epoch: 0 batch #: 297  of 300 sample #: 199 reconstruction error: 0.121829\n",
            "Epoch: 0 batch #: 298  of 300 sample #: 199 reconstruction error: 0.043244\n",
            "Epoch: 0 batch #: 299  of 300 sample #: 199 reconstruction error: 0.062535\n",
            "Epoch: 0 batch #: 300  of 300 sample #: 199 reconstruction error: 0.078788\n"
          ],
          "name": "stdout"
        }
      ]
    },
    {
      "cell_type": "markdown",
      "metadata": {
        "id": "P2cPC2nINebY"
      },
      "source": [
        "Let's take a look at the errors at the end of each batch:\n"
      ]
    },
    {
      "cell_type": "code",
      "metadata": {
        "colab": {
          "base_uri": "https://localhost:8080/",
          "height": 279
        },
        "id": "mRh-Wed5NebZ",
        "outputId": "8931d8f4-cde1-454d-f2ae-b0febe35767d"
      },
      "source": [
        "plt.plot(errors)\n",
        "plt.xlabel(\"Batch Number\")\n",
        "plt.ylabel(\"Error\")\n",
        "plt.show()"
      ],
      "execution_count": 20,
      "outputs": [
        {
          "output_type": "display_data",
          "data": {
            "image/png": "[encoded data removed]",
            "text/plain": [
              "<Figure size 432x288 with 1 Axes>"
            ]
          },
          "metadata": {
            "needs_background": "light"
          }
        }
      ]
    },
    {
      "cell_type": "markdown",
      "metadata": {
        "id": "xPp3x1WJNeba"
      },
      "source": [
        "What is the final weight matrix $W$ after training?\n"
      ]
    },
    {
      "cell_type": "code",
      "metadata": {
        "colab": {
          "base_uri": "https://localhost:8080/"
        },
        "id": "eVn_P0wsNeba",
        "outputId": "0d70ec55-1735-4c6d-cc07-32dde599edb2"
      },
      "source": [
        "print(W.numpy()) # a weight matrix of shape (50,784)"
      ],
      "execution_count": 21,
      "outputs": [
        {
          "output_type": "stream",
          "text": [
            "[[-0.33999994 -0.30999997 -0.28       ... -0.26000002 -0.31999996\n",
            "  -0.33999994]\n",
            " [-0.3799999  -0.33999994 -0.23000003 ... -0.18       -0.36999992\n",
            "  -0.28      ]\n",
            " [-0.32999995 -0.33999994 -0.23000003 ... -0.18       -0.41999987\n",
            "  -0.29      ]\n",
            " ...\n",
            " [-0.41999987 -0.30999997 -0.27       ... -0.21000002 -0.35999992\n",
            "  -0.28      ]\n",
            " [-0.29999998 -0.33999994 -0.27       ... -0.25000003 -0.45999983\n",
            "  -0.29999998]\n",
            " [-0.36999992 -0.32999995 -0.30999997 ... -0.17       -0.3799999\n",
            "  -0.29999998]]\n"
          ],
          "name": "stdout"
        }
      ]
    },
    {
      "cell_type": "markdown",
      "metadata": {
        "id": "Xo6Yi6H_Neba"
      },
      "source": [
        "<a id=\"ref5\"></a>\n",
        "\n",
        "<h3>Learned features</h3> \n"
      ]
    },
    {
      "cell_type": "markdown",
      "metadata": {
        "id": "PZ6FPFqMNebb"
      },
      "source": [
        "We can take each hidden unit and visualize the connections between that hidden unit and each element in the input vector. In our case, we have 50 hidden units. Lets visualize those.\n"
      ]
    },
    {
      "cell_type": "markdown",
      "metadata": {
        "id": "jFwP6m2_Nebb"
      },
      "source": [
        "Let's plot the current weights: <b>tile_raster_images</b> helps in generating an easy to grasp image from a set of samples or weights. It transforms the <b>uw</b> (with one flattened image per row of size 784), into an array (of size $28\\times28$) in which images are reshaped and laid out like tiles on a floor.\n"
      ]
    },
    {
      "cell_type": "code",
      "metadata": {
        "colab": {
          "base_uri": "https://localhost:8080/",
          "height": 339
        },
        "id": "SwaCQ-T0Nebc",
        "outputId": "8b73a02a-0ef0-400d-cacc-71b638a84fde"
      },
      "source": [
        "tile_raster_images(X=W.numpy().T, img_shape=(28, 28), tile_shape=(5, 10), tile_spacing=(1, 1))\n",
        "import matplotlib.pyplot as plt\n",
        "from PIL import Image\n",
        "%matplotlib inline\n",
        "image = Image.fromarray(tile_raster_images(X=W.numpy().T, img_shape=(28, 28) ,tile_shape=(5, 10), tile_spacing=(1, 1)))\n",
        "### Plot image\n",
        "plt.rcParams['figure.figsize'] = (18.0, 18.0)\n",
        "imgplot = plt.imshow(image)\n",
        "imgplot.set_cmap('gray')  "
      ],
      "execution_count": 22,
      "outputs": [
        {
          "output_type": "display_data",
          "data": {
            "image/png": "[encoded data removed]",
            "text/plain": [
              "<Figure size 1296x1296 with 1 Axes>"
            ]
          },
          "metadata": {
            "needs_background": "light"
          }
        }
      ]
    },
    {
      "cell_type": "markdown",
      "metadata": {
        "id": "XUtV9YbWNebc"
      },
      "source": [
        "Each tile in the above visualization corresponds to a vector of connections between a hidden unit and visible layer's units.\n"
      ]
    },
    {
      "cell_type": "markdown",
      "metadata": {
        "id": "POR4-NgXNebd"
      },
      "source": [
        "Let's look at one of the learned weights corresponding to one of hidden units for example. In this particular square, the gray color represents weight = 0, and the whiter it is, the more positive the weights are (closer to 1). Conversely, the darker pixels are, the more negative the weights. The positive pixels will increase the probability of activation in hidden units (after multiplying by input/visible pixels), and negative pixels will decrease the probability of a unit hidden to be 1 (activated). So, why is this important?  So we can see that this specific square (hidden unit) can detect a feature (e.g. a \"/\" shape) and if it exists in the input.\n"
      ]
    },
    {
      "cell_type": "code",
      "metadata": {
        "colab": {
          "base_uri": "https://localhost:8080/",
          "height": 265
        },
        "id": "DZOx-1uzNebd",
        "outputId": "1e7f2c45-c7e3-4526-f19c-7acfe24b51b3"
      },
      "source": [
        "from PIL import Image\n",
        "image = Image.fromarray(tile_raster_images(X =W.numpy().T[10:11], img_shape=(28, 28),tile_shape=(1, 1), tile_spacing=(1, 1)))\n",
        "### Plot image\n",
        "plt.rcParams['figure.figsize'] = (4.0, 4.0)\n",
        "imgplot = plt.imshow(image)\n",
        "imgplot.set_cmap('gray')  "
      ],
      "execution_count": 23,
      "outputs": [
        {
          "output_type": "display_data",
          "data": {
            "image/png": "[encoded data removed]",
            "text/plain": [
              "<Figure size 288x288 with 1 Axes>"
            ]
          },
          "metadata": {
            "needs_background": "light"
          }
        }
      ]
    },
    {
      "cell_type": "markdown",
      "metadata": {
        "id": "9uRkSw-iNebd"
      },
      "source": [
        "Let's look at the reconstruction of an image now. Imagine that we have a destructed image of figure 3. Lets see if our trained network can fix it:\n",
        "\n",
        "First we plot the image:\n"
      ]
    },
    {
      "cell_type": "code",
      "metadata": {
        "colab": {
          "base_uri": "https://localhost:8080/",
          "height": 652
        },
        "id": "UfE8rx7dNebe",
        "outputId": "3ae75416-7e2d-4df1-a1ec-c7f3430e57c4"
      },
      "source": [
        "!wget -O destructed3.jpg  https://ibm.box.com/shared/static/vvm1b63uvuxq88vbw9znpwu5ol380mco.jpg\n",
        "img = Image.open('destructed3.jpg')\n",
        "img"
      ],
      "execution_count": 24,
      "outputs": [
        {
          "output_type": "stream",
          "text": [
            "--2021-08-29 09:24:25--  https://ibm.box.com/shared/static/vvm1b63uvuxq88vbw9znpwu5ol380mco.jpg\n",
            "Resolving ibm.box.com (ibm.box.com)... 107.152.24.197\n",
            "Connecting to ibm.box.com (ibm.box.com)|107.152.24.197|:443... connected.\n",
            "HTTP request sent, awaiting response... 301 Moved Permanently\n",
            "Location: /public/static/vvm1b63uvuxq88vbw9znpwu5ol380mco.jpg [following]\n",
            "--2021-08-29 09:24:25--  https://ibm.box.com/public/static/vvm1b63uvuxq88vbw9znpwu5ol380mco.jpg\n",
            "Reusing existing connection to ibm.box.com:443.\n",
            "HTTP request sent, awaiting response... 301 Moved Permanently\n",
            "Location: https://ibm.ent.box.com/public/static/vvm1b63uvuxq88vbw9znpwu5ol380mco.jpg [following]\n",
            "--2021-08-29 09:24:26--  https://ibm.ent.box.com/public/static/vvm1b63uvuxq88vbw9znpwu5ol380mco.jpg\n",
            "Resolving ibm.ent.box.com (ibm.ent.box.com)... 107.152.24.201\n",
            "Connecting to ibm.ent.box.com (ibm.ent.box.com)|107.152.24.201|:443... connected.\n",
            "HTTP request sent, awaiting response... 302 Found\n",
            "Location: https://public.boxcloud.com/d/1/b1!08lfLXnVIA_mpmyNcSd7xHXtUT_e9yjC_qpJz09RW3Zs221aBVIlxuvH_hswR2opFjE8bRfRKIicOdgQAWbm8N_dtXAaaO6DivRfzcSGBTPfBXP8lkvuR-hg3ZavYLmy0Tswpr1D8vDxCzPXwJ2rS1hPbXXqY_Js0k-7jtdiK9OBN5oHJOe5otg7BR24KNSDm3OT81yvDmGAvbAHP9zLzQ20dv8nmf3mOIO2FPRUJ0yQ-759T-8SEN4EbgCi0D_szswuHT82trCFMR90--2jNsfkeom9-tieX-v7BkXL0EWAdaBf16yoK--E43Ymsticp3r4vYc8f1GRfqsSIPa8BOaiNWKf4qAkXIYr9iA800AL5kXJ430ODBEUcaTFWpopyfYCwh102g1dGX26sLXfBmg8HQkN_cB6Y2-7EouL1EJ1D0IboQX9Tk6wkUx6mLKerZmcm3iY2wcAldhEbd3MCSy_asmV5_oA0INpqL5Wmem-dGl8HGmdZJc2rC9h6d5SQjuGTO04FL0k70FvmAYXpQawBEaZeLkwUZ2byTJUEF2En2IrAS1La_04ciTjrmzt9ECco3K6WKXdxRqWvnN_GjeUerhZHMolOdZSk6oLvWcG2KqvvKcgPBF-K2zTEHRD5NbGYhj3HZzDO7JL_FqYmqhgMgiPD_qYLtbwNlOFud1RE-SVXjXVhgAaOaT9wZlrwsGkM4Rgs6Pv8A0pLem4DQCKE5sYICniXmSafnQRKmTaDu084Hb0URNIi0UT08cFvWHzqk47CmKg5nKQ8oXcfVkIO0JN8ulPDO9YrvbMPWU1Rt-X5I5JZ8QYtZnsZZyPheaobtuZ6MBWbxDY-8_NAvL0ruv8KtH71fSURAWlbvZ6StpwjDkguPOSMqzJS8h5YIwOSdBDwQimK5G8gZiMlsPhaBK-CBebK5_oONeyr0nZQEDOJtcS0nMkxwBwfdlBvBdmPMrxuZY3eAPjBhKfx7Yk_I7CVB5elWBNK0eKBHGG6iMb6D_YcXOudQfxmeCyxJ6PjqI1nGSdEWOJc59p-8CVh-TQLl5K1VmWI1nq3mrxuoXDoZV5Tx0zIK2ofUkaOxKwRDzFUDepQfCzP_5u2PEisfI5K317MmlgDIBH-_K9XdnRosgcvPWS9HwccB_-5SCfMujOx8zK8WcVGxqIZGs77tvNvnkYAV5irs1-47zWMw6nQVkYrfFqzxU6hS8SvTcEBAMHyhNRzBPqAhe1ifbBUFyvfuv75Ct0sLcfMbT6IGrFxaqoSV0xLWZs6aGaG1-ccgygLnaXNuPrNlVn7MfT6EE0gIwd2J03Qw_KFMKBeed85OD4Ha2ZwpCHyoitEwfm1FIG4hIk9_6JN9mMsYjkaIMiGs8h0W5lPJegW07ez7Fwwc0P8hfmOnOFl58xIRVH9cKkeL7gH-sJbZ5UPUcFgQro4rfwgfNdgmRoedoacAoqHvqsfy0QXVlMFA../download [following]\n",
            "--2021-08-29 09:24:26--  https://public.boxcloud.com/d/1/b1!08lfLXnVIA_mpmyNcSd7xHXtUT_e9yjC_qpJz09RW3Zs221aBVIlxuvH_hswR2opFjE8bRfRKIicOdgQAWbm8N_dtXAaaO6DivRfzcSGBTPfBXP8lkvuR-hg3ZavYLmy0Tswpr1D8vDxCzPXwJ2rS1hPbXXqY_Js0k-7jtdiK9OBN5oHJOe5otg7BR24KNSDm3OT81yvDmGAvbAHP9zLzQ20dv8nmf3mOIO2FPRUJ0yQ-759T-8SEN4EbgCi0D_szswuHT82trCFMR90--2jNsfkeom9-tieX-v7BkXL0EWAdaBf16yoK--E43Ymsticp3r4vYc8f1GRfqsSIPa8BOaiNWKf4qAkXIYr9iA800AL5kXJ430ODBEUcaTFWpopyfYCwh102g1dGX26sLXfBmg8HQkN_cB6Y2-7EouL1EJ1D0IboQX9Tk6wkUx6mLKerZmcm3iY2wcAldhEbd3MCSy_asmV5_oA0INpqL5Wmem-dGl8HGmdZJc2rC9h6d5SQjuGTO04FL0k70FvmAYXpQawBEaZeLkwUZ2byTJUEF2En2IrAS1La_04ciTjrmzt9ECco3K6WKXdxRqWvnN_GjeUerhZHMolOdZSk6oLvWcG2KqvvKcgPBF-K2zTEHRD5NbGYhj3HZzDO7JL_FqYmqhgMgiPD_qYLtbwNlOFud1RE-SVXjXVhgAaOaT9wZlrwsGkM4Rgs6Pv8A0pLem4DQCKE5sYICniXmSafnQRKmTaDu084Hb0URNIi0UT08cFvWHzqk47CmKg5nKQ8oXcfVkIO0JN8ulPDO9YrvbMPWU1Rt-X5I5JZ8QYtZnsZZyPheaobtuZ6MBWbxDY-8_NAvL0ruv8KtH71fSURAWlbvZ6StpwjDkguPOSMqzJS8h5YIwOSdBDwQimK5G8gZiMlsPhaBK-CBebK5_oONeyr0nZQEDOJtcS0nMkxwBwfdlBvBdmPMrxuZY3eAPjBhKfx7Yk_I7CVB5elWBNK0eKBHGG6iMb6D_YcXOudQfxmeCyxJ6PjqI1nGSdEWOJc59p-8CVh-TQLl5K1VmWI1nq3mrxuoXDoZV5Tx0zIK2ofUkaOxKwRDzFUDepQfCzP_5u2PEisfI5K317MmlgDIBH-_K9XdnRosgcvPWS9HwccB_-5SCfMujOx8zK8WcVGxqIZGs77tvNvnkYAV5irs1-47zWMw6nQVkYrfFqzxU6hS8SvTcEBAMHyhNRzBPqAhe1ifbBUFyvfuv75Ct0sLcfMbT6IGrFxaqoSV0xLWZs6aGaG1-ccgygLnaXNuPrNlVn7MfT6EE0gIwd2J03Qw_KFMKBeed85OD4Ha2ZwpCHyoitEwfm1FIG4hIk9_6JN9mMsYjkaIMiGs8h0W5lPJegW07ez7Fwwc0P8hfmOnOFl58xIRVH9cKkeL7gH-sJbZ5UPUcFgQro4rfwgfNdgmRoedoacAoqHvqsfy0QXVlMFA../download\n",
            "Resolving public.boxcloud.com (public.boxcloud.com)... 107.152.24.200\n",
            "Connecting to public.boxcloud.com (public.boxcloud.com)|107.152.24.200|:443... connected.\n",
            "HTTP request sent, awaiting response... 200 OK\n",
            "Length: 24383 (24K) [image/jpeg]\n",
            "Saving to: ‘destructed3.jpg’\n",
            "\n",
            "destructed3.jpg     100%[===================>]  23.81K  --.-KB/s    in 0.02s   \n",
            "\n",
            "2021-08-29 09:24:27 (1.40 MB/s) - ‘destructed3.jpg’ saved [24383/24383]\n",
            "\n"
          ],
          "name": "stdout"
        },
        {
          "output_type": "execute_result",
          "data": {
            "image/png": "[encoded data removed]",
            "text/plain": [
              "<PIL.JpegImagePlugin.JpegImageFile image mode=RGB size=181x181 at 0x7F1D17389150>"
            ]
          },
          "metadata": {},
          "execution_count": 24
        }
      ]
    },
    {
      "cell_type": "markdown",
      "metadata": {
        "id": "Bil1DD94Nebe"
      },
      "source": [
        "Now let's pass this image through the neural net:\n"
      ]
    },
    {
      "cell_type": "code",
      "metadata": {
        "id": "IPevBUAHNebe"
      },
      "source": [
        "# convert the image to a 1d numpy array\n",
        "sample_case = np.array(img.convert('I').resize((28,28))).ravel().reshape((1, -1))/255.0\n",
        "\n",
        "sample_case = tf.cast(sample_case, dtype=tf.float32)"
      ],
      "execution_count": 25,
      "outputs": []
    },
    {
      "cell_type": "markdown",
      "metadata": {
        "id": "cFFsu5qqNebe"
      },
      "source": [
        "Feed the sample case into the network and reconstruct the output:\n"
      ]
    },
    {
      "cell_type": "code",
      "metadata": {
        "colab": {
          "base_uri": "https://localhost:8080/"
        },
        "id": "3HyoZdHjNebf",
        "outputId": "9e8c76b6-8abd-4aac-cfa3-5536bc184d93"
      },
      "source": [
        "hh0_p = tf.nn.sigmoid(tf.matmul(sample_case, W) + hb)\n",
        "hh0_s = tf.round(hh0_p)\n",
        "\n",
        "print(\"Probability nodes in hidden layer:\" ,hh0_p)\n",
        "print(\"activated nodes in hidden layer:\" ,hh0_s)\n",
        "\n",
        "# reconstruct\n",
        "vv1_p = tf.nn.sigmoid(tf.matmul(hh0_s, tf.transpose(W)) + vb)\n",
        "\n",
        "print(vv1_p)\n",
        "#rec_prob = sess.run(vv1_p, feed_dict={ hh0_s: hh0_s_val, W: prv_w, vb: prv_vb})"
      ],
      "execution_count": 26,
      "outputs": [
        {
          "output_type": "stream",
          "text": [
            "Probability nodes in hidden layer: tf.Tensor(\n",
            "[[6.6842132e-10 3.8111210e-04 1.9229651e-10 9.9999857e-01 9.9926424e-01\n",
            "  3.0043870e-02 1.2200759e-16 9.7895014e-01 3.0979841e-13 8.2329976e-08\n",
            "  8.2235247e-02 2.0035657e-07 4.6532586e-10 4.2051408e-01 1.4096717e-08\n",
            "  9.9999654e-01 7.3698070e-06 5.7557539e-08 2.8444015e-08 7.1387137e-07\n",
            "  9.9185336e-01 2.8405579e-19 1.0000000e+00 9.9997675e-01 7.7110681e-06\n",
            "  8.8596344e-04 1.0000000e+00 2.1284819e-04 9.9945593e-01 1.8870142e-05\n",
            "  1.1884612e-01 9.9999297e-01 5.3152075e-08 4.2195997e-13 4.7275225e-05\n",
            "  9.9376100e-01 9.9999958e-01 3.9139404e-06 1.6634743e-13 1.0000000e+00\n",
            "  1.7842150e-01 3.8736687e-08 9.9920976e-01 1.0000000e+00 1.9570763e-11\n",
            "  5.9789419e-04 3.9064586e-03 1.5434051e-10 1.0000000e+00 5.1587369e-02]], shape=(1, 50), dtype=float32)\n",
            "activated nodes in hidden layer: tf.Tensor(\n",
            "[[0. 0. 0. 1. 1. 0. 0. 1. 0. 0. 0. 0. 0. 0. 0. 1. 0. 0. 0. 0. 1. 0. 1. 1.\n",
            "  0. 0. 1. 0. 1. 0. 0. 1. 0. 0. 0. 1. 1. 0. 0. 1. 0. 0. 1. 1. 0. 0. 0. 0.\n",
            "  1. 0.]], shape=(1, 50), dtype=float32)\n",
            "tf.Tensor(\n",
            "[[5.88834286e-04 3.75598669e-04 4.31895256e-04 2.46793032e-04\n",
            "  2.23338604e-04 4.27663326e-04 3.04400921e-04 2.72810459e-04\n",
            "  4.77403402e-04 4.86940145e-04 4.10884619e-04 3.10599804e-04\n",
            "  5.38170338e-04 3.39537859e-04 3.07261944e-04 4.59790230e-04\n",
            "  3.10599804e-04 5.17100096e-04 4.31895256e-04 4.86940145e-04\n",
            "  3.23265791e-04 3.71783972e-04 5.65737486e-04 3.16798687e-04\n",
            "  3.50147486e-04 2.44379044e-04 4.91857529e-04 4.31895256e-04\n",
            "  5.01841307e-04 4.10884619e-04 3.68088484e-04 4.36306000e-04\n",
            "  3.84628773e-04 3.87728214e-04 3.90201807e-04 1.99317932e-04\n",
            "  2.97963619e-04 4.22954559e-04 2.81393528e-04 2.55405903e-04\n",
            "  5.24669886e-04 3.60548496e-04 4.08947468e-04 3.20047140e-04\n",
            "  7.86751509e-04 7.09980726e-04 8.93354416e-04 4.29958105e-04\n",
            "  5.79237938e-04 3.98218632e-04 3.80903482e-04 3.72618437e-04\n",
            "  5.11914492e-04 5.71459532e-04 4.58657742e-04 4.31954861e-04\n",
            "  4.82112169e-04 3.87012959e-04 5.00559807e-04 4.16189432e-04\n",
            "  4.14401293e-04 3.14652920e-04 4.61935997e-04 4.47541475e-04\n",
            "  4.41014767e-04 3.08930874e-04 1.38729811e-04 8.83846078e-05\n",
            "  1.10631641e-04 1.41263008e-04 1.25646591e-04 1.36107206e-04\n",
            "  8.52493322e-05 1.14840957e-04 1.07945671e-04 7.62558993e-05\n",
            "  9.33472329e-05 1.90049410e-04 5.63621521e-04 4.42653894e-04\n",
            "  3.13520432e-04 4.68283892e-04 3.87012959e-04 5.49048185e-04\n",
            "  3.16798687e-04 3.04400921e-04 5.52415848e-04 2.67237425e-04\n",
            "  4.74959612e-04 4.49717045e-04 4.80890274e-04 4.14937735e-04\n",
            "  2.22772360e-04 1.51306391e-04 1.46418810e-04 1.42216682e-04\n",
            "  4.39345837e-04 4.39077616e-04 8.55416059e-04 7.03781843e-04\n",
            "  1.37192011e-03 8.35120678e-04 1.38735771e-03 4.95404005e-04\n",
            "  5.13583422e-04 1.75029039e-04 2.63869762e-04 4.05102968e-04\n",
            "  5.03331423e-04 6.07371330e-04 5.47736883e-04 4.23431396e-04\n",
            "  2.75492668e-04 2.92748213e-04 2.97337770e-04 3.62426043e-04\n",
            "  4.69982624e-04 5.87910414e-04 4.56869602e-04 5.11109829e-04\n",
            "  2.68101692e-04 4.50760126e-04 5.75035810e-04 2.50241160e-03\n",
            "  4.84758615e-03 2.58575380e-02 5.47925234e-02 1.22153312e-01\n",
            "  3.68715346e-01 4.22081977e-01 3.70726347e-01 1.70054078e-01\n",
            "  1.93472803e-02 5.63028455e-03 3.37815285e-03 2.53081322e-03\n",
            "  2.14219093e-03 1.25902891e-03 4.46021557e-04 4.19616699e-04\n",
            "  4.27663326e-04 3.50207090e-04 4.31835651e-04 8.49336386e-04\n",
            "  1.09761953e-03 6.19411469e-04 9.00685787e-04 2.74059176e-03\n",
            "  2.53465772e-03 3.73330712e-03 2.77957618e-02 6.12716377e-02\n",
            "  1.06386751e-01 3.01691890e-01 6.74332261e-01 9.18492496e-01\n",
            "  9.54415143e-01 9.71270859e-01 9.10630047e-01 7.75873482e-01\n",
            "  3.71413589e-01 4.36649919e-02 1.86607838e-02 6.45330548e-03\n",
            "  4.67634201e-03 2.12830305e-03 6.66707754e-04 3.32623720e-04\n",
            "  3.07559967e-04 3.58909369e-04 3.02344561e-04 9.57369804e-04\n",
            "  1.23673677e-03 1.31645799e-03 1.90192461e-03 2.97600031e-03\n",
            "  9.30613279e-03 4.10091579e-02 1.39897227e-01 4.19326335e-01\n",
            "  5.91094375e-01 9.07277107e-01 9.51073289e-01 9.64978516e-01\n",
            "  9.82776999e-01 9.70301092e-01 9.58674014e-01 9.34001207e-01\n",
            "  6.99529767e-01 3.09131831e-01 4.09944355e-02 1.23452842e-02\n",
            "  5.09330630e-03 2.88709998e-03 1.39474869e-03 3.79741192e-04\n",
            "  4.19676304e-04 4.50551510e-04 8.96006823e-04 7.44283199e-04\n",
            "  1.93595886e-03 2.65717506e-03 2.38788128e-03 3.96272540e-03\n",
            "  1.98050737e-02 2.77377546e-01 4.43435311e-01 8.98837328e-01\n",
            "  9.25716639e-01 9.64063883e-01 9.03224826e-01 8.91174853e-01\n",
            "  8.65744889e-01 8.27480197e-01 7.61883855e-01 8.77471328e-01\n",
            "  8.63706112e-01 3.94922256e-01 1.25009805e-01 1.73173845e-02\n",
            "  5.80653548e-03 9.37640667e-04 1.63966417e-03 4.24355268e-04\n",
            "  2.69860029e-04 4.19259071e-04 5.77062368e-04 9.65267420e-04\n",
            "  8.31842422e-04 2.98124552e-03 4.03580070e-03 1.57929957e-02\n",
            "  1.19863749e-01 4.48969185e-01 9.19237375e-01 9.20474529e-01\n",
            "  8.89544725e-01 5.75832307e-01 4.09311056e-01 3.09718847e-01\n",
            "  3.49503934e-01 4.48860079e-01 4.35265392e-01 6.62612617e-01\n",
            "  7.84111261e-01 7.87799478e-01 2.42339343e-01 2.35766470e-02\n",
            "  4.91335988e-03 1.24260783e-03 1.14312768e-03 3.22878361e-04\n",
            "  4.93317842e-04 5.04463911e-04 5.23924828e-04 5.60432673e-04\n",
            "  6.13093376e-04 2.10994482e-03 7.32856989e-03 7.03078508e-02\n",
            "  2.89859951e-01 5.65719485e-01 7.43622601e-01 6.01023316e-01\n",
            "  2.64403075e-01 2.31983960e-02 9.53221321e-03 3.75059843e-02\n",
            "  1.00715190e-01 1.85509920e-01 2.49870390e-01 7.26431966e-01\n",
            "  8.58264565e-01 8.68792892e-01 3.16814244e-01 2.25735307e-02\n",
            "  5.84110618e-03 7.72625208e-04 6.56723976e-04 5.20676374e-04\n",
            "  3.24964523e-04 4.90605831e-04 5.90592623e-04 6.28620386e-04\n",
            "  1.27643347e-03 3.51589918e-03 8.49747658e-03 1.28781021e-01\n",
            "  2.60773301e-01 3.53225946e-01 2.18522698e-01 9.63511765e-02\n",
            "  1.01352930e-02 4.41086292e-03 4.83387709e-03 4.39907312e-02\n",
            "  1.94417149e-01 4.42104995e-01 7.28990793e-01 8.75351548e-01\n",
            "  9.00550604e-01 6.94399476e-01 1.68970436e-01 1.49418116e-02\n",
            "  3.78394127e-03 8.31931829e-04 7.16626644e-04 3.77088785e-04\n",
            "  4.55647707e-04 5.26249409e-04 7.35074282e-04 6.23643398e-04\n",
            "  9.24617052e-04 3.76003981e-03 1.92102492e-02 1.02422476e-01\n",
            "  1.35288805e-01 9.33561921e-02 2.20893621e-02 1.86901391e-02\n",
            "  5.52970171e-03 7.68828392e-03 4.90614474e-02 1.97012156e-01\n",
            "  3.97432566e-01 6.49728477e-01 7.99674630e-01 7.72830009e-01\n",
            "  5.84274173e-01 2.07246751e-01 5.62088788e-02 1.17724836e-02\n",
            "  5.60849905e-03 1.57120824e-03 6.20812178e-04 3.24755907e-04\n",
            "  4.75049019e-04 4.29034233e-04 8.69899988e-04 4.27991152e-04\n",
            "  6.50405884e-04 2.96622515e-03 2.87393630e-02 3.97584438e-02\n",
            "  3.48556340e-02 2.42236257e-02 1.28926933e-02 1.16465092e-02\n",
            "  3.21982503e-02 1.30969316e-01 4.09934998e-01 7.41293669e-01\n",
            "  7.43871987e-01 6.36299014e-01 7.65839458e-01 5.36215186e-01\n",
            "  1.53999716e-01 3.77756059e-02 1.32785141e-02 7.71990418e-03\n",
            "  6.30912185e-03 6.28381968e-04 5.99563122e-04 3.88056040e-04\n",
            "  3.87400389e-04 4.97847795e-04 4.97162342e-04 4.95433807e-04\n",
            "  2.28881836e-03 2.13381350e-02 5.30903041e-02 3.46974432e-02\n",
            "  1.23191178e-02 1.90128982e-02 8.09585452e-02 2.02030212e-01\n",
            "  5.08662462e-01 7.06285596e-01 7.86547780e-01 7.56913662e-01\n",
            "  7.44036019e-01 6.34384871e-01 5.60480475e-01 2.53373444e-01\n",
            "  3.34848762e-02 1.21531487e-02 8.94695520e-03 3.74943018e-03\n",
            "  2.43610144e-03 1.09580159e-03 4.79042530e-04 4.64797020e-04\n",
            "  3.51250172e-04 2.50667334e-04 4.28915024e-04 1.23423338e-03\n",
            "  5.05223870e-03 1.66172683e-02 6.02186918e-02 3.16188633e-02\n",
            "  1.14371777e-02 4.07089591e-02 2.48792976e-01 5.65533340e-01\n",
            "  8.43251705e-01 8.88553262e-01 8.18026066e-01 8.13023329e-01\n",
            "  7.55888343e-01 6.96977615e-01 4.95382786e-01 1.74609423e-01\n",
            "  2.94732451e-02 4.39402461e-03 2.67803669e-03 3.92788649e-03\n",
            "  3.03664804e-03 3.47882509e-04 3.58611345e-04 2.61485577e-04\n",
            "  3.43352556e-04 3.42488289e-04 5.55098057e-04 2.41002440e-03\n",
            "  1.68074369e-02 2.18323767e-02 3.10555398e-02 3.38489711e-02\n",
            "  2.64230072e-02 3.92397642e-02 2.41822153e-01 4.52585161e-01\n",
            "  6.99288964e-01 5.75402141e-01 4.27134633e-01 2.57344246e-01\n",
            "  4.76889491e-01 7.62683868e-01 6.71917319e-01 1.34364218e-01\n",
            "  7.48500228e-03 2.83885002e-03 3.24884057e-03 3.90431285e-03\n",
            "  1.97076797e-03 2.31236219e-04 4.02748585e-04 3.72439623e-04\n",
            "  3.00109386e-04 3.80039215e-04 9.14663076e-04 4.79847193e-03\n",
            "  4.67800200e-02 4.85157073e-02 5.37573099e-02 6.73125088e-02\n",
            "  2.40268409e-02 5.17254770e-02 1.78510666e-01 2.52665222e-01\n",
            "  2.47149318e-01 2.00180143e-01 6.72943592e-02 6.99082911e-02\n",
            "  2.33359039e-01 6.68268621e-01 5.93433201e-01 9.07074511e-02\n",
            "  1.44998729e-02 3.59681249e-03 3.87147069e-03 4.19050455e-03\n",
            "  1.04162097e-03 2.34574080e-04 3.56823206e-04 3.49432230e-04\n",
            "  4.77403402e-04 4.47034836e-04 1.14619732e-03 1.23353004e-02\n",
            "  4.08696234e-02 1.29919201e-01 1.63437217e-01 1.08856857e-01\n",
            "  5.25774956e-02 3.64230275e-02 3.12484801e-02 6.80969059e-02\n",
            "  5.92873096e-02 2.13609636e-02 1.49265826e-02 5.21503389e-02\n",
            "  2.35459536e-01 4.67324972e-01 4.12636399e-01 1.34607285e-01\n",
            "  2.18628347e-02 8.82086158e-03 4.41300869e-03 2.87508965e-03\n",
            "  2.74032354e-03 3.87132168e-04 4.46498394e-04 3.52621078e-04\n",
            "  4.19139862e-04 3.53068113e-04 3.13153863e-03 3.10998261e-02\n",
            "  9.63832438e-02 2.18138784e-01 2.79199123e-01 1.40121579e-01\n",
            "  4.15855050e-02 2.18083262e-02 2.07574069e-02 1.81182921e-02\n",
            "  2.35736966e-02 4.85894084e-03 3.69137526e-03 1.89911127e-02\n",
            "  3.23783576e-01 4.53632414e-01 4.29031819e-01 1.61592573e-01\n",
            "  4.59350049e-02 1.81146562e-02 3.79708409e-03 2.58699059e-03\n",
            "  1.56825781e-03 3.77535820e-04 7.43627548e-04 3.33160162e-04\n",
            "  4.05371189e-04 5.27828932e-04 5.21701574e-03 7.96930492e-02\n",
            "  2.65982211e-01 4.43534970e-01 4.72116768e-01 3.58813077e-01\n",
            "  7.56637454e-02 2.48868763e-02 2.93478668e-02 2.00236440e-02\n",
            "  1.08326674e-02 2.29528546e-03 4.84406948e-03 2.79885232e-02\n",
            "  3.65171194e-01 5.53873658e-01 5.48742890e-01 1.69413120e-01\n",
            "  7.56803155e-02 1.38933957e-02 6.78196549e-03 1.89897418e-03\n",
            "  1.78542733e-03 1.05321407e-03 5.79982996e-04 4.20033932e-04\n",
            "  4.36276197e-04 5.17845154e-04 1.35325193e-02 1.60387725e-01\n",
            "  4.88374263e-01 8.13991547e-01 7.40003884e-01 5.82526922e-01\n",
            "  2.38915265e-01 1.22664481e-01 9.16584134e-02 9.51350927e-02\n",
            "  1.85388923e-02 7.10704923e-03 2.03061998e-02 1.37382835e-01\n",
            "  6.76227331e-01 7.59643137e-01 4.83859330e-01 9.37667787e-02\n",
            "  4.22254503e-02 9.03260708e-03 3.81052494e-03 2.84221768e-03\n",
            "  2.01615691e-03 1.04543567e-03 1.06662512e-03 4.68671322e-04\n",
            "  4.97460365e-04 3.91602516e-04 5.19993901e-03 1.54888749e-01\n",
            "  6.06893182e-01 7.60638237e-01 8.88559103e-01 7.75760293e-01\n",
            "  7.19405174e-01 5.16665936e-01 4.47892725e-01 2.21057773e-01\n",
            "  2.17468441e-01 2.97079444e-01 3.67300034e-01 7.03980565e-01\n",
            "  8.36369395e-01 7.65276730e-01 2.35358506e-01 4.49390709e-02\n",
            "  6.17972016e-03 3.68049741e-03 2.04804540e-03 2.92026997e-03\n",
            "  2.29278207e-03 1.96021795e-03 7.15255737e-04 2.78770924e-04\n",
            "  3.79681587e-04 4.33981419e-04 3.18294764e-03 5.09639084e-02\n",
            "  3.25657159e-01 5.81520140e-01 8.38446677e-01 8.66945028e-01\n",
            "  8.52590799e-01 7.84974933e-01 7.98807025e-01 8.80791605e-01\n",
            "  8.21403444e-01 8.19709599e-01 7.99381971e-01 7.30975866e-01\n",
            "  7.85312176e-01 4.56724435e-01 7.33416378e-02 1.02441907e-02\n",
            "  3.86732817e-03 1.82875991e-03 3.00878286e-03 3.30963731e-03\n",
            "  1.89012289e-03 9.61512327e-04 3.37719917e-04 2.28404999e-04\n",
            "  6.12884760e-04 3.23265791e-04 7.38680363e-04 1.24775469e-02\n",
            "  1.17543548e-01 3.72337490e-01 5.59145510e-01 7.86015749e-01\n",
            "  8.38030457e-01 9.02307868e-01 9.54607844e-01 9.36262727e-01\n",
            "  9.04184937e-01 8.57892513e-01 6.94601476e-01 4.88519073e-01\n",
            "  2.25512147e-01 5.66553175e-02 4.81012464e-03 3.38780880e-03\n",
            "  3.65161896e-03 1.59251690e-03 1.99586153e-03 1.43009424e-03\n",
            "  7.67022371e-04 5.00857830e-04 3.51876020e-04 3.46690416e-04\n",
            "  2.83807516e-04 3.57210636e-04 5.16593456e-04 1.50436163e-03\n",
            "  9.88543034e-03 1.10996395e-01 2.67275840e-01 2.85613060e-01\n",
            "  3.75561267e-01 5.55900514e-01 4.17060256e-01 4.39561874e-01\n",
            "  4.50309217e-01 2.72627056e-01 5.60999513e-02 2.73419321e-02\n",
            "  1.28954053e-02 3.54981422e-03 2.62326002e-03 1.33535266e-03\n",
            "  1.40777230e-03 1.48653984e-03 1.13889575e-03 1.10095739e-03\n",
            "  6.45339489e-04 4.15235758e-04 2.98321247e-04 4.10884619e-04\n",
            "  2.89648771e-04 3.43292952e-04 4.56869602e-04 3.05056572e-04\n",
            "  6.04093075e-04 1.96161866e-03 4.17000055e-03 8.54545832e-03\n",
            "  2.08569765e-02 3.22735608e-02 2.47467458e-02 2.00385451e-02\n",
            "  1.16821826e-02 5.17889857e-03 4.13465500e-03 9.28461552e-03\n",
            "  2.01916695e-03 2.09519267e-03 8.96483660e-04 8.13305378e-04\n",
            "  7.12037086e-04 2.88069248e-04 4.17947769e-04 4.66376543e-04\n",
            "  3.71217728e-04 4.45306301e-04 3.49074602e-04 3.79353762e-04\n",
            "  2.78264284e-04 3.64422798e-04 4.36276197e-04 3.38166952e-04\n",
            "  5.71131706e-04 9.80347395e-04 1.51148438e-03 9.43273306e-04\n",
            "  7.82042742e-04 1.09702349e-03 5.79476357e-04 4.80055809e-04\n",
            "  4.67449427e-04 6.96927309e-04 4.07993793e-04 7.68750906e-04\n",
            "  5.30123711e-04 3.31401825e-04 2.63273716e-04 3.19600105e-04\n",
            "  4.32193279e-04 2.23278999e-04 4.79042530e-04 3.58283520e-04\n",
            "  2.91109085e-04 3.20255756e-04 3.13729048e-04 4.72575426e-04\n",
            "  3.29881907e-04 3.26573849e-04 3.04400921e-04 2.54303217e-04\n",
            "  4.22745943e-04 4.00722027e-04 5.37723303e-04 5.72383404e-04\n",
            "  6.88999891e-04 8.53300095e-04 7.19189644e-04 4.94718552e-04\n",
            "  5.27292490e-04 4.89830971e-04 3.03119421e-04 4.02748585e-04\n",
            "  4.31030989e-04 5.76853752e-04 6.29246235e-04 5.47528267e-04\n",
            "  3.62306833e-04 4.09573317e-04 2.68816948e-04 3.12805176e-04\n",
            "  3.26573849e-04 3.94850969e-04 2.89648771e-04 2.56836414e-04]], shape=(1, 784), dtype=float32)\n"
          ],
          "name": "stdout"
        }
      ]
    },
    {
      "cell_type": "markdown",
      "metadata": {
        "id": "aHKPSJ76Nebf"
      },
      "source": [
        "Here we plot the reconstructed image:\n"
      ]
    },
    {
      "cell_type": "code",
      "metadata": {
        "colab": {
          "base_uri": "https://localhost:8080/",
          "height": 265
        },
        "id": "sshR9zAANebg",
        "outputId": "db7e31cc-2a59-4bcd-ba50-53de1f3151cb"
      },
      "source": [
        "img = Image.fromarray(tile_raster_images(X=vv1_p.numpy(), img_shape=(28, 28),tile_shape=(1, 1), tile_spacing=(1, 1)))\n",
        "plt.rcParams['figure.figsize'] = (4.0, 4.0)\n",
        "imgplot = plt.imshow(img)\n",
        "imgplot.set_cmap('gray') "
      ],
      "execution_count": 27,
      "outputs": [
        {
          "output_type": "display_data",
          "data": {
            "image/png": "[encoded data removed]",
            "text/plain": [
              "<Figure size 288x288 with 1 Axes>"
            ]
          },
          "metadata": {
            "needs_background": "light"
          }
        }
      ]
    },
    {
      "cell_type": "markdown",
      "metadata": {
        "id": "sOUqpi8QNebg"
      },
      "source": [
        "<hr>\n",
        "\n",
        "## Want to learn more?\n",
        "\n",
        "Also, you can use **Watson Studio** to run these notebooks faster with bigger datasets.**Watson Studio** is IBM’s leading cloud solution for data scientists, built by data scientists. With Jupyter notebooks, RStudio, Apache Spark and popular libraries pre-packaged in the cloud, **Watson Studio** enables data scientists to collaborate on their projects without having to install anything. Join the fast-growing community of **Watson Studio** users today with a free account at [Watson Studio](https://cocl.us/ML0120EN_DSX).This is the end of this lesson. Thank you for reading this notebook, and good luck on your studies.\n"
      ]
    },
    {
      "cell_type": "markdown",
      "metadata": {
        "id": "0oi9-4HiNebh"
      },
      "source": [
        "### Thanks for completing this lesson!\n",
        "\n",
        "Notebook created by: <a href = \"https://ca.linkedin.com/in/saeedaghabozorgi?utm_medium=Exinfluencer&utm_source=Exinfluencer&utm_content=000026UJ&utm_term=10006555&utm_id=NA-SkillsNetwork-Channel-SkillsNetworkCoursesIBMDeveloperSkillsNetworkDL0120ENSkillsNetwork20629446-2021-01-01\">Saeed Aghabozorgi</a>\n",
        "\n",
        "Updated to TF 2.X by  <a href=\"https://ca.linkedin.com/in/nilmeier?utm_medium=Exinfluencer&utm_source=Exinfluencer&utm_content=000026UJ&utm_term=10006555&utm_id=NA-SkillsNetwork-Channel-SkillsNetworkCoursesIBMDeveloperSkillsNetworkDL0120ENSkillsNetwork20629446-2021-01-01\"> Jerome Nilmeier</a><br />\n"
      ]
    },
    {
      "cell_type": "markdown",
      "metadata": {
        "id": "YKsuZLFrNebi"
      },
      "source": [
        "### References:\n",
        "\n",
        "[https://en.wikipedia.org/wiki/Restricted_Boltzmann_machine](https://en.wikipedia.org/wiki/Restricted_Boltzmann_machine?utm_medium=Exinfluencer&utm_source=Exinfluencer&utm_content=000026UJ&utm_term=10006555&utm_id=NA-SkillsNetwork-Channel-SkillsNetworkCoursesIBMDeveloperSkillsNetworkDL0120ENSkillsNetwork20629446-2021-01-01)\\\n",
        "[http://deeplearning.net/tutorial/rbm.html](http://deeplearning.net/tutorial/rbm.html?utm_medium=Exinfluencer&utm_source=Exinfluencer&utm_content=000026UJ&utm_term=10006555&utm_id=NA-SkillsNetwork-Channel-SkillsNetworkCoursesIBMDeveloperSkillsNetworkDL0120ENSkillsNetwork20629446-2021-01-01)\\\n",
        "[http://www.cs.utoronto.ca/\\~hinton/absps/netflixICML.pdf](http://www.cs.utoronto.ca/\\~hinton/absps/netflixICML.pdf?utm_medium=Exinfluencer&utm_source=Exinfluencer&utm_content=000026UJ&utm_term=10006555&utm_id=NA-SkillsNetwork-Channel-SkillsNetworkCoursesIBMDeveloperSkillsNetworkDL0120ENSkillsNetwork20629446-2021-01-01)<br>\n",
        "<http://imonad.com/rbm/restricted-boltzmann-machine/>\n"
      ]
    },
    {
      "cell_type": "markdown",
      "metadata": {
        "id": "2xJ325zvNebj"
      },
      "source": [
        "<hr>\n",
        "\n",
        "Copyright © 2018 [Cognitive Class](https://cocl.us/DX0108EN_CC). This notebook and its source code are released under the terms of the [MIT License](https://bigdatauniversity.com/mit-license/?utm_medium=Exinfluencer&utm_source=Exinfluencer&utm_content=000026UJ&utm_term=10006555&utm_id=NA-SkillsNetwork-Channel-SkillsNetworkCoursesIBMDeveloperSkillsNetworkDL0120ENSkillsNetwork20629446-2021-01-01).\n"
      ]
    }
  ]
}