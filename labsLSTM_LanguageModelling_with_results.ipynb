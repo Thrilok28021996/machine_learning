{
  "nbformat": 4,
  "nbformat_minor": 0,
  "metadata": {
    "accelerator": "GPU",
    "anaconda-cloud": {},
    "colab": {
      "name": "labs_ML0120EN-3.2-Review-LSTM-LanguageModelling_with_results.ipynb",
      "provenance": []
    },
    "kernelspec": {
      "display_name": "Python 3",
      "language": "python",
      "name": "python3"
    },
    "language_info": {
      "codemirror_mode": {
        "name": "ipython",
        "version": 3
      },
      "file_extension": ".py",
      "mimetype": "text/x-python",
      "name": "python",
      "nbconvert_exporter": "python",
      "pygments_lexer": "ipython3",
      "version": "3.8.0"
    }
  },
  "cells": [
    {
      "cell_type": "markdown",
      "metadata": {
        "id": "HYZMDXoafNkY"
      },
      "source": [
        "<a href=\"https://www.skills.network/?utm_medium=Exinfluencer&utm_source=Exinfluencer&utm_content=000026UJ&utm_term=10006555&utm_id=NA-SkillsNetwork-Channel-SkillsNetworkCoursesIBMDeveloperSkillsNetworkDL0120ENSkillsNetwork20629446-2021-01-01\"><img src=\"https://cf-courses-data.s3.us.cloud-object-storage.appdomain.cloud/IBM-DL0120ENedX/labs/Template%20for%20Instructional%20Hands-on%20Labs/images/IDSNlogo.png\" width=\"400px\" align=\"center\"></a>\n",
        "\n",
        "<h1 align=\"center\"><font size=\"5\">RECURRENT NETWORKS and LSTM IN DEEP LEARNING</font></h1>\n"
      ]
    },
    {
      "cell_type": "markdown",
      "metadata": {
        "id": "VZvoiFGOfNkb"
      },
      "source": [
        "<h2>Applying Recurrent Neural Networks/LSTM for Language Modeling</h2>\n",
        "Hello and welcome to this part. In this notebook, we will go over the topic of Language Modelling, and create a Recurrent Neural Network model based on the Long Short-Term Memory unit to train and benchmark on the Penn Treebank dataset. By the end of this notebook, you should be able to understand how TensorFlow builds and executes a RNN model for Language Modelling.\n"
      ]
    },
    {
      "cell_type": "markdown",
      "metadata": {
        "id": "S5dVX8oUfNkd"
      },
      "source": [
        "<h2>The Objective</h2>\n",
        "By now, you should have an understanding of how Recurrent Networks work -- a specialized model to process sequential data by keeping track of the \"state\" or context. In this notebook, we go over a TensorFlow code snippet for creating a model focused on <b>Language Modelling</b> -- a very relevant task that is the cornerstone of many different linguistic problems such as <b>Speech Recognition, Machine Translation and Image Captioning</b>. For this, we will be using the Penn Treebank dataset, which is an often-used dataset for benchmarking Language Modelling models.\n"
      ]
    },
    {
      "cell_type": "markdown",
      "metadata": {
        "id": "tLuk2rr9fNkf"
      },
      "source": [
        "<h2>Table of Contents</h2>\n",
        "<ol>\n",
        "    <li><a href=\"https://#language_modelling\">What exactly is Language Modelling?</a></li>\n",
        "    <li><a href=\"https://#treebank_dataset\">The Penn Treebank dataset</a></li>\n",
        "    <li><a href=\"https://#word_embedding\">Word Embedding</a></li>\n",
        "    <li><a href=\"https://#building_lstm_model\">Building the LSTM model for Language Modeling</a></li>\n",
        "    <li><a href=\"https://#ltsm\">LTSM</a></li>\n",
        "</ol>\n",
        "<p></p>\n",
        "</div>\n",
        "<br>\n"
      ]
    },
    {
      "cell_type": "markdown",
      "metadata": {
        "id": "y7v4O5FifNkh"
      },
      "source": [
        "***\n"
      ]
    },
    {
      "cell_type": "markdown",
      "metadata": {
        "id": "Ey5Nv6bOfNkj"
      },
      "source": [
        "<a id=\"language_modelling\"></a>\n",
        "\n",
        "<h2>What exactly is Language Modelling?</h2>\n",
        "Language Modelling, to put it simply, <b>is the task of assigning probabilities to sequences of words</b>. This means that, given a context of one or a sequence of words in the language the model was trained on, the model should provide the next most probable words or sequence of words that follows from the given sequence of words the sentence. Language Modelling is one of the most important tasks in Natural Language Processing.\n",
        "\n",
        "<img src=\"https://ibm.box.com/shared/static/1d1i5gub6wljby2vani2vzxp0xsph702.png\" width=\"1080\">\n",
        "<center><i>Example of a sentence being predicted</i></center>\n",
        "<br><br>\n",
        "In this example, one can see the predictions for the next word of a sentence, given the context \"This is an\". As you can see, this boils down to a sequential data analysis task -- you are given a word or a sequence of words (the input data), and, given the context (the state), you need to find out what is the next word (the prediction). This kind of analysis is very important for language-related tasks such as <b>Speech Recognition, Machine Translation, Image Captioning, Text Correction</b> and many other very relevant problems. \n",
        "\n",
        "<img src=\"https://ibm.box.com/shared/static/az39idf9ipfdpc5ugifpgxnydelhyf3i.png\" width=\"1080\">\n",
        "<center><i>The above example is a schema of an RNN in execution</i></center>\n",
        "<br><br>\n",
        "As the above image shows, Recurrent Network models fit this problem like a glove. Alongside LSTM and its capacity to maintain the model's state for over one thousand time steps, we have all the tools we need to undertake this problem. The goal for this notebook is to create a model that can reach <b>low levels of perplexity</b> on our desired dataset.\n",
        "\n",
        "For Language Modelling problems, <b>perplexity</b> is the way to gauge efficiency. Perplexity is simply a measure of how well a probabilistic model is able to predict its sample. A higher-level way to explain this would be saying that <b>low perplexity means a higher degree of trust in the predictions the model makes</b>. Therefore, the lower perplexity is, the better.\n"
      ]
    },
    {
      "cell_type": "markdown",
      "metadata": {
        "id": "ZqrVktXFfNkk"
      },
      "source": [
        "<a id=\"treebank_dataset\"></a>\n",
        "\n",
        "<h2>The Penn Treebank dataset</h2>\n",
        "Historically, datasets big enough for Natural Language Processing are hard to come by. This is in part due to the necessity of the sentences to be broken down and tagged with a certain degree of correctness -- or else the models trained on it won't be able to be correct at all. This means that we need a <b>large amount of data, annotated by or at least corrected by humans</b>. This is, of course, not an easy task at all.\n",
        "\n",
        "The Penn Treebank, or PTB for short, is a dataset maintained by the University of Pennsylvania. It is <i>huge</i> -- there are over <b>four million and eight hundred thousand</b> annotated words in it, all corrected by humans. It is composed of many different sources, from abstracts of Department of Energy papers to texts from the Library of America. Since it is verifiably correct and of such a huge size, the Penn Treebank is commonly used as a benchmark dataset for Language Modelling.\n",
        "\n",
        "The dataset is divided in different kinds of annotations, such as Piece-of-Speech, Syntactic and Semantic skeletons. For this example, we will simply use a sample of clean, non-annotated words (with the exception of one tag --<code>\\<unk></code>\n",
        ", which is used for rare words such as uncommon proper nouns) for our model. This means that we just want to predict what the next words would be, not what they mean in context or their classes on a given sentence.\n",
        "\n",
        "<center>Example of text from the dataset we are going to use, <b>ptb.train</b></center>\n",
        "<br><br>\n",
        "\n",
        "<div class=\"alert alert-block alert-info\" style=\"margin-top: 20px\">\n",
        "    <center>the percentage of lung cancer deaths among the workers at the west <code>&lt;unk&gt;</code> mass. paper factory appears to be the highest for any asbestos workers studied in western industrialized countries he said \n",
        " the plant which is owned by <code>&lt;unk&gt;</code> & <code>&lt;unk&gt;</code> co. was under contract with <code>&lt;unk&gt;</code> to make the cigarette filters \n",
        " the finding probably will support those who argue that the U.S. should regulate the class of asbestos including <code>&lt;unk&gt;</code> more <code>&lt;unk&gt;</code> than the common kind of asbestos <code>&lt;unk&gt;</code> found in most schools and other buildings dr. <code>&lt;unk&gt;</code> said</center>\n",
        "</div>\n"
      ]
    },
    {
      "cell_type": "markdown",
      "metadata": {
        "id": "UQk4FPgFfNkm"
      },
      "source": [
        "<a id=\"word_embedding\"></a>\n",
        "\n",
        "<h2>Word Embeddings</h2><br/>\n",
        "\n",
        "For better processing, in this example, we will make use of <a href=\"https://www.tensorflow.org/tutorials/word2vec/?utm_medium=Exinfluencer&utm_source=Exinfluencer&utm_content=000026UJ&utm_term=10006555&utm_id=NA-SkillsNetwork-Channel-SkillsNetworkCoursesIBMDeveloperSkillsNetworkDL0120ENSkillsNetwork20629446-2021-01-01\"><b>word embeddings</b></a>, which is <b>a way of representing sentence structures or words as n-dimensional vectors (where n is a reasonably high number, such as 200 or 500) of real numbers</b>. Basically, we will assign each word a randomly-initialized vector, and input those into the network to be processed. After a number of iterations, these vectors are expected to assume values that help the network to correctly predict what it needs to -- in our case, the probable next word in the sentence. This is shown to be a very effective task in Natural Language Processing, and is a commonplace practice. <br><br> <font size=\"4\"><strong>\n",
        "$$Vec(\"Example\") = \\[0.02, 0.00, 0.00, 0.92, 0.30, \\ldots]$$ </strong></font> <br>\n",
        "Word Embedding tends to group up similarly used words <i>reasonably</i> close together in the vectorial space. For example, if we use T-SNE (a dimensional reduction visualization algorithm) to flatten the dimensions of our vectors into a 2-dimensional space and plot these words in a 2-dimensional space, we might see something like this:\n",
        "\n",
        "<img src=\"https://ibm.box.com/shared/static/bqhc5dg879gcoabzhxra1w8rkg3od1cu.png\" width=\"800\">\n",
        "<center><i>T-SNE Mockup with clusters marked for easier visualization</i></center>\n",
        "<br><br>\n",
        "As you can see, words that are frequently used together, in place of each other, or in the same places as them tend to be grouped together -- being closer together the higher they are correlated. For example, \"None\" is pretty semantically close to \"Zero\", while a phrase that uses \"Italy\", you could probably also fit \"Germany\" in it, with little damage to the sentence structure. The vectorial \"closeness\" for similar words like this is a great indicator of a well-built model.\n",
        "\n",
        "<hr>\n"
      ]
    },
    {
      "cell_type": "markdown",
      "metadata": {
        "id": "ir7l5oFNfNkp"
      },
      "source": [
        "We need to import the necessary modules for our code. We need <b><code>numpy</code></b> and <b><code>tensorflow</code></b>, obviously. Additionally, we can import directly the <b><code>tensorflow\\.models.rnn</code></b> model, which includes the function for building RNNs, and <b><code>tensorflow\\.models.rnn.ptb.reader</code></b> which is the helper module for getting the input data from the dataset we just downloaded.\n",
        "\n",
        "If you want to learn more take a look at <https://github.com/tensorflow/models/blob/master/tutorials/rnn/ptb/reader.py>\n"
      ]
    },
    {
      "cell_type": "code",
      "metadata": {
        "colab": {
          "base_uri": "https://localhost:8080/"
        },
        "id": "BmSDKj2cfNkr",
        "outputId": "9c9b98bf-a2d6-4f92-ed2d-a3ba2923dec0"
      },
      "source": [
        "!pip install tensorflow==2.2.0rc0\n",
        "!pip install numpy\n"
      ],
      "execution_count": 54,
      "outputs": [
        {
          "output_type": "stream",
          "text": [
            "Requirement already satisfied: tensorflow==2.2.0rc0 in /usr/local/lib/python3.7/dist-packages (2.2.0rc0)\n",
            "Requirement already satisfied: google-pasta>=0.1.8 in /usr/local/lib/python3.7/dist-packages (from tensorflow==2.2.0rc0) (0.2.0)\n",
            "Requirement already satisfied: astunparse==1.6.3 in /usr/local/lib/python3.7/dist-packages (from tensorflow==2.2.0rc0) (1.6.3)\n",
            "Requirement already satisfied: termcolor>=1.1.0 in /usr/local/lib/python3.7/dist-packages (from tensorflow==2.2.0rc0) (1.1.0)\n",
            "Requirement already satisfied: absl-py>=0.7.0 in /usr/local/lib/python3.7/dist-packages (from tensorflow==2.2.0rc0) (0.12.0)\n",
            "Requirement already satisfied: wrapt>=1.11.1 in /usr/local/lib/python3.7/dist-packages (from tensorflow==2.2.0rc0) (1.12.1)\n",
            "Requirement already satisfied: scipy==1.4.1 in /usr/local/lib/python3.7/dist-packages (from tensorflow==2.2.0rc0) (1.4.1)\n",
            "Requirement already satisfied: tensorflow-estimator<2.2.0,>=2.1.0 in /usr/local/lib/python3.7/dist-packages (from tensorflow==2.2.0rc0) (2.1.0)\n",
            "Requirement already satisfied: protobuf>=3.8.0 in /usr/local/lib/python3.7/dist-packages (from tensorflow==2.2.0rc0) (3.17.3)\n",
            "Requirement already satisfied: six>=1.12.0 in /usr/local/lib/python3.7/dist-packages (from tensorflow==2.2.0rc0) (1.15.0)\n",
            "Requirement already satisfied: tensorboard<2.2.0,>=2.1.0 in /usr/local/lib/python3.7/dist-packages (from tensorflow==2.2.0rc0) (2.1.1)\n",
            "Requirement already satisfied: grpcio>=1.8.6 in /usr/local/lib/python3.7/dist-packages (from tensorflow==2.2.0rc0) (1.39.0)\n",
            "Requirement already satisfied: wheel>=0.26 in /usr/local/lib/python3.7/dist-packages (from tensorflow==2.2.0rc0) (0.37.0)\n",
            "Requirement already satisfied: numpy<2.0,>=1.16.0 in /usr/local/lib/python3.7/dist-packages (from tensorflow==2.2.0rc0) (1.19.5)\n",
            "Requirement already satisfied: opt-einsum>=2.3.2 in /usr/local/lib/python3.7/dist-packages (from tensorflow==2.2.0rc0) (3.3.0)\n",
            "Requirement already satisfied: keras-preprocessing>=1.1.0 in /usr/local/lib/python3.7/dist-packages (from tensorflow==2.2.0rc0) (1.1.2)\n",
            "Requirement already satisfied: h5py<2.11.0,>=2.10.0 in /usr/local/lib/python3.7/dist-packages (from tensorflow==2.2.0rc0) (2.10.0)\n",
            "Requirement already satisfied: gast==0.3.3 in /usr/local/lib/python3.7/dist-packages (from tensorflow==2.2.0rc0) (0.3.3)\n",
            "Requirement already satisfied: google-auth<2,>=1.6.3 in /usr/local/lib/python3.7/dist-packages (from tensorboard<2.2.0,>=2.1.0->tensorflow==2.2.0rc0) (1.34.0)\n",
            "Requirement already satisfied: google-auth-oauthlib<0.5,>=0.4.1 in /usr/local/lib/python3.7/dist-packages (from tensorboard<2.2.0,>=2.1.0->tensorflow==2.2.0rc0) (0.4.5)\n",
            "Requirement already satisfied: markdown>=2.6.8 in /usr/local/lib/python3.7/dist-packages (from tensorboard<2.2.0,>=2.1.0->tensorflow==2.2.0rc0) (3.3.4)\n",
            "Requirement already satisfied: setuptools>=41.0.0 in /usr/local/lib/python3.7/dist-packages (from tensorboard<2.2.0,>=2.1.0->tensorflow==2.2.0rc0) (57.4.0)\n",
            "Requirement already satisfied: werkzeug>=0.11.15 in /usr/local/lib/python3.7/dist-packages (from tensorboard<2.2.0,>=2.1.0->tensorflow==2.2.0rc0) (1.0.1)\n",
            "Requirement already satisfied: requests<3,>=2.21.0 in /usr/local/lib/python3.7/dist-packages (from tensorboard<2.2.0,>=2.1.0->tensorflow==2.2.0rc0) (2.23.0)\n",
            "Requirement already satisfied: cachetools<5.0,>=2.0.0 in /usr/local/lib/python3.7/dist-packages (from google-auth<2,>=1.6.3->tensorboard<2.2.0,>=2.1.0->tensorflow==2.2.0rc0) (4.2.2)\n",
            "Requirement already satisfied: pyasn1-modules>=0.2.1 in /usr/local/lib/python3.7/dist-packages (from google-auth<2,>=1.6.3->tensorboard<2.2.0,>=2.1.0->tensorflow==2.2.0rc0) (0.2.8)\n",
            "Requirement already satisfied: rsa<5,>=3.1.4 in /usr/local/lib/python3.7/dist-packages (from google-auth<2,>=1.6.3->tensorboard<2.2.0,>=2.1.0->tensorflow==2.2.0rc0) (4.7.2)\n",
            "Requirement already satisfied: requests-oauthlib>=0.7.0 in /usr/local/lib/python3.7/dist-packages (from google-auth-oauthlib<0.5,>=0.4.1->tensorboard<2.2.0,>=2.1.0->tensorflow==2.2.0rc0) (1.3.0)\n",
            "Requirement already satisfied: importlib-metadata in /usr/local/lib/python3.7/dist-packages (from markdown>=2.6.8->tensorboard<2.2.0,>=2.1.0->tensorflow==2.2.0rc0) (4.6.4)\n",
            "Requirement already satisfied: pyasn1<0.5.0,>=0.4.6 in /usr/local/lib/python3.7/dist-packages (from pyasn1-modules>=0.2.1->google-auth<2,>=1.6.3->tensorboard<2.2.0,>=2.1.0->tensorflow==2.2.0rc0) (0.4.8)\n",
            "Requirement already satisfied: urllib3!=1.25.0,!=1.25.1,<1.26,>=1.21.1 in /usr/local/lib/python3.7/dist-packages (from requests<3,>=2.21.0->tensorboard<2.2.0,>=2.1.0->tensorflow==2.2.0rc0) (1.24.3)\n",
            "Requirement already satisfied: idna<3,>=2.5 in /usr/local/lib/python3.7/dist-packages (from requests<3,>=2.21.0->tensorboard<2.2.0,>=2.1.0->tensorflow==2.2.0rc0) (2.10)\n",
            "Requirement already satisfied: certifi>=2017.4.17 in /usr/local/lib/python3.7/dist-packages (from requests<3,>=2.21.0->tensorboard<2.2.0,>=2.1.0->tensorflow==2.2.0rc0) (2021.5.30)\n",
            "Requirement already satisfied: chardet<4,>=3.0.2 in /usr/local/lib/python3.7/dist-packages (from requests<3,>=2.21.0->tensorboard<2.2.0,>=2.1.0->tensorflow==2.2.0rc0) (3.0.4)\n",
            "Requirement already satisfied: oauthlib>=3.0.0 in /usr/local/lib/python3.7/dist-packages (from requests-oauthlib>=0.7.0->google-auth-oauthlib<0.5,>=0.4.1->tensorboard<2.2.0,>=2.1.0->tensorflow==2.2.0rc0) (3.1.1)\n",
            "Requirement already satisfied: zipp>=0.5 in /usr/local/lib/python3.7/dist-packages (from importlib-metadata->markdown>=2.6.8->tensorboard<2.2.0,>=2.1.0->tensorflow==2.2.0rc0) (3.5.0)\n",
            "Requirement already satisfied: typing-extensions>=3.6.4 in /usr/local/lib/python3.7/dist-packages (from importlib-metadata->markdown>=2.6.8->tensorboard<2.2.0,>=2.1.0->tensorflow==2.2.0rc0) (3.7.4.3)\n",
            "Requirement already satisfied: numpy in /usr/local/lib/python3.7/dist-packages (1.19.5)\n"
          ],
          "name": "stdout"
        }
      ]
    },
    {
      "cell_type": "code",
      "metadata": {
        "id": "PyWkoruFfNku"
      },
      "source": [
        "import time\n",
        "import numpy as np\n",
        "import tensorflow as tf\n",
        "if not tf.__version__ == '2.2.0-rc0':\n",
        "    print(tf.__version__)\n",
        "    raise ValueError('please upgrade to TensorFlow 2.2.0-rc0, or restart your Kernel (Kernel->Restart & Clear Output)')"
      ],
      "execution_count": 55,
      "outputs": []
    },
    {
      "cell_type": "markdown",
      "metadata": {
        "id": "gqPk-vqYfNkv"
      },
      "source": [
        "IMPORTANT! => Please restart the kernel by clicking on \"Kernel\"->\"Restart and Clear Outout\" and wait until all output disapears. Then your changes are beeing picked up\n"
      ]
    },
    {
      "cell_type": "code",
      "metadata": {
        "colab": {
          "base_uri": "https://localhost:8080/"
        },
        "id": "THFzXF-FfNkw",
        "outputId": "8ef0e871-1210-42f1-ef43-46b8cddeb2cc"
      },
      "source": [
        "!mkdir data\n",
        "!mkdir data/ptb\n",
        "!wget -q -O data/ptb/reader.py https://cf-courses-data.s3.us.cloud-object-storage.appdomain.cloud/IBMDeveloperSkillsNetwork-DL0120EN-SkillsNetwork/labs/Week3/data/ptb/reader.py\n",
        "!cp data/ptb/reader.py . \n",
        "\n"
      ],
      "execution_count": 56,
      "outputs": [
        {
          "output_type": "stream",
          "text": [
            "mkdir: cannot create directory ‘data’: File exists\n",
            "mkdir: cannot create directory ‘data/ptb’: File exists\n"
          ],
          "name": "stdout"
        }
      ]
    },
    {
      "cell_type": "code",
      "metadata": {
        "id": "R9Y_ZPWBfNky"
      },
      "source": [
        "import reader"
      ],
      "execution_count": 57,
      "outputs": []
    },
    {
      "cell_type": "markdown",
      "metadata": {
        "id": "PANqsvXCfNky"
      },
      "source": [
        "<a id=\"building_lstm_model\"></a>\n",
        "\n",
        "<h2>Building the LSTM model for Language Modeling</h2>\n",
        "Now that we know exactly what we are doing, we can start building our model using TensorFlow. The very first thing we need to do is download and extract the <code>simple-examples</code> dataset, which can be done by executing the code cell below.\n"
      ]
    },
    {
      "cell_type": "code",
      "metadata": {
        "colab": {
          "base_uri": "https://localhost:8080/"
        },
        "id": "ffTxBflOfNkz",
        "outputId": "0c61c7df-bd85-4b2f-e4e7-7e7ccb618cd4"
      },
      "source": [
        "!wget http://www.fit.vutbr.cz/~imikolov/rnnlm/simple-examples.tgz \n",
        "!tar xzf simple-examples.tgz -C data/"
      ],
      "execution_count": 58,
      "outputs": [
        {
          "output_type": "stream",
          "text": [
            "--2021-08-28 16:35:31--  http://www.fit.vutbr.cz/~imikolov/rnnlm/simple-examples.tgz\n",
            "Resolving www.fit.vutbr.cz (www.fit.vutbr.cz)... 147.229.9.23, 2001:67c:1220:809::93e5:917\n",
            "Connecting to www.fit.vutbr.cz (www.fit.vutbr.cz)|147.229.9.23|:80... connected.\n",
            "HTTP request sent, awaiting response... 200 OK\n",
            "Length: 34869662 (33M) [application/x-gtar]\n",
            "Saving to: ‘simple-examples.tgz.1’\n",
            "\n",
            "simple-examples.tgz 100%[===================>]  33.25M  3.60MB/s    in 10s     \n",
            "\n",
            "2021-08-28 16:35:42 (3.20 MB/s) - ‘simple-examples.tgz.1’ saved [34869662/34869662]\n",
            "\n"
          ],
          "name": "stdout"
        }
      ]
    },
    {
      "cell_type": "markdown",
      "metadata": {
        "id": "M_Y_6IbufNk0"
      },
      "source": [
        "Additionally, for the sake of making it easy to play around with the model's hyperparameters, we can declare them beforehand. Feel free to change these -- you will see a difference in performance each time you change those!\n"
      ]
    },
    {
      "cell_type": "code",
      "metadata": {
        "id": "GyH2K1CRfNk0"
      },
      "source": [
        "#Initial weight scale\n",
        "init_scale = 0.1\n",
        "#Initial learning rate\n",
        "learning_rate = 1.0\n",
        "#Maximum permissible norm for the gradient (For gradient clipping -- another measure against Exploding Gradients)\n",
        "max_grad_norm = 5\n",
        "#The number of layers in our model\n",
        "num_layers = 2\n",
        "#The total number of recurrence steps, also known as the number of layers when our RNN is \"unfolded\"\n",
        "num_steps = 20\n",
        "#The number of processing units (neurons) in the hidden layers\n",
        "hidden_size_l1 = 256\n",
        "hidden_size_l2 = 128\n",
        "#The maximum number of epochs trained with the initial learning rate\n",
        "max_epoch_decay_lr = 4\n",
        "#The total number of epochs in training\n",
        "max_epoch = 15\n",
        "#The probability for keeping data in the Dropout Layer (This is an optimization, but is outside our scope for this notebook!)\n",
        "#At 1, we ignore the Dropout Layer wrapping.\n",
        "keep_prob = 1\n",
        "#The decay for the learning rate\n",
        "decay = 0.5\n",
        "#The size for each batch of data\n",
        "batch_size = 30\n",
        "#The size of our vocabulary\n",
        "vocab_size = 10000\n",
        "embeding_vector_size= 200\n",
        "#Training flag to separate training from testing\n",
        "is_training = 1\n",
        "#Data directory for our dataset\n",
        "data_dir = \"data/simple-examples/data/\""
      ],
      "execution_count": 59,
      "outputs": []
    },
    {
      "cell_type": "markdown",
      "metadata": {
        "id": "nMD_anrEfNk1"
      },
      "source": [
        "Some clarifications for LSTM architecture based on the arguments:\n",
        "\n",
        "Network structure:\n",
        "\n",
        "<ul>\n",
        "    <li>In this network, the number of LSTM cells are 2. To give the model more expressive power, we can add multiple layers of LSTMs to process the data. The output of the first layer will become the input of the second and so on.\n",
        "    </li>\n",
        "    <li>The recurrence steps is 20, that is, when our RNN is \"Unfolded\", the recurrence step is 20.</li>   \n",
        "    <li>the structure is like:\n",
        "        <ul>\n",
        "            <li>200 input units -> [200x200] Weight -> 200 Hidden units (first layer) -> [200x200] Weight matrix  -> 200 Hidden units (second layer) ->  [200] weight Matrix -> 200 unit output</li>\n",
        "        </ul>\n",
        "    </li>\n",
        "</ul>\n",
        "<br>\n",
        "\n",
        "Input layer:\n",
        "\n",
        "<ul>\n",
        "    <li>The network has 200 input units.</li>\n",
        "    <li>Suppose each word is represented by an embedding vector of dimensionality e=200. The input layer of each cell will have 200 linear units. These e=200 linear units are connected to each of the h=200 LSTM units in the hidden layer (assuming there is only one hidden layer, though our case has 2 layers).\n",
        "    </li>\n",
        "    <li>The input shape is [batch_size, num_steps], that is [30x20]. It will turn into [30x20x200] after embedding, and then 20x[30x200]\n",
        "    </li>\n",
        "</ul>\n",
        "<br>\n",
        "\n",
        "Hidden layer:\n",
        "\n",
        "<ul>\n",
        "    <li>Each LSTM has 200 hidden units which is equivalent to the dimensionality of the embedding words and output.</li>\n",
        "</ul>\n",
        "<br>\n"
      ]
    },
    {
      "cell_type": "markdown",
      "metadata": {
        "id": "1gUKXQIUfNk1"
      },
      "source": [
        "There is a lot to be done and a ton of information to process at the same time, so go over this code slowly. It may seem complex at first, but if you try to apply what you just learned about language modelling to the code you see, you should be able to understand it.\n",
        "\n",
        "This code is adapted from the <a href=\"https://github.com/tensorflow/models?utm_medium=Exinfluencer&utm_source=Exinfluencer&utm_content=000026UJ&utm_term=10006555&utm_id=NA-SkillsNetwork-Channel-SkillsNetworkCoursesIBMDeveloperSkillsNetworkDL0120ENSkillsNetwork20629446-2021-01-01\">PTBModel</a> example bundled with the TensorFlow source code.\n",
        "\n",
        "<h3>Training data</h3>\n",
        "The story starts from data:\n",
        "<ul>\n",
        "    <li>Train data is a list of words, of size 929589, represented by numbers, e.g. [9971, 9972, 9974, 9975,...]</li>\n",
        "    <li>We read data as mini-batch of size b=30. Assume the size of each sentence is 20 words (num_steps = 20). Then it will take $$floor(\\frac{N}{b \\times h})+1=1548$$ iterations for the learner to go through all sentences once. Where N is the size of the list of words, b is batch size, and h is size of each sentence. So, the number of iterators is 1548\n",
        "    </li>\n",
        "    <li>Each batch data is read from train dataset of size 600, and shape of [30x20]</li>\n",
        "</ul>\n"
      ]
    },
    {
      "cell_type": "code",
      "metadata": {
        "id": "3yjH8_L5fNk2"
      },
      "source": [
        "# Reads the data and separates it into training data, validation data and testing data\n",
        "raw_data = reader.ptb_raw_data(data_dir)\n",
        "train_data, valid_data, test_data, vocab, word_to_id = raw_data"
      ],
      "execution_count": 60,
      "outputs": []
    },
    {
      "cell_type": "code",
      "metadata": {
        "colab": {
          "base_uri": "https://localhost:8080/"
        },
        "id": "PCcZ9ccafNk2",
        "outputId": "7f205bd9-898b-410d-8448-d40d7e6632fa"
      },
      "source": [
        "len(train_data)"
      ],
      "execution_count": 61,
      "outputs": [
        {
          "output_type": "execute_result",
          "data": {
            "text/plain": [
              "929589"
            ]
          },
          "metadata": {},
          "execution_count": 61
        }
      ]
    },
    {
      "cell_type": "code",
      "metadata": {
        "colab": {
          "base_uri": "https://localhost:8080/"
        },
        "id": "iFKSxGVVfNk2",
        "outputId": "44819612-4bd6-43e4-e45e-5abed4cd704c"
      },
      "source": [
        "def id_to_word(id_list):\n",
        "    line = []\n",
        "    for w in id_list:\n",
        "        for word, wid in word_to_id.items():\n",
        "            if wid == w:\n",
        "                line.append(word)\n",
        "    return line            \n",
        "                \n",
        "\n",
        "print(id_to_word(train_data[0:100]))"
      ],
      "execution_count": 62,
      "outputs": [
        {
          "output_type": "stream",
          "text": [
            "['aer', 'banknote', 'berlitz', 'calloway', 'centrust', 'cluett', 'fromstein', 'gitano', 'guterman', 'hydro-quebec', 'ipo', 'kia', 'memotec', 'mlx', 'nahb', 'punts', 'rake', 'regatta', 'rubens', 'sim', 'snack-food', 'ssangyong', 'swapo', 'wachter', '<eos>', 'pierre', '<unk>', 'N', 'years', 'old', 'will', 'join', 'the', 'board', 'as', 'a', 'nonexecutive', 'director', 'nov.', 'N', '<eos>', 'mr.', '<unk>', 'is', 'chairman', 'of', '<unk>', 'n.v.', 'the', 'dutch', 'publishing', 'group', '<eos>', 'rudolph', '<unk>', 'N', 'years', 'old', 'and', 'former', 'chairman', 'of', 'consolidated', 'gold', 'fields', 'plc', 'was', 'named', 'a', 'nonexecutive', 'director', 'of', 'this', 'british', 'industrial', 'conglomerate', '<eos>', 'a', 'form', 'of', 'asbestos', 'once', 'used', 'to', 'make', 'kent', 'cigarette', 'filters', 'has', 'caused', 'a', 'high', 'percentage', 'of', 'cancer', 'deaths', 'among', 'a', 'group', 'of']\n"
          ],
          "name": "stdout"
        }
      ]
    },
    {
      "cell_type": "markdown",
      "metadata": {
        "id": "sjKSS7ztfNk3"
      },
      "source": [
        "Lets just read one mini-batch now and feed our network:\n"
      ]
    },
    {
      "cell_type": "code",
      "metadata": {
        "id": "TdsSNVWQfNk4"
      },
      "source": [
        "itera = reader.ptb_iterator(train_data, batch_size, num_steps)\n",
        "first_touple = itera.__next__()\n",
        "_input_data = first_touple[0]\n",
        "_targets = first_touple[1]"
      ],
      "execution_count": 63,
      "outputs": []
    },
    {
      "cell_type": "code",
      "metadata": {
        "colab": {
          "base_uri": "https://localhost:8080/"
        },
        "id": "3oLCbSn1fNk4",
        "outputId": "da702c5f-d5f9-47e4-8a2a-63ee05342274"
      },
      "source": [
        "_input_data.shape"
      ],
      "execution_count": 64,
      "outputs": [
        {
          "output_type": "execute_result",
          "data": {
            "text/plain": [
              "(30, 20)"
            ]
          },
          "metadata": {},
          "execution_count": 64
        }
      ]
    },
    {
      "cell_type": "code",
      "metadata": {
        "colab": {
          "base_uri": "https://localhost:8080/"
        },
        "id": "Twm3Hv8nfNk5",
        "outputId": "b50e7889-b76a-45c0-ae8c-457dff6a9a5c"
      },
      "source": [
        "_targets.shape"
      ],
      "execution_count": 65,
      "outputs": [
        {
          "output_type": "execute_result",
          "data": {
            "text/plain": [
              "(30, 20)"
            ]
          },
          "metadata": {},
          "execution_count": 65
        }
      ]
    },
    {
      "cell_type": "markdown",
      "metadata": {
        "id": "tD3g5kGlfNk6"
      },
      "source": [
        "Lets look at 3 sentences of our input x:\n"
      ]
    },
    {
      "cell_type": "code",
      "metadata": {
        "colab": {
          "base_uri": "https://localhost:8080/"
        },
        "id": "zg2ylrbpfNk6",
        "outputId": "aef72042-46bd-4c96-ca7b-89109d9fccb9"
      },
      "source": [
        "_input_data[0:3]"
      ],
      "execution_count": 66,
      "outputs": [
        {
          "output_type": "execute_result",
          "data": {
            "text/plain": [
              "array([[9970, 9971, 9972, 9974, 9975, 9976, 9980, 9981, 9982, 9983, 9984,\n",
              "        9986, 9987, 9988, 9989, 9991, 9992, 9993, 9994, 9995],\n",
              "       [2654,    6,  334, 2886,    4,    1,  233,  711,  834,   11,  130,\n",
              "         123,    7,  514,    2,   63,   10,  514,    8,  605],\n",
              "       [   0, 1071,    4,    0,  185,   24,  368,   20,   31, 3109,  954,\n",
              "          12,    3,   21,    2, 2915,    2,   12,    3,   21]],\n",
              "      dtype=int32)"
            ]
          },
          "metadata": {},
          "execution_count": 66
        }
      ]
    },
    {
      "cell_type": "code",
      "metadata": {
        "colab": {
          "base_uri": "https://localhost:8080/"
        },
        "id": "D-X4BOuBfNk6",
        "outputId": "424336e0-574f-4cb9-e475-057ae1412102"
      },
      "source": [
        "print(id_to_word(_input_data[0,:]))"
      ],
      "execution_count": 67,
      "outputs": [
        {
          "output_type": "stream",
          "text": [
            "['aer', 'banknote', 'berlitz', 'calloway', 'centrust', 'cluett', 'fromstein', 'gitano', 'guterman', 'hydro-quebec', 'ipo', 'kia', 'memotec', 'mlx', 'nahb', 'punts', 'rake', 'regatta', 'rubens', 'sim']\n"
          ],
          "name": "stdout"
        }
      ]
    },
    {
      "cell_type": "markdown",
      "metadata": {
        "id": "wrPWTS1IfNk7"
      },
      "source": [
        "<h3>Embeddings</h3>\n",
        "We have to convert the words in our dataset to vectors of numbers. The traditional approach is to use one-hot encoding method that is usually used for converting categorical values to numerical values. However, One-hot encoded vectors are high-dimensional, sparse and in a big dataset, computationally inefficient. So, we use word2vec approach. It is, in fact, a layer in our LSTM network, where the word IDs will be represented as a dense representation before feeding to the LSTM. \n",
        "\n",
        "The embedded vectors also get updated during the training process of the deep neural network.\n",
        "We create the embeddings for our input data. <b>embedding_vocab</b> is matrix of \\[10000x200] for all 10000 unique words.\n"
      ]
    },
    {
      "cell_type": "markdown",
      "metadata": {
        "id": "d12tR2ubfNk7"
      },
      "source": [
        "<b>embedding_lookup()</b> finds the embedded values for our batch of 30x20 words. It  goes to each row of <code>input_data</code>, and for each word in the row/sentence, finds the correspond vector in <code>embedding_dic<code>. <br>\n",
        "It creates a \\[30x20x200] tensor, so, the first element of <b>inputs</b> (the first sentence), is a matrix of 20x200, which each row of it, is vector representing a word in the sentence.\n"
      ]
    },
    {
      "cell_type": "code",
      "metadata": {
        "id": "omrw9vn_fNk8"
      },
      "source": [
        "embedding_layer = tf.keras.layers.Embedding(vocab_size, embeding_vector_size,batch_input_shape=(batch_size, num_steps),trainable=True,name=\"embedding_vocab\")  "
      ],
      "execution_count": 68,
      "outputs": []
    },
    {
      "cell_type": "code",
      "metadata": {
        "colab": {
          "base_uri": "https://localhost:8080/"
        },
        "id": "RIZf083dfNk8",
        "outputId": "86eb6679-156c-485a-c245-d27235fd9df8"
      },
      "source": [
        "# Define where to get the data for our embeddings from\n",
        "inputs = embedding_layer(_input_data)\n",
        "inputs"
      ],
      "execution_count": 69,
      "outputs": [
        {
          "output_type": "execute_result",
          "data": {
            "text/plain": [
              "<tf.Tensor: shape=(30, 20, 200), dtype=float32, numpy=\n",
              "array([[[-0.017085  ,  0.02542304,  0.02005485, ..., -0.00546313,\n",
              "          0.04488086,  0.01221139],\n",
              "        [ 0.02773299, -0.01138989,  0.03580861, ..., -0.03128514,\n",
              "         -0.02993152,  0.0236488 ],\n",
              "        [ 0.04852524,  0.02335911,  0.02087976, ...,  0.03905607,\n",
              "         -0.0080142 , -0.02772054],\n",
              "        ...,\n",
              "        [ 0.04762253,  0.0018551 ,  0.01534846, ...,  0.02964822,\n",
              "          0.035669  ,  0.03050416],\n",
              "        [-0.0291322 ,  0.04298175, -0.01693052, ..., -0.02774191,\n",
              "          0.0002046 ,  0.00016809],\n",
              "        [ 0.02810731, -0.03278258,  0.04205786, ...,  0.021936  ,\n",
              "         -0.00332822, -0.00810007]],\n",
              "\n",
              "       [[ 0.04634224, -0.0423886 ,  0.03014171, ...,  0.0375783 ,\n",
              "          0.00713571, -0.03809201],\n",
              "        [-0.01327661,  0.0376164 , -0.01961198, ...,  0.03002551,\n",
              "          0.01293967, -0.03889512],\n",
              "        [-0.00380467, -0.03763352,  0.0343236 , ...,  0.00093003,\n",
              "         -0.02329146,  0.01101995],\n",
              "        ...,\n",
              "        [-0.02176484, -0.02283167,  0.0134552 , ...,  0.03448446,\n",
              "         -0.02469897,  0.02289334],\n",
              "        [-0.03411255, -0.02538414, -0.037095  , ...,  0.01695107,\n",
              "          0.00024815, -0.02779515],\n",
              "        [ 0.0398925 ,  0.04282571, -0.02189236, ..., -0.02624289,\n",
              "         -0.04862202,  0.02457711]],\n",
              "\n",
              "       [[ 0.03189986,  0.01544262, -0.01720061, ...,  0.0090921 ,\n",
              "         -0.00026988, -0.01566166],\n",
              "        [ 0.01727183,  0.03320551,  0.04419737, ...,  0.03332103,\n",
              "          0.045076  ,  0.04288736],\n",
              "        [ 0.00704907, -0.03552576,  0.04467285, ...,  0.02823899,\n",
              "          0.04622685,  0.04246848],\n",
              "        ...,\n",
              "        [ 0.0114105 , -0.03742015,  0.04934782, ..., -0.03179065,\n",
              "         -0.02737161, -0.02309555],\n",
              "        [ 0.04563386, -0.04897411,  0.01274191, ...,  0.03993093,\n",
              "          0.02837575,  0.04613594],\n",
              "        [ 0.03061371, -0.03955122,  0.01010533, ...,  0.02095628,\n",
              "         -0.01045329,  0.02091019]],\n",
              "\n",
              "       ...,\n",
              "\n",
              "       [[ 0.00326055, -0.02199343,  0.03543312, ...,  0.02525288,\n",
              "         -0.02204174, -0.02527835],\n",
              "        [-0.04431137,  0.02641723, -0.00203234, ..., -0.02409592,\n",
              "         -0.04920911, -0.00703729],\n",
              "        [-0.04552808, -0.01316417, -0.01124146, ...,  0.01457912,\n",
              "          0.00569371, -0.03199391],\n",
              "        ...,\n",
              "        [-0.04252527,  0.01894462, -0.04662293, ...,  0.00450283,\n",
              "         -0.02018634,  0.03065667],\n",
              "        [-0.00632907, -0.00656981,  0.01066758, ...,  0.01128687,\n",
              "         -0.01419868,  0.04451621],\n",
              "        [-0.04617728, -0.04722283, -0.00964416, ..., -0.04899516,\n",
              "          0.02399924,  0.00393309]],\n",
              "\n",
              "       [[-0.01008258, -0.00510507,  0.01401988, ..., -0.04593626,\n",
              "         -0.02207967,  0.00675861],\n",
              "        [-0.03878512, -0.03210159,  0.02110304, ..., -0.01203568,\n",
              "         -0.04098954, -0.01537437],\n",
              "        [ 0.00704907, -0.03552576,  0.04467285, ...,  0.02823899,\n",
              "          0.04622685,  0.04246848],\n",
              "        ...,\n",
              "        [-0.00395415, -0.00341114,  0.00380269, ..., -0.0305646 ,\n",
              "         -0.02806687,  0.02326081],\n",
              "        [-0.01327661,  0.0376164 , -0.01961198, ...,  0.03002551,\n",
              "          0.01293967, -0.03889512],\n",
              "        [-0.00222401, -0.0454759 ,  0.02602276, ..., -0.02724105,\n",
              "         -0.02734222,  0.04706713]],\n",
              "\n",
              "       [[ 0.02988196,  0.00234396,  0.02911304, ..., -0.02456861,\n",
              "          0.01963558,  0.0043731 ],\n",
              "        [-0.04633081, -0.04048892,  0.01290221, ..., -0.00433759,\n",
              "          0.02873719,  0.04894945],\n",
              "        [-0.00593613,  0.03437105, -0.0255865 , ...,  0.03601785,\n",
              "          0.0443587 ,  0.00613607],\n",
              "        ...,\n",
              "        [-0.04756618,  0.02186257, -0.00289637, ...,  0.00335612,\n",
              "         -0.02549044, -0.01041766],\n",
              "        [ 0.00819473,  0.03682115, -0.00122987, ..., -0.03169596,\n",
              "          0.04290619, -0.02963771],\n",
              "        [ 0.00906769, -0.02809292,  0.0311585 , ..., -0.03755788,\n",
              "          0.01777254,  0.0408023 ]]], dtype=float32)>"
            ]
          },
          "metadata": {},
          "execution_count": 69
        }
      ]
    },
    {
      "cell_type": "markdown",
      "metadata": {
        "id": "CJAHdzkYfNlO"
      },
      "source": [
        "<h3>Constructing Recurrent Neural Networks</h3>\n"
      ]
    },
    {
      "cell_type": "markdown",
      "metadata": {
        "id": "fNIzMqjsfNlP"
      },
      "source": [
        "In this step, we create the stacked LSTM using <b>tf.keras.layers.StackedRNNCells</b>, which is a 2 layer LSTM network:\n"
      ]
    },
    {
      "cell_type": "code",
      "metadata": {
        "id": "h7QU_VgHfNlQ"
      },
      "source": [
        "lstm_cell_l1 = tf.keras.layers.LSTMCell(hidden_size_l1)\n",
        "lstm_cell_l2 = tf.keras.layers.LSTMCell(hidden_size_l2)"
      ],
      "execution_count": 70,
      "outputs": []
    },
    {
      "cell_type": "code",
      "metadata": {
        "id": "eFc855jLfNlQ"
      },
      "source": [
        "stacked_lstm = tf.keras.layers.StackedRNNCells([lstm_cell_l1, lstm_cell_l2])"
      ],
      "execution_count": 71,
      "outputs": []
    },
    {
      "cell_type": "markdown",
      "metadata": {
        "id": "uG848RmrfNlR"
      },
      "source": [
        "<b>tf.keras.layers.RNN</b> creates a recurrent neural network using <b>stacked_lstm</b>.\n",
        "\n",
        "The input should be a Tensor of shape: \\[batch_size, max_time, embedding_vector_size], in our case it would be (30, 20, 200)\n"
      ]
    },
    {
      "cell_type": "code",
      "metadata": {
        "id": "UrmnA6MZfNlS"
      },
      "source": [
        "layer  =  tf.keras.layers.RNN(stacked_lstm,[batch_size, num_steps],return_state=False,stateful=True,trainable=True)"
      ],
      "execution_count": 72,
      "outputs": []
    },
    {
      "cell_type": "markdown",
      "metadata": {
        "id": "5GaDEXG3fNlS"
      },
      "source": [
        "Also, we initialize the states of the nework:\n",
        "\n",
        "<h4>_initial_state</h4>\n",
        "\n",
        "For each LSTM, there are 2 state matrices, c_state and m_state.  c_state and m_state represent \"Memory State\" and \"Cell State\". Each hidden layer, has a vector of size 30, which keeps the states. so, for 200 hidden units in each LSTM, we have a matrix of size \\[30x200]\n"
      ]
    },
    {
      "cell_type": "code",
      "metadata": {
        "id": "tfZxHhI4fNlT"
      },
      "source": [
        "init_state = tf.Variable(tf.zeros([batch_size,embeding_vector_size]),trainable=False)"
      ],
      "execution_count": 73,
      "outputs": []
    },
    {
      "cell_type": "code",
      "metadata": {
        "id": "sGWbFRPSfNlT"
      },
      "source": [
        "layer.inital_state = init_state"
      ],
      "execution_count": 74,
      "outputs": []
    },
    {
      "cell_type": "code",
      "metadata": {
        "colab": {
          "base_uri": "https://localhost:8080/"
        },
        "id": "cXK6_vn_fNlT",
        "outputId": "59c51ec2-ad67-434d-b012-0930f9101d24"
      },
      "source": [
        "layer.inital_state"
      ],
      "execution_count": 75,
      "outputs": [
        {
          "output_type": "execute_result",
          "data": {
            "text/plain": [
              "<tf.Variable 'Variable:0' shape=(30, 200) dtype=float32, numpy=\n",
              "array([[0., 0., 0., ..., 0., 0., 0.],\n",
              "       [0., 0., 0., ..., 0., 0., 0.],\n",
              "       [0., 0., 0., ..., 0., 0., 0.],\n",
              "       ...,\n",
              "       [0., 0., 0., ..., 0., 0., 0.],\n",
              "       [0., 0., 0., ..., 0., 0., 0.],\n",
              "       [0., 0., 0., ..., 0., 0., 0.]], dtype=float32)>"
            ]
          },
          "metadata": {},
          "execution_count": 75
        }
      ]
    },
    {
      "cell_type": "markdown",
      "metadata": {
        "id": "wHeWOBvLfNlU"
      },
      "source": [
        "so, lets look at the outputs. The output of the stackedLSTM comes from 128 hidden_layer, and in each time step(=20), one of them get activated. we use the linear activation to map the 128 hidden layer to a \\[30X20 matrix]\n"
      ]
    },
    {
      "cell_type": "code",
      "metadata": {
        "id": "bLuM59xNfNlU"
      },
      "source": [
        "outputs = layer(inputs)"
      ],
      "execution_count": 76,
      "outputs": []
    },
    {
      "cell_type": "code",
      "metadata": {
        "colab": {
          "base_uri": "https://localhost:8080/"
        },
        "id": "5FMFJUC5fNlU",
        "outputId": "6101e413-ef61-42dd-d7cb-d9662b8392e9"
      },
      "source": [
        "outputs"
      ],
      "execution_count": 77,
      "outputs": [
        {
          "output_type": "execute_result",
          "data": {
            "text/plain": [
              "<tf.Tensor: shape=(30, 20, 128), dtype=float32, numpy=\n",
              "array([[[-9.64355131e-05, -1.95100642e-04,  1.44260426e-04, ...,\n",
              "         -9.42773826e-04, -1.12323964e-03, -2.93250632e-04],\n",
              "        [-4.24610771e-04, -1.48484483e-03, -4.12077614e-04, ...,\n",
              "         -2.50444189e-03, -2.07453198e-03, -9.49120964e-04],\n",
              "        [ 5.00860100e-04, -3.66246933e-03,  1.58447563e-03, ...,\n",
              "         -2.79339473e-03, -3.13703367e-03, -1.23688532e-03],\n",
              "        ...,\n",
              "        [ 4.34152113e-04,  3.14911036e-03,  3.15992325e-03, ...,\n",
              "          1.32559263e-03,  1.01295169e-02, -1.59214669e-05],\n",
              "        [-7.24816171e-04,  4.82943561e-03,  2.01309379e-03, ...,\n",
              "          1.28694461e-03,  9.17070732e-03, -1.14448182e-03],\n",
              "        [-1.89444388e-03,  5.04328404e-03,  2.48998054e-03, ...,\n",
              "          1.60647719e-03,  9.39207803e-03, -6.09862851e-04]],\n",
              "\n",
              "       [[-2.79579835e-04, -5.45636794e-05, -1.12481869e-03, ...,\n",
              "          1.80209918e-05,  6.54939911e-04, -1.19514682e-03],\n",
              "        [-5.47056028e-04,  3.69783025e-04, -1.67406944e-03, ...,\n",
              "          5.96505066e-04,  1.31610967e-03, -2.80575478e-04],\n",
              "        [ 6.58345059e-04,  1.08900678e-03, -1.20490545e-03, ...,\n",
              "          3.17300262e-04,  7.41719152e-04,  1.59749493e-03],\n",
              "        ...,\n",
              "        [ 7.65468366e-03,  1.36228555e-05,  1.01082656e-03, ...,\n",
              "         -3.21712671e-03, -2.97624362e-03,  2.87093548e-03],\n",
              "        [ 6.96031190e-03, -9.24771070e-04, -5.87737130e-04, ...,\n",
              "         -3.02131590e-03, -3.25682596e-03,  2.39733723e-03],\n",
              "        [ 6.91052107e-03, -1.79354555e-03, -1.49717671e-03, ...,\n",
              "         -3.71022802e-03, -2.69323937e-03,  1.93124067e-03]],\n",
              "\n",
              "       [[-3.53571610e-04, -8.22783215e-04,  1.31435553e-03, ...,\n",
              "         -6.51672133e-04, -6.28651411e-04, -1.94696768e-04],\n",
              "        [-2.58076750e-03, -1.41162029e-03,  2.42519565e-03, ...,\n",
              "         -7.26268860e-04, -2.50040321e-03, -9.44846659e-04],\n",
              "        [-1.50852965e-03, -2.70066108e-03,  2.67691864e-03, ...,\n",
              "          2.63307069e-04, -4.22502961e-03, -1.21524103e-03],\n",
              "        ...,\n",
              "        [ 5.15888864e-03, -7.77424453e-03,  2.23061838e-03, ...,\n",
              "          7.13295583e-03,  1.11127621e-03, -3.67504871e-03],\n",
              "        [ 4.69989050e-03, -7.28038512e-03,  3.18711647e-03, ...,\n",
              "          7.61633320e-03,  1.16007996e-03, -3.19248135e-03],\n",
              "        [ 4.33757156e-03, -7.15934718e-03,  3.10907490e-03, ...,\n",
              "          7.73408776e-03,  1.55068643e-03, -2.77467840e-03]],\n",
              "\n",
              "       ...,\n",
              "\n",
              "       [[-2.78987834e-04, -9.80401761e-04,  1.76489993e-03, ...,\n",
              "          9.11088486e-04, -4.60752111e-04, -3.54775460e-04],\n",
              "        [ 2.77255254e-04, -1.85061176e-03,  3.38520529e-03, ...,\n",
              "          1.32457190e-03, -1.75552652e-03,  2.74511491e-04],\n",
              "        [ 1.02863170e-03, -2.33083265e-03,  3.82364681e-03, ...,\n",
              "          2.70084338e-03, -3.41417198e-03,  1.03578623e-03],\n",
              "        ...,\n",
              "        [ 1.24618236e-03, -7.56327296e-04,  4.14815312e-03, ...,\n",
              "          1.75324513e-03,  6.11164654e-03,  1.29578030e-03],\n",
              "        [ 6.04731089e-04, -1.41454895e-03,  2.77681206e-03, ...,\n",
              "          1.31074176e-03,  6.00947673e-03,  4.51499596e-04],\n",
              "        [ 2.06705928e-03, -2.64071766e-03,  1.31551945e-03, ...,\n",
              "          1.17436005e-03,  5.50477952e-03, -1.26497558e-04]],\n",
              "\n",
              "       [[ 4.72183834e-04, -6.28676848e-04, -4.93447296e-04, ...,\n",
              "          2.87879840e-04, -2.03854564e-04,  9.22942592e-04],\n",
              "        [ 4.40187432e-04, -1.15517713e-03, -2.27710069e-03, ...,\n",
              "         -1.00512535e-03,  4.26002698e-05,  1.05185551e-03],\n",
              "        [ 2.21857731e-03, -2.03457987e-03, -3.72472708e-03, ...,\n",
              "         -8.38608888e-04, -8.78218212e-04,  1.21293752e-03],\n",
              "        ...,\n",
              "        [ 6.86224503e-03, -5.01120789e-03, -4.57559898e-03, ...,\n",
              "         -6.16927026e-03, -5.83438901e-03, -7.39497785e-03],\n",
              "        [ 6.33985223e-03, -3.71338660e-03, -4.33831336e-03, ...,\n",
              "         -6.29674783e-03, -5.82811842e-03, -6.13238709e-03],\n",
              "        [ 5.32749062e-03, -4.09777416e-03, -5.83374267e-03, ...,\n",
              "         -5.95982186e-03, -3.59356869e-03, -4.71634604e-03]],\n",
              "\n",
              "       [[-1.27418409e-03,  9.45076114e-04,  9.40632774e-04, ...,\n",
              "         -4.19874734e-04,  6.56612683e-04,  1.62983616e-03],\n",
              "        [-1.32999988e-03,  1.68794568e-03,  2.19233203e-04, ...,\n",
              "         -1.98255316e-03,  7.68787344e-04,  1.67219085e-03],\n",
              "        [-3.50167946e-04,  1.56081351e-03, -9.44036699e-04, ...,\n",
              "         -1.28730701e-03, -3.13971192e-04,  1.66019297e-03],\n",
              "        ...,\n",
              "        [ 1.44139660e-04,  4.14441153e-03, -4.53261845e-03, ...,\n",
              "          2.35180533e-03, -6.31468603e-03,  1.41351728e-03],\n",
              "        [-4.86098754e-04,  2.50169379e-03, -4.22331505e-03, ...,\n",
              "          2.53830571e-03, -5.62770618e-03,  2.56672152e-03],\n",
              "        [-1.32156245e-03,  2.21903808e-03, -3.99352517e-03, ...,\n",
              "          2.63347966e-03, -5.50303562e-03,  3.07292049e-03]]],\n",
              "      dtype=float32)>"
            ]
          },
          "metadata": {},
          "execution_count": 77
        }
      ]
    },
    {
      "cell_type": "markdown",
      "metadata": {
        "id": "iCzRvqilfNlV"
      },
      "source": [
        "<h2>Dense layer</h2>\n",
        "We now create densely-connected neural network layer that would reshape the outputs tensor from  [30 x 20 x 128] to [30 x 20 x 10000].\n"
      ]
    },
    {
      "cell_type": "code",
      "metadata": {
        "id": "yqB8O1IQfNlV"
      },
      "source": [
        "dense = tf.keras.layers.Dense(vocab_size)"
      ],
      "execution_count": 78,
      "outputs": []
    },
    {
      "cell_type": "code",
      "metadata": {
        "id": "ULGfD1OCfNlW"
      },
      "source": [
        "logits_outputs  = dense(outputs)"
      ],
      "execution_count": 79,
      "outputs": []
    },
    {
      "cell_type": "code",
      "metadata": {
        "colab": {
          "base_uri": "https://localhost:8080/"
        },
        "id": "hLhJnCIHfNlW",
        "outputId": "39ec1b9c-3f41-4e37-9083-16d90fa0971a"
      },
      "source": [
        "print(\"shape of the output from dense layer: \", logits_outputs.shape) #(batch_size, sequence_length, vocab_size)"
      ],
      "execution_count": 80,
      "outputs": [
        {
          "output_type": "stream",
          "text": [
            "shape of the output from dense layer:  (30, 20, 10000)\n"
          ],
          "name": "stdout"
        }
      ]
    },
    {
      "cell_type": "markdown",
      "metadata": {
        "id": "Vtz98Fb5fNlW"
      },
      "source": [
        "<h2>Activation layer</h2>\n",
        "\n",
        "A softmax activation layers is also then applied to derive the probability of the output being in any of the multiclass(10000 in this case) possibilities.\n"
      ]
    },
    {
      "cell_type": "code",
      "metadata": {
        "id": "VHQNupdvfNlW"
      },
      "source": [
        "activation = tf.keras.layers.Activation('softmax')"
      ],
      "execution_count": 81,
      "outputs": []
    },
    {
      "cell_type": "code",
      "metadata": {
        "id": "VrhGIRFzfNlX"
      },
      "source": [
        "output_words_prob = activation(logits_outputs)"
      ],
      "execution_count": 82,
      "outputs": []
    },
    {
      "cell_type": "code",
      "metadata": {
        "colab": {
          "base_uri": "https://localhost:8080/"
        },
        "id": "ijC9YXZ9fNlX",
        "outputId": "fc2dd755-ff42-429b-edcd-c97ffa02353b"
      },
      "source": [
        "print(\"shape of the output from the activation layer: \", output_words_prob.shape) #(batch_size, sequence_length, vocab_size)"
      ],
      "execution_count": 83,
      "outputs": [
        {
          "output_type": "stream",
          "text": [
            "shape of the output from the activation layer:  (30, 20, 10000)\n"
          ],
          "name": "stdout"
        }
      ]
    },
    {
      "cell_type": "markdown",
      "metadata": {
        "id": "49P7k3vLfNlY"
      },
      "source": [
        "Lets look at the probability of observing words for t=0 to t=20:\n"
      ]
    },
    {
      "cell_type": "code",
      "metadata": {
        "colab": {
          "base_uri": "https://localhost:8080/"
        },
        "id": "0a88hVpBfNlY",
        "outputId": "e1a69de7-0821-474c-b40a-1fb504ae73e2"
      },
      "source": [
        "print(\"The probability of observing words in t=0 to t=20\", output_words_prob[0,0:num_steps])"
      ],
      "execution_count": 84,
      "outputs": [
        {
          "output_type": "stream",
          "text": [
            "The probability of observing words in t=0 to t=20 tf.Tensor(\n",
            "[[1.00003126e-04 1.00014106e-04 1.00017300e-04 ... 1.00023630e-04\n",
            "  1.00018020e-04 9.99925178e-05]\n",
            " [9.99963813e-05 1.00032725e-04 1.00032150e-04 ... 1.00036494e-04\n",
            "  1.00017343e-04 1.00012934e-04]\n",
            " [1.00015350e-04 1.00076453e-04 1.00062498e-04 ... 1.00067984e-04\n",
            "  1.00016441e-04 1.00017300e-04]\n",
            " ...\n",
            " [9.99166878e-05 9.98847972e-05 9.99616459e-05 ... 9.99701515e-05\n",
            "  9.99793047e-05 1.00005702e-04]\n",
            " [9.99044787e-05 9.98699106e-05 9.99571566e-05 ... 9.99629119e-05\n",
            "  9.99803960e-05 1.00014113e-04]\n",
            " [9.99001568e-05 9.98444521e-05 9.99368494e-05 ... 9.99677432e-05\n",
            "  9.99859549e-05 1.00004996e-04]], shape=(20, 10000), dtype=float32)\n"
          ],
          "name": "stdout"
        }
      ]
    },
    {
      "cell_type": "markdown",
      "metadata": {
        "id": "UzDy8TlnfNlZ"
      },
      "source": [
        "<h3>Prediction</h3>\n",
        "What is the word correspond to the probability output? Lets use the maximum probability:\n"
      ]
    },
    {
      "cell_type": "code",
      "metadata": {
        "colab": {
          "base_uri": "https://localhost:8080/"
        },
        "id": "IzOXhi0afNlZ",
        "outputId": "cae91c20-96e0-4785-b0ac-67f46005f617"
      },
      "source": [
        "np.argmax(output_words_prob[0,0:num_steps], axis=1)"
      ],
      "execution_count": 85,
      "outputs": [
        {
          "output_type": "execute_result",
          "data": {
            "text/plain": [
              "array([1815, 1815, 1208, 1258, 1258, 1258, 1258,  784, 7642,  146, 1888,\n",
              "       1888, 1573, 1573,   60, 5281, 6743, 3188, 3188, 4973])"
            ]
          },
          "metadata": {},
          "execution_count": 85
        }
      ]
    },
    {
      "cell_type": "markdown",
      "metadata": {
        "id": "37Y-meU_fNla"
      },
      "source": [
        "So, what is the ground truth for the first word of first sentence? You can get it from target tensor, if you want to find the embedding vector:\n"
      ]
    },
    {
      "cell_type": "code",
      "metadata": {
        "colab": {
          "base_uri": "https://localhost:8080/"
        },
        "id": "kka7bH9wfNla",
        "outputId": "d57a685e-d705-4ce7-f1d4-51a1c5a03f53"
      },
      "source": [
        "_targets[0]"
      ],
      "execution_count": 86,
      "outputs": [
        {
          "output_type": "execute_result",
          "data": {
            "text/plain": [
              "array([9971, 9972, 9974, 9975, 9976, 9980, 9981, 9982, 9983, 9984, 9986,\n",
              "       9987, 9988, 9989, 9991, 9992, 9993, 9994, 9995, 9996], dtype=int32)"
            ]
          },
          "metadata": {},
          "execution_count": 86
        }
      ]
    },
    {
      "cell_type": "markdown",
      "metadata": {
        "id": "x9_XPUv0fNla"
      },
      "source": [
        "<h4>Objective function</h4>\n",
        "\n",
        "How similar the predicted words are to the target words?\n",
        "\n",
        "Now we have to define our objective function, to calculate the similarity of predicted values to ground truth, and then, penalize the model with the error. Our objective is to minimize loss function, that is, to minimize the average negative log probability of the target words:\n",
        "\n",
        "$$\\text{loss} = -\\frac{1}{N}\\sum\\_{i=1}^{N} \\ln p\\_{\\text{target}\\_i}$$\n",
        "\n",
        "This function is already implemented and available in TensorFlow through *tf.keras.losses.sparse_categorical_crossentropy*. It calculates the categorical cross-entropy loss for <b>logits</b> and the <b>target</b> sequence.\n",
        "\n",
        "The arguments of this function are:\n",
        "\n",
        "<ul>\n",
        "    <li>logits: List of 2D Tensors of shape [batch_size x num_decoder_symbols].</li>  \n",
        "    <li>targets: List of 1D batch-sized int32 Tensors of the same length as logits.</li>   \n",
        "</ul>\n"
      ]
    },
    {
      "cell_type": "code",
      "metadata": {
        "id": "NFU6l93-fNlb"
      },
      "source": [
        "def crossentropy(y_true, y_pred):\n",
        "    return tf.keras.losses.sparse_categorical_crossentropy(y_true, y_pred)"
      ],
      "execution_count": 87,
      "outputs": []
    },
    {
      "cell_type": "code",
      "metadata": {
        "id": "w6ppL4G0fNlb"
      },
      "source": [
        "loss  = crossentropy(_targets, output_words_prob)"
      ],
      "execution_count": 88,
      "outputs": []
    },
    {
      "cell_type": "markdown",
      "metadata": {
        "id": "bpRXT-gofNlb"
      },
      "source": [
        "Lets look at the first 10 values of loss:\n"
      ]
    },
    {
      "cell_type": "code",
      "metadata": {
        "colab": {
          "base_uri": "https://localhost:8080/"
        },
        "id": "71TeK6wUfNlb",
        "outputId": "4b3d4dc6-cc00-4b08-9c96-34fb8d280a6f"
      },
      "source": [
        "loss[0,:10]"
      ],
      "execution_count": 89,
      "outputs": [
        {
          "output_type": "execute_result",
          "data": {
            "text/plain": [
              "<tf.Tensor: shape=(10,), dtype=float32, numpy=\n",
              "array([9.21049 , 9.210338, 9.210043, 9.210957, 9.210024, 9.209133,\n",
              "       9.209975, 9.210648, 9.210276, 9.210916], dtype=float32)>"
            ]
          },
          "metadata": {},
          "execution_count": 89
        }
      ]
    },
    {
      "cell_type": "markdown",
      "metadata": {
        "id": "uzoK2wxgfNlc"
      },
      "source": [
        "Now, we define cost as average of the losses:\n"
      ]
    },
    {
      "cell_type": "code",
      "metadata": {
        "colab": {
          "base_uri": "https://localhost:8080/"
        },
        "id": "tABNIiWmfNlc",
        "outputId": "49477619-a680-4cb8-83b8-e841c49f52ac"
      },
      "source": [
        "cost = tf.reduce_sum(loss / batch_size)\n",
        "cost"
      ],
      "execution_count": 90,
      "outputs": [
        {
          "output_type": "execute_result",
          "data": {
            "text/plain": [
              "<tf.Tensor: shape=(), dtype=float32, numpy=184.2067>"
            ]
          },
          "metadata": {},
          "execution_count": 90
        }
      ]
    },
    {
      "cell_type": "markdown",
      "metadata": {
        "id": "IremCa2RfNld"
      },
      "source": [
        "<h3>Training</h3>\n",
        "\n",
        "To do training for our network, we have to take the following steps:\n",
        "\n",
        "<ol>\n",
        "    <li>Define the optimizer.</li>\n",
        "    <li>Assemble layers to build model.</li>\n",
        "    <li>Calculate the gradients based on the loss function.</li>\n",
        "    <li>Apply the optimizer to the variables/gradients tuple.</li>\n",
        "</ol>\n"
      ]
    },
    {
      "cell_type": "markdown",
      "metadata": {
        "id": "7VXgRINPfNld"
      },
      "source": [
        "<h4>1. Define Optimizer</h4>\n"
      ]
    },
    {
      "cell_type": "code",
      "metadata": {
        "id": "xLePuNScfNld"
      },
      "source": [
        "# Create a variable for the learning rate\n",
        "lr = tf.Variable(0.0, trainable=False)\n",
        "optimizer = tf.keras.optimizers.SGD(lr=lr, clipnorm=max_grad_norm)"
      ],
      "execution_count": 91,
      "outputs": []
    },
    {
      "cell_type": "markdown",
      "metadata": {
        "id": "Q9D_UrflfNle"
      },
      "source": [
        "<h4>2. Assemble layers to build model.</h4>\n"
      ]
    },
    {
      "cell_type": "code",
      "metadata": {
        "colab": {
          "base_uri": "https://localhost:8080/"
        },
        "id": "O0GgnRR1fNle",
        "outputId": "2763607a-4bf9-4752-ccc2-819522f41d86"
      },
      "source": [
        "model = tf.keras.Sequential()\n",
        "model.add(embedding_layer)\n",
        "model.add(layer)\n",
        "model.add(dense)\n",
        "model.add(activation)\n",
        "model.compile(loss=crossentropy, optimizer=optimizer)\n",
        "model.summary()"
      ],
      "execution_count": 92,
      "outputs": [
        {
          "output_type": "stream",
          "text": [
            "Model: \"sequential_2\"\n",
            "_________________________________________________________________\n",
            "Layer (type)                 Output Shape              Param #   \n",
            "=================================================================\n",
            "embedding_vocab (Embedding)  (30, 20, 200)             2000000   \n",
            "_________________________________________________________________\n",
            "rnn_2 (RNN)                  (30, 20, 128)             671088    \n",
            "_________________________________________________________________\n",
            "dense_2 (Dense)              (30, 20, 10000)           1290000   \n",
            "_________________________________________________________________\n",
            "activation_2 (Activation)    (30, 20, 10000)           0         \n",
            "=================================================================\n",
            "Total params: 3,961,088\n",
            "Trainable params: 3,955,088\n",
            "Non-trainable params: 6,000\n",
            "_________________________________________________________________\n"
          ],
          "name": "stdout"
        }
      ]
    },
    {
      "cell_type": "markdown",
      "metadata": {
        "id": "q2t2dW8yfNlf"
      },
      "source": [
        "<h4>2. Trainable Variables</h4>\n"
      ]
    },
    {
      "cell_type": "markdown",
      "metadata": {
        "id": "sihH2UTSfNlf"
      },
      "source": [
        "Defining a variable, if you passed <i>trainable=True</i>, the variable constructor automatically adds new variables to the graph collection <b>GraphKeys.TRAINABLE_VARIABLES</b>. Now, using <i>tf.trainable_variables()</i> you can get all variables created with <b>trainable=True</b>.\n"
      ]
    },
    {
      "cell_type": "code",
      "metadata": {
        "id": "vTojqPT-fNlf"
      },
      "source": [
        "# Get all TensorFlow variables marked as \"trainable\" (i.e. all of them except _lr, which we just created)\n",
        "tvars = model.trainable_variables"
      ],
      "execution_count": 93,
      "outputs": []
    },
    {
      "cell_type": "markdown",
      "metadata": {
        "id": "CtDzR0dkfNlg"
      },
      "source": [
        "Note: we can find the name and scope of all variables:\n"
      ]
    },
    {
      "cell_type": "code",
      "metadata": {
        "colab": {
          "base_uri": "https://localhost:8080/"
        },
        "id": "_Sa-Ro0dfNlg",
        "outputId": "2d8ae9e2-6233-493a-cdd9-f87655086981"
      },
      "source": [
        "[v.name for v in tvars] "
      ],
      "execution_count": 94,
      "outputs": [
        {
          "output_type": "execute_result",
          "data": {
            "text/plain": [
              "['embedding_vocab/embeddings:0',\n",
              " 'rnn_2/stacked_rnn_cells_2/lstm_cell_4/kernel:0',\n",
              " 'rnn_2/stacked_rnn_cells_2/lstm_cell_4/recurrent_kernel:0',\n",
              " 'rnn_2/stacked_rnn_cells_2/lstm_cell_4/bias:0',\n",
              " 'rnn_2/stacked_rnn_cells_2/lstm_cell_5/kernel:0',\n",
              " 'rnn_2/stacked_rnn_cells_2/lstm_cell_5/recurrent_kernel:0',\n",
              " 'rnn_2/stacked_rnn_cells_2/lstm_cell_5/bias:0',\n",
              " 'dense_2/kernel:0',\n",
              " 'dense_2/bias:0']"
            ]
          },
          "metadata": {},
          "execution_count": 94
        }
      ]
    },
    {
      "cell_type": "markdown",
      "metadata": {
        "id": "p6Tvom7qfNlh"
      },
      "source": [
        "<h4>3. Calculate the gradients based on the loss function</h4>\n"
      ]
    },
    {
      "cell_type": "markdown",
      "metadata": {
        "id": "cAzrbgRRfNlh"
      },
      "source": [
        "**Gradient**: The gradient of a function is the slope of its derivative (line), or in other words, the rate of change of a function. It's a vector (a direction to move) that points in the direction of greatest increase of the function, and calculated by the <b>derivative</b> operation.\n"
      ]
    },
    {
      "cell_type": "markdown",
      "metadata": {
        "id": "-gbv3TYpfNli"
      },
      "source": [
        "First lets recall the gradient function using an toy example:\n",
        "$$ z = \\left(2x^2 + 3xy\\right)$$\n"
      ]
    },
    {
      "cell_type": "code",
      "metadata": {
        "id": "t7Hl2XRzfNli"
      },
      "source": [
        "x = tf.constant(1.0)\n",
        "y =  tf.constant(2.0)\n",
        "with tf.GradientTape(persistent=True) as g:\n",
        "    g.watch(x)\n",
        "    g.watch(y)\n",
        "    func_test = 2 * x * x + 3 * x * y"
      ],
      "execution_count": 95,
      "outputs": []
    },
    {
      "cell_type": "markdown",
      "metadata": {
        "id": "U260A0AdfNli"
      },
      "source": [
        "The <b>tf.gradients()</b> function allows you to compute the symbolic gradient of one tensor with respect to one or more other tensors—including variables. <b>tf.gradients(func, xs)</b> constructs symbolic partial derivatives of sum of <b>func</b> w\\.r.t. <i>x</i> in <b>xs</b>.\n",
        "\n",
        "Now, lets look at the derivitive w\\.r.t. <b>var_x</b>:\n",
        "$$ \\frac{\\partial :}{\\partial \\:x}\\left(2x^2 + 3xy\\right) = 4x + 3y $$\n"
      ]
    },
    {
      "cell_type": "code",
      "metadata": {
        "colab": {
          "base_uri": "https://localhost:8080/"
        },
        "id": "yXxin2q9fNlj",
        "outputId": "25057aca-31f6-4708-d1c9-338763f1a19b"
      },
      "source": [
        "var_grad = g.gradient(func_test, x) # Will compute to 10.0\n",
        "print(var_grad)"
      ],
      "execution_count": 96,
      "outputs": [
        {
          "output_type": "stream",
          "text": [
            "tf.Tensor(10.0, shape=(), dtype=float32)\n"
          ],
          "name": "stdout"
        }
      ]
    },
    {
      "cell_type": "markdown",
      "metadata": {
        "id": "LFB2z-l5fNlj"
      },
      "source": [
        "the derivative w\\.r.t. <b>var_y</b>:\n",
        "$$ \\frac{\\partial :}{\\partial \\:y}\\left(2x^2 + 3xy\\right) = 3x $$\n"
      ]
    },
    {
      "cell_type": "code",
      "metadata": {
        "colab": {
          "base_uri": "https://localhost:8080/"
        },
        "id": "4vTBUUWOfNlj",
        "outputId": "cfcb899d-86bd-4c35-8a0e-1782946f0198"
      },
      "source": [
        "var_grad = g.gradient(func_test, y) # Will compute to 3.0\n",
        "print(var_grad)"
      ],
      "execution_count": 97,
      "outputs": [
        {
          "output_type": "stream",
          "text": [
            "tf.Tensor(3.0, shape=(), dtype=float32)\n"
          ],
          "name": "stdout"
        }
      ]
    },
    {
      "cell_type": "markdown",
      "metadata": {
        "id": "HQs6VK5OfNlk"
      },
      "source": [
        "Now, we can look at gradients w\\.r.t all variables:\n"
      ]
    },
    {
      "cell_type": "code",
      "metadata": {
        "id": "VVaJcBt_fNlk"
      },
      "source": [
        "with tf.GradientTape() as tape:\n",
        "    # Forward pass.\n",
        "    output_words_prob = model(_input_data)\n",
        "    # Loss value for this batch.\n",
        "    loss  = crossentropy(_targets, output_words_prob)\n",
        "    cost = tf.reduce_sum(loss,axis=0) / batch_size"
      ],
      "execution_count": 98,
      "outputs": []
    },
    {
      "cell_type": "code",
      "metadata": {
        "id": "LE1DPB7afNll"
      },
      "source": [
        "# Get gradients of loss wrt the trainable variables.\n",
        "grad_t_list = tape.gradient(cost, tvars)"
      ],
      "execution_count": 99,
      "outputs": []
    },
    {
      "cell_type": "code",
      "metadata": {
        "colab": {
          "base_uri": "https://localhost:8080/"
        },
        "id": "N1dJ-lRDfNll",
        "outputId": "706ef7cf-b27c-46a2-c5b5-e07121cd65cf"
      },
      "source": [
        "print(grad_t_list)"
      ],
      "execution_count": 100,
      "outputs": [
        {
          "output_type": "stream",
          "text": [
            "[<tensorflow.python.framework.indexed_slices.IndexedSlices object at 0x7f1ff5580290>, <tf.Tensor: shape=(200, 1024), dtype=float32, numpy=\n",
            "array([[ 1.2217943e-07,  4.6323208e-07,  4.0278584e-07, ...,\n",
            "         3.6258834e-07, -3.9238012e-07, -4.5884423e-07],\n",
            "       [ 3.7486905e-07,  2.6618975e-06,  8.2799193e-07, ...,\n",
            "        -2.8218284e-07,  2.5830349e-07, -1.2993785e-07],\n",
            "       [ 3.8566520e-07, -7.9569185e-07, -2.7127567e-07, ...,\n",
            "         1.3981254e-07,  7.3669426e-08, -3.0630130e-07],\n",
            "       ...,\n",
            "       [ 3.6816442e-07,  1.0264881e-06, -3.4788104e-07, ...,\n",
            "         1.9191609e-07, -3.1463924e-07, -4.3029095e-07],\n",
            "       [ 5.1917146e-07,  1.1783654e-06, -5.9762380e-07, ...,\n",
            "         2.5066143e-07, -6.7162745e-08, -1.9623517e-08],\n",
            "       [-1.2325296e-07, -9.5837436e-08, -2.2305515e-07, ...,\n",
            "         2.5037107e-07, -1.8385350e-07,  2.8399988e-08]], dtype=float32)>, <tf.Tensor: shape=(256, 1024), dtype=float32, numpy=\n",
            "array([[ 1.4912291e-07,  2.8022349e-08, -2.0185771e-08, ...,\n",
            "        -4.8634021e-08,  2.2718289e-07, -5.6636352e-08],\n",
            "       [-1.4923039e-08, -2.9133665e-07,  1.7335946e-09, ...,\n",
            "         3.4998795e-08, -1.2711714e-08, -2.7225555e-08],\n",
            "       [-1.1666869e-07, -9.1675346e-08, -3.2541919e-07, ...,\n",
            "        -1.0843381e-07, -5.5633620e-08, -2.2791177e-08],\n",
            "       ...,\n",
            "       [ 1.0800124e-07, -1.3097818e-07, -5.8836932e-08, ...,\n",
            "         4.2640149e-08, -5.6700006e-08, -6.3363117e-08],\n",
            "       [-2.8610074e-09,  2.1754124e-07, -8.5761101e-08, ...,\n",
            "        -7.2149973e-08,  9.6668330e-08, -6.0093868e-08],\n",
            "       [-2.8258398e-08, -9.6019789e-08, -1.5814345e-08, ...,\n",
            "        -1.3918398e-07, -1.2574795e-07,  1.3007990e-07]], dtype=float32)>, <tf.Tensor: shape=(1024,), dtype=float32, numpy=\n",
            "array([ 1.6579606e-06,  5.3656084e-05, -1.7859800e-06, ...,\n",
            "        1.7215221e-05,  8.0302361e-06, -1.4474248e-05], dtype=float32)>, <tf.Tensor: shape=(256, 512), dtype=float32, numpy=\n",
            "array([[ 3.68303290e-08,  6.57766535e-08, -2.06623071e-07, ...,\n",
            "        -1.62388886e-07, -4.00352690e-07, -6.60471358e-08],\n",
            "       [-1.96401643e-07, -4.36125696e-08, -1.04392996e-07, ...,\n",
            "         8.01774860e-08, -1.61762870e-07, -8.58091340e-08],\n",
            "       [-3.19600701e-07, -1.77773018e-07,  9.18528897e-08, ...,\n",
            "        -2.93202675e-07, -2.68602605e-07, -3.61191326e-08],\n",
            "       ...,\n",
            "       [-1.71359474e-07,  1.73962889e-08,  1.18442557e-07, ...,\n",
            "        -3.63742885e-08, -2.65450737e-08,  6.29165697e-08],\n",
            "       [ 1.36896119e-07,  6.66549056e-08, -7.37299288e-08, ...,\n",
            "        -1.62193089e-07, -2.83889733e-07,  1.52912861e-07],\n",
            "       [-4.36464589e-08,  2.18111012e-07, -2.96516987e-07, ...,\n",
            "         3.73708588e-07,  1.28818257e-07,  6.02531287e-08]], dtype=float32)>, <tf.Tensor: shape=(128, 512), dtype=float32, numpy=\n",
            "array([[-3.8350322e-07,  1.8949880e-08,  4.6650996e-08, ...,\n",
            "        -9.6698294e-09, -1.0322862e-07,  3.7747888e-08],\n",
            "       [ 1.3302508e-07,  3.4739139e-07, -2.7883027e-07, ...,\n",
            "         1.2721492e-07,  4.0047965e-08, -1.4976557e-07],\n",
            "       [ 8.9992682e-08, -2.2342283e-07,  4.3875050e-07, ...,\n",
            "        -2.5673978e-07,  2.0229683e-07,  6.0139200e-08],\n",
            "       ...,\n",
            "       [ 6.3833326e-08, -8.9446488e-08,  5.1935608e-08, ...,\n",
            "        -3.2727866e-07, -9.8012185e-09,  1.8967540e-08],\n",
            "       [ 9.7109087e-08, -7.0118364e-09, -4.6671964e-08, ...,\n",
            "         3.9987047e-08,  4.5029685e-07,  8.8195762e-09],\n",
            "       [-2.0011516e-08,  6.1158815e-08, -1.5543134e-07, ...,\n",
            "        -3.3395146e-08,  1.3522214e-09, -8.1878298e-08]], dtype=float32)>, <tf.Tensor: shape=(512,), dtype=float32, numpy=\n",
            "array([-2.14298666e-06, -3.66505374e-05,  5.11808103e-05,  3.94015333e-05,\n",
            "        1.93047490e-05,  1.40510883e-05, -2.89555901e-05,  3.21693587e-05,\n",
            "       -1.27610747e-06,  1.71149186e-05,  3.60474514e-05, -1.78094633e-05,\n",
            "        2.98285195e-05,  3.01989639e-05, -1.84995915e-05, -6.91300374e-06,\n",
            "       -1.30240041e-05, -3.57669705e-05,  2.97126062e-05,  8.86287307e-06,\n",
            "       -2.82813271e-05,  7.34991772e-05, -3.72715840e-05,  1.56167662e-05,\n",
            "        2.98580089e-05, -4.03547165e-05, -2.52379195e-05, -7.19989112e-06,\n",
            "        1.31935631e-05,  2.79440719e-05,  1.21897974e-05, -1.85975150e-05,\n",
            "        7.58278475e-07,  1.34683796e-06,  7.37546452e-06,  1.80245479e-06,\n",
            "        3.56132659e-05, -2.91650395e-05,  9.32944022e-06, -5.94557150e-06,\n",
            "        5.47860418e-06,  4.84262891e-05, -3.11546501e-05, -3.40948554e-06,\n",
            "       -5.00893111e-05,  1.13476635e-05,  5.84579539e-06,  3.32730124e-05,\n",
            "       -3.33131102e-05,  1.96610854e-05, -8.16239481e-06,  4.05465762e-05,\n",
            "        2.67891737e-05,  1.85025965e-05,  5.27661323e-05, -1.89610346e-05,\n",
            "        1.79943145e-05, -2.71266708e-06, -7.98528563e-05, -7.46386104e-06,\n",
            "        5.54032613e-06, -1.66097798e-05, -1.75478381e-05, -2.14930260e-05,\n",
            "        4.28827880e-05, -3.44652062e-06,  3.16235273e-05,  1.03283801e-05,\n",
            "       -2.08431320e-05,  4.52002205e-05, -1.02401027e-05,  2.79282704e-05,\n",
            "       -1.62388587e-05,  1.78827850e-06, -7.63188564e-06,  1.03960738e-05,\n",
            "        5.63984577e-06,  3.20426370e-05,  1.24632143e-05, -2.32332532e-05,\n",
            "        3.04656915e-05, -2.11310216e-05,  1.49591469e-05,  1.15514194e-05,\n",
            "       -9.27553538e-06,  2.09951722e-05,  4.64194745e-05, -1.59637912e-05,\n",
            "       -1.25977922e-05, -3.59031583e-05,  2.64858445e-05, -1.37010884e-05,\n",
            "        1.63202094e-06,  1.18177286e-05,  1.71220418e-05, -3.56580931e-05,\n",
            "       -2.47550888e-05, -1.43231864e-05, -3.46601009e-05, -3.10413707e-05,\n",
            "       -3.41101077e-05,  3.16201003e-05, -3.92814545e-05,  1.46906805e-05,\n",
            "        3.14461322e-05, -2.65120907e-05,  4.83104850e-06, -5.16940236e-06,\n",
            "       -2.08830606e-05,  9.11565803e-06, -9.53140716e-06, -3.28819115e-05,\n",
            "       -3.55566444e-05, -1.90967112e-05, -1.01786245e-05, -1.79103572e-05,\n",
            "        8.86917696e-05, -1.51797940e-05,  1.54490408e-05, -8.05178024e-06,\n",
            "       -4.22189842e-05,  9.10492872e-06, -3.43826941e-05, -2.03741206e-06,\n",
            "        2.08270358e-05, -2.62825124e-05,  6.00516069e-06,  2.40218869e-05,\n",
            "       -9.70721885e-06, -5.93700133e-05,  6.62429957e-05,  4.07572952e-05,\n",
            "        2.49310142e-05,  6.24133554e-06, -3.32532982e-05,  3.85276653e-05,\n",
            "       -1.58367220e-06,  3.07726477e-05,  4.16405637e-05, -4.77263020e-05,\n",
            "        3.31624360e-05,  4.92265572e-05, -5.18705856e-05, -2.33750998e-05,\n",
            "       -1.56554779e-06, -5.01307150e-05,  4.47197708e-05,  1.34755828e-06,\n",
            "       -9.42963470e-06,  9.86840460e-05, -4.58478535e-05,  2.53937251e-05,\n",
            "        3.23443965e-05, -5.63079229e-05, -3.61713828e-05,  1.57283885e-05,\n",
            "        3.68548426e-05,  6.40803482e-05,  5.46181855e-06, -2.54333609e-05,\n",
            "        3.07410883e-05, -1.44406840e-06, -2.13427957e-05,  9.86335635e-06,\n",
            "        5.85353700e-05, -3.34367469e-05, -1.59562842e-06, -3.12188604e-05,\n",
            "        5.05898242e-06,  7.09313899e-05, -4.42807104e-05, -2.37905133e-05,\n",
            "       -7.26239232e-05,  2.33351693e-05,  2.32096863e-06,  7.08413354e-05,\n",
            "       -2.93964495e-05,  1.44976857e-05,  1.16073070e-05,  4.80957351e-05,\n",
            "        3.07876981e-05,  3.44341388e-05,  5.98206898e-05, -2.63162838e-05,\n",
            "        1.65054680e-05,  2.42151691e-05, -1.03872153e-04,  4.36178561e-06,\n",
            "        2.79050255e-07, -2.47663993e-05, -5.26812801e-05, -1.45318518e-06,\n",
            "        7.27434381e-05, -1.56523129e-05,  5.25796058e-05, -4.37386916e-07,\n",
            "       -3.07539594e-05,  3.59849328e-05, -1.18005973e-05,  3.81272694e-05,\n",
            "       -3.38417776e-05,  6.68301436e-06, -1.02578952e-05, -6.42542727e-06,\n",
            "       -5.71377404e-06,  2.93813773e-05,  6.26718793e-06, -3.99471828e-05,\n",
            "        4.85584460e-05, -2.69775546e-06,  2.36044416e-05, -8.93844026e-06,\n",
            "       -3.76231128e-07,  3.64088082e-05,  4.28582935e-05, -1.39983522e-05,\n",
            "       -1.32542045e-05, -4.86121571e-05,  6.08159717e-05,  2.78243351e-06,\n",
            "       -7.46402111e-06,  9.18575824e-06,  1.50262740e-05, -5.43753013e-05,\n",
            "       -2.63591864e-05, -2.77781801e-05, -5.00344831e-05, -4.29255742e-05,\n",
            "       -2.44292423e-05,  3.52275092e-05, -6.81250531e-05, -9.12955420e-06,\n",
            "        2.65549243e-05, -6.83876933e-05, -5.66406470e-07, -2.49026543e-05,\n",
            "       -3.11289914e-05,  2.78070293e-05, -9.27450947e-06, -5.62619425e-05,\n",
            "       -6.11726718e-05,  1.86234502e-06, -5.73597845e-06, -4.32322558e-05,\n",
            "        1.13411937e-04,  5.12299448e-06, -3.24234043e-06, -1.06727894e-05,\n",
            "       -4.22733974e-05,  1.38452942e-05, -8.65765614e-05, -1.58290459e-06,\n",
            "        4.59656803e-06, -3.61228049e-05,  1.39200438e-05,  3.86777465e-05,\n",
            "       -8.38410296e-03,  2.40041316e-02,  3.10476348e-02,  7.33603463e-02,\n",
            "        4.66241986e-02, -9.12654214e-03, -1.29855908e-02,  6.51414543e-02,\n",
            "       -1.14508187e-02, -4.98412326e-02, -2.55180337e-02, -1.01107042e-02,\n",
            "       -2.60643400e-02,  3.78917754e-02,  2.71323118e-02, -5.72624430e-02,\n",
            "       -3.95510811e-03,  3.41239311e-02,  2.65803859e-02,  3.33327660e-03,\n",
            "        2.73721945e-03, -4.50456887e-02, -2.39024162e-02,  6.11805730e-02,\n",
            "       -5.90050779e-03,  4.91124727e-02, -1.23397773e-02,  9.74362530e-03,\n",
            "        7.59555912e-03, -2.77873687e-02, -2.17911974e-02,  2.11296324e-02,\n",
            "        5.26832417e-02, -1.44639499e-02, -4.98833135e-02,  2.60339938e-02,\n",
            "       -2.79461332e-02,  5.10251671e-02, -3.49636599e-02,  2.52310131e-02,\n",
            "        3.13128904e-02, -1.61593929e-02, -2.61160508e-02, -1.70324706e-02,\n",
            "       -4.71455157e-02, -7.79070309e-04, -3.46820429e-02, -1.38833718e-02,\n",
            "       -1.66569091e-03,  5.72514534e-03, -4.73642908e-02, -3.82901579e-02,\n",
            "       -1.00360829e-02, -5.23645505e-02,  3.64561677e-02, -2.46551819e-02,\n",
            "        1.57993436e-02, -6.26313686e-03,  1.48949595e-02,  1.98507570e-02,\n",
            "        2.29321308e-02,  5.52336499e-02,  2.73627602e-02,  1.10666202e-02,\n",
            "       -4.06940654e-02, -1.08971745e-02, -2.36220378e-02, -3.56002674e-02,\n",
            "       -4.50383425e-02,  3.47527675e-03, -2.34669000e-02,  3.32013257e-02,\n",
            "       -1.82842091e-02,  6.57841377e-03,  3.13984901e-02, -4.13502380e-02,\n",
            "       -3.69987171e-03,  5.63921174e-03,  2.30011716e-02, -3.52137014e-02,\n",
            "       -5.52291609e-02,  3.69318575e-02,  4.07858044e-02,  6.50838204e-03,\n",
            "       -1.00086257e-02, -2.54546525e-03, -1.65315960e-02,  2.84311511e-02,\n",
            "       -6.16284553e-04,  3.15138921e-02, -1.53393364e-02, -1.37947779e-02,\n",
            "        6.37472514e-03, -7.95821194e-03,  2.82927346e-03, -5.49719017e-03,\n",
            "        2.90082861e-02,  3.19042057e-02,  2.28579924e-03,  3.09316274e-02,\n",
            "       -3.86469550e-02, -2.49628052e-02,  1.82957016e-02, -1.47801563e-02,\n",
            "       -2.53526028e-02,  3.52323167e-02,  1.53780505e-02, -2.73653325e-02,\n",
            "        2.50733010e-02,  1.51930489e-02, -1.46060335e-02, -3.16960849e-02,\n",
            "       -2.36746017e-02,  5.11880964e-04,  1.78504661e-02,  6.70031272e-03,\n",
            "       -6.54411241e-02, -2.39227675e-02, -4.96850023e-03, -5.56476787e-03,\n",
            "       -4.86901663e-02, -1.30477380e-02,  2.53273025e-02,  3.07059791e-02,\n",
            "        3.94810922e-05, -2.47458741e-02,  6.13092855e-02,  1.11722518e-02,\n",
            "        5.98379984e-06, -4.03757258e-05,  6.72989481e-05,  3.56372984e-05,\n",
            "        2.79495525e-05,  8.49831758e-06, -3.32707859e-05,  4.39482210e-05,\n",
            "        1.35868595e-06,  1.09712537e-05,  3.37835263e-05, -2.14497486e-05,\n",
            "        3.24060529e-05,  3.38373720e-05, -2.41251473e-05, -1.00052639e-05,\n",
            "       -8.43658745e-06, -3.12762168e-05,  1.73761018e-05,  9.49987043e-06,\n",
            "       -3.02591980e-05,  9.06086862e-05, -4.33748937e-05,  1.46617786e-05,\n",
            "        3.00934953e-05, -4.76961359e-05, -2.29858597e-05, -8.93956530e-06,\n",
            "        1.94403929e-05,  2.85751048e-05,  1.26246996e-05, -5.71109194e-06,\n",
            "        7.23373341e-06, -2.33924402e-06,  6.98205076e-06,  3.03613797e-06,\n",
            "        2.94697202e-05, -2.30976493e-05,  5.53981499e-06, -6.07583615e-06,\n",
            "        5.63929734e-06,  4.73516557e-05, -2.99510284e-05, -7.87068711e-06,\n",
            "       -7.13557674e-05,  2.01646872e-05,  1.01532387e-05,  3.80982128e-05,\n",
            "       -3.23490603e-05,  2.91882770e-05, -1.61797470e-06,  5.00132373e-05,\n",
            "        2.72806610e-05,  1.36366325e-05,  5.46514129e-05, -1.62522338e-05,\n",
            "        8.04134834e-06,  1.44554124e-05, -9.84429935e-05, -1.10333131e-05,\n",
            "        3.62837272e-06, -2.19255071e-06, -3.10311661e-05, -1.72012078e-05,\n",
            "        5.12509541e-05, -6.11560972e-06,  3.09978059e-05,  1.30331764e-05,\n",
            "       -1.89844013e-05,  4.45618243e-05, -1.36704730e-05,  3.09273928e-05,\n",
            "       -3.16405094e-05,  1.48005893e-05, -5.57099202e-06, -6.71736416e-07,\n",
            "        8.97971859e-06,  4.05422761e-05,  1.10525289e-05, -2.00592149e-05,\n",
            "        3.32087002e-05, -2.09165009e-05,  1.59604133e-05,  3.55103293e-06,\n",
            "       -1.03905841e-05,  1.42696108e-05,  5.12182414e-05, -1.09678604e-05,\n",
            "       -1.53810506e-05, -4.59951625e-05,  2.40690661e-05, -1.83887933e-05,\n",
            "        6.05144669e-06,  4.53949542e-06,  1.91781728e-05, -3.31739284e-05,\n",
            "       -2.86540817e-05, -1.49456091e-05, -3.49033253e-05, -3.16778533e-05,\n",
            "       -4.06054751e-05,  3.31699266e-05, -5.10742793e-05,  1.60111795e-05,\n",
            "        3.99526034e-05, -3.62785395e-05,  8.26550604e-07, -3.55639304e-06,\n",
            "       -2.09351820e-05,  1.97221852e-05, -4.70096779e-07, -3.23963395e-05,\n",
            "       -4.20553406e-05, -1.94742752e-05, -1.18803209e-05, -2.68790409e-05,\n",
            "        8.80668376e-05, -1.00752350e-05,  1.55125799e-05, -8.67029576e-06,\n",
            "       -4.46933918e-05,  4.05365017e-06, -4.67621285e-05,  2.40577401e-06,\n",
            "        8.32195838e-06, -1.96432738e-05,  1.45083832e-05,  2.57447682e-05],\n",
            "      dtype=float32)>, <tf.Tensor: shape=(128, 10000), dtype=float32, numpy=\n",
            "array([[ 6.8948051e-04,  2.9709196e-04,  6.2524813e-04, ...,\n",
            "        -7.9426280e-07, -7.9601699e-07, -7.9398069e-07],\n",
            "       [ 2.5595031e-03,  2.7780477e-03,  3.1788631e-03, ...,\n",
            "        -4.7282724e-06, -4.7248618e-06, -4.7244266e-06],\n",
            "       [-3.2762929e-03, -1.8486892e-03, -3.0593714e-03, ...,\n",
            "         3.6079123e-06,  3.6056492e-06,  3.6063973e-06],\n",
            "       ...,\n",
            "       [-2.2143242e-03, -5.5927900e-04, -1.2613402e-03, ...,\n",
            "         1.8927849e-06,  1.8929774e-06,  1.8924280e-06],\n",
            "       [-3.3332244e-04, -5.9676054e-04, -8.6622959e-04, ...,\n",
            "         7.9093161e-07,  7.8965553e-07,  7.9116757e-07],\n",
            "       [ 4.5934506e-04, -4.8620411e-04,  3.5277873e-04, ...,\n",
            "        -7.3922342e-07, -7.3860065e-07, -7.3729814e-07]], dtype=float32)>, <tf.Tensor: shape=(10000,), dtype=float32, numpy=\n",
            "array([-0.7979983 , -1.0313314 , -1.0313314 , ...,  0.00200034,\n",
            "        0.00199966,  0.00199956], dtype=float32)>]\n"
          ],
          "name": "stdout"
        }
      ]
    },
    {
      "cell_type": "markdown",
      "metadata": {
        "id": "0vkTbDIHfNll"
      },
      "source": [
        "now, we have a list of tensors, t-list. We can use it to find clipped tensors. <b>clip_by_global_norm</b> clips values of multiple tensors by the ratio of the sum of their norms.\n",
        "\n",
        "<b>clip_by_global_norm</b> get <i>t-list</i> as input and returns 2 things:\n",
        "\n",
        "<ul>\n",
        "    <li>a list of clipped tensors, so called <i>list_clipped</i></li> \n",
        "    <li>the global norm (global_norm) of all tensors in t_list</li> \n",
        "</ul>\n"
      ]
    },
    {
      "cell_type": "code",
      "metadata": {
        "colab": {
          "base_uri": "https://localhost:8080/"
        },
        "id": "hqJt_umWfNlm",
        "outputId": "359de780-bf9a-44bf-eaab-857b5da56af8"
      },
      "source": [
        "# Define the gradient clipping threshold\n",
        "grads, _ = tf.clip_by_global_norm(grad_t_list, max_grad_norm)\n",
        "grads"
      ],
      "execution_count": 101,
      "outputs": [
        {
          "output_type": "execute_result",
          "data": {
            "text/plain": [
              "[<tensorflow.python.framework.indexed_slices.IndexedSlices at 0x7f1ff5578d10>,\n",
              " <tf.Tensor: shape=(200, 1024), dtype=float32, numpy=\n",
              " array([[ 1.2217943e-07,  4.6323208e-07,  4.0278584e-07, ...,\n",
              "          3.6258834e-07, -3.9238012e-07, -4.5884423e-07],\n",
              "        [ 3.7486905e-07,  2.6618975e-06,  8.2799193e-07, ...,\n",
              "         -2.8218284e-07,  2.5830349e-07, -1.2993785e-07],\n",
              "        [ 3.8566520e-07, -7.9569185e-07, -2.7127567e-07, ...,\n",
              "          1.3981254e-07,  7.3669426e-08, -3.0630130e-07],\n",
              "        ...,\n",
              "        [ 3.6816442e-07,  1.0264881e-06, -3.4788104e-07, ...,\n",
              "          1.9191609e-07, -3.1463924e-07, -4.3029095e-07],\n",
              "        [ 5.1917146e-07,  1.1783654e-06, -5.9762380e-07, ...,\n",
              "          2.5066143e-07, -6.7162745e-08, -1.9623517e-08],\n",
              "        [-1.2325296e-07, -9.5837436e-08, -2.2305515e-07, ...,\n",
              "          2.5037107e-07, -1.8385350e-07,  2.8399988e-08]], dtype=float32)>,\n",
              " <tf.Tensor: shape=(256, 1024), dtype=float32, numpy=\n",
              " array([[ 1.4912291e-07,  2.8022349e-08, -2.0185771e-08, ...,\n",
              "         -4.8634021e-08,  2.2718289e-07, -5.6636352e-08],\n",
              "        [-1.4923039e-08, -2.9133665e-07,  1.7335946e-09, ...,\n",
              "          3.4998795e-08, -1.2711714e-08, -2.7225555e-08],\n",
              "        [-1.1666869e-07, -9.1675346e-08, -3.2541919e-07, ...,\n",
              "         -1.0843381e-07, -5.5633620e-08, -2.2791177e-08],\n",
              "        ...,\n",
              "        [ 1.0800124e-07, -1.3097818e-07, -5.8836932e-08, ...,\n",
              "          4.2640149e-08, -5.6700006e-08, -6.3363117e-08],\n",
              "        [-2.8610074e-09,  2.1754124e-07, -8.5761101e-08, ...,\n",
              "         -7.2149973e-08,  9.6668330e-08, -6.0093868e-08],\n",
              "        [-2.8258398e-08, -9.6019789e-08, -1.5814345e-08, ...,\n",
              "         -1.3918398e-07, -1.2574795e-07,  1.3007990e-07]], dtype=float32)>,\n",
              " <tf.Tensor: shape=(1024,), dtype=float32, numpy=\n",
              " array([ 1.6579606e-06,  5.3656084e-05, -1.7859800e-06, ...,\n",
              "         1.7215221e-05,  8.0302361e-06, -1.4474248e-05], dtype=float32)>,\n",
              " <tf.Tensor: shape=(256, 512), dtype=float32, numpy=\n",
              " array([[ 3.68303290e-08,  6.57766535e-08, -2.06623071e-07, ...,\n",
              "         -1.62388886e-07, -4.00352690e-07, -6.60471358e-08],\n",
              "        [-1.96401643e-07, -4.36125696e-08, -1.04392996e-07, ...,\n",
              "          8.01774860e-08, -1.61762870e-07, -8.58091340e-08],\n",
              "        [-3.19600701e-07, -1.77773018e-07,  9.18528897e-08, ...,\n",
              "         -2.93202675e-07, -2.68602605e-07, -3.61191326e-08],\n",
              "        ...,\n",
              "        [-1.71359474e-07,  1.73962889e-08,  1.18442557e-07, ...,\n",
              "         -3.63742885e-08, -2.65450737e-08,  6.29165697e-08],\n",
              "        [ 1.36896119e-07,  6.66549056e-08, -7.37299288e-08, ...,\n",
              "         -1.62193089e-07, -2.83889733e-07,  1.52912861e-07],\n",
              "        [-4.36464589e-08,  2.18111012e-07, -2.96516987e-07, ...,\n",
              "          3.73708588e-07,  1.28818257e-07,  6.02531287e-08]], dtype=float32)>,\n",
              " <tf.Tensor: shape=(128, 512), dtype=float32, numpy=\n",
              " array([[-3.8350322e-07,  1.8949880e-08,  4.6650996e-08, ...,\n",
              "         -9.6698294e-09, -1.0322862e-07,  3.7747888e-08],\n",
              "        [ 1.3302508e-07,  3.4739139e-07, -2.7883027e-07, ...,\n",
              "          1.2721492e-07,  4.0047965e-08, -1.4976557e-07],\n",
              "        [ 8.9992682e-08, -2.2342283e-07,  4.3875050e-07, ...,\n",
              "         -2.5673978e-07,  2.0229683e-07,  6.0139200e-08],\n",
              "        ...,\n",
              "        [ 6.3833326e-08, -8.9446488e-08,  5.1935608e-08, ...,\n",
              "         -3.2727866e-07, -9.8012185e-09,  1.8967540e-08],\n",
              "        [ 9.7109087e-08, -7.0118364e-09, -4.6671964e-08, ...,\n",
              "          3.9987047e-08,  4.5029685e-07,  8.8195762e-09],\n",
              "        [-2.0011516e-08,  6.1158815e-08, -1.5543134e-07, ...,\n",
              "         -3.3395146e-08,  1.3522214e-09, -8.1878298e-08]], dtype=float32)>,\n",
              " <tf.Tensor: shape=(512,), dtype=float32, numpy=\n",
              " array([-2.14298666e-06, -3.66505374e-05,  5.11808103e-05,  3.94015333e-05,\n",
              "         1.93047490e-05,  1.40510883e-05, -2.89555901e-05,  3.21693587e-05,\n",
              "        -1.27610747e-06,  1.71149186e-05,  3.60474514e-05, -1.78094633e-05,\n",
              "         2.98285195e-05,  3.01989639e-05, -1.84995915e-05, -6.91300374e-06,\n",
              "        -1.30240041e-05, -3.57669705e-05,  2.97126062e-05,  8.86287307e-06,\n",
              "        -2.82813271e-05,  7.34991772e-05, -3.72715840e-05,  1.56167662e-05,\n",
              "         2.98580089e-05, -4.03547165e-05, -2.52379195e-05, -7.19989112e-06,\n",
              "         1.31935631e-05,  2.79440719e-05,  1.21897974e-05, -1.85975150e-05,\n",
              "         7.58278475e-07,  1.34683796e-06,  7.37546452e-06,  1.80245479e-06,\n",
              "         3.56132659e-05, -2.91650395e-05,  9.32944022e-06, -5.94557150e-06,\n",
              "         5.47860418e-06,  4.84262891e-05, -3.11546501e-05, -3.40948554e-06,\n",
              "        -5.00893111e-05,  1.13476635e-05,  5.84579539e-06,  3.32730124e-05,\n",
              "        -3.33131102e-05,  1.96610854e-05, -8.16239481e-06,  4.05465762e-05,\n",
              "         2.67891737e-05,  1.85025965e-05,  5.27661323e-05, -1.89610346e-05,\n",
              "         1.79943145e-05, -2.71266708e-06, -7.98528563e-05, -7.46386104e-06,\n",
              "         5.54032613e-06, -1.66097798e-05, -1.75478381e-05, -2.14930260e-05,\n",
              "         4.28827880e-05, -3.44652062e-06,  3.16235273e-05,  1.03283801e-05,\n",
              "        -2.08431320e-05,  4.52002205e-05, -1.02401027e-05,  2.79282704e-05,\n",
              "        -1.62388587e-05,  1.78827850e-06, -7.63188564e-06,  1.03960738e-05,\n",
              "         5.63984577e-06,  3.20426370e-05,  1.24632143e-05, -2.32332532e-05,\n",
              "         3.04656915e-05, -2.11310216e-05,  1.49591469e-05,  1.15514194e-05,\n",
              "        -9.27553538e-06,  2.09951722e-05,  4.64194745e-05, -1.59637912e-05,\n",
              "        -1.25977922e-05, -3.59031583e-05,  2.64858445e-05, -1.37010884e-05,\n",
              "         1.63202094e-06,  1.18177286e-05,  1.71220418e-05, -3.56580931e-05,\n",
              "        -2.47550888e-05, -1.43231864e-05, -3.46601009e-05, -3.10413707e-05,\n",
              "        -3.41101077e-05,  3.16201003e-05, -3.92814545e-05,  1.46906805e-05,\n",
              "         3.14461322e-05, -2.65120907e-05,  4.83104850e-06, -5.16940236e-06,\n",
              "        -2.08830606e-05,  9.11565803e-06, -9.53140716e-06, -3.28819115e-05,\n",
              "        -3.55566444e-05, -1.90967112e-05, -1.01786245e-05, -1.79103572e-05,\n",
              "         8.86917696e-05, -1.51797940e-05,  1.54490408e-05, -8.05178024e-06,\n",
              "        -4.22189842e-05,  9.10492872e-06, -3.43826941e-05, -2.03741206e-06,\n",
              "         2.08270358e-05, -2.62825124e-05,  6.00516069e-06,  2.40218869e-05,\n",
              "        -9.70721885e-06, -5.93700133e-05,  6.62429957e-05,  4.07572952e-05,\n",
              "         2.49310142e-05,  6.24133554e-06, -3.32532982e-05,  3.85276653e-05,\n",
              "        -1.58367220e-06,  3.07726477e-05,  4.16405637e-05, -4.77263020e-05,\n",
              "         3.31624360e-05,  4.92265572e-05, -5.18705856e-05, -2.33750998e-05,\n",
              "        -1.56554779e-06, -5.01307150e-05,  4.47197708e-05,  1.34755828e-06,\n",
              "        -9.42963470e-06,  9.86840460e-05, -4.58478535e-05,  2.53937251e-05,\n",
              "         3.23443965e-05, -5.63079229e-05, -3.61713828e-05,  1.57283885e-05,\n",
              "         3.68548426e-05,  6.40803482e-05,  5.46181855e-06, -2.54333609e-05,\n",
              "         3.07410883e-05, -1.44406840e-06, -2.13427957e-05,  9.86335635e-06,\n",
              "         5.85353700e-05, -3.34367469e-05, -1.59562842e-06, -3.12188604e-05,\n",
              "         5.05898242e-06,  7.09313899e-05, -4.42807104e-05, -2.37905133e-05,\n",
              "        -7.26239232e-05,  2.33351693e-05,  2.32096863e-06,  7.08413354e-05,\n",
              "        -2.93964495e-05,  1.44976857e-05,  1.16073070e-05,  4.80957351e-05,\n",
              "         3.07876981e-05,  3.44341388e-05,  5.98206898e-05, -2.63162838e-05,\n",
              "         1.65054680e-05,  2.42151691e-05, -1.03872153e-04,  4.36178561e-06,\n",
              "         2.79050255e-07, -2.47663993e-05, -5.26812801e-05, -1.45318518e-06,\n",
              "         7.27434381e-05, -1.56523129e-05,  5.25796058e-05, -4.37386916e-07,\n",
              "        -3.07539594e-05,  3.59849328e-05, -1.18005973e-05,  3.81272694e-05,\n",
              "        -3.38417776e-05,  6.68301436e-06, -1.02578952e-05, -6.42542727e-06,\n",
              "        -5.71377404e-06,  2.93813773e-05,  6.26718793e-06, -3.99471828e-05,\n",
              "         4.85584460e-05, -2.69775546e-06,  2.36044416e-05, -8.93844026e-06,\n",
              "        -3.76231128e-07,  3.64088082e-05,  4.28582935e-05, -1.39983522e-05,\n",
              "        -1.32542045e-05, -4.86121571e-05,  6.08159717e-05,  2.78243351e-06,\n",
              "        -7.46402111e-06,  9.18575824e-06,  1.50262740e-05, -5.43753013e-05,\n",
              "        -2.63591864e-05, -2.77781801e-05, -5.00344831e-05, -4.29255742e-05,\n",
              "        -2.44292423e-05,  3.52275092e-05, -6.81250531e-05, -9.12955420e-06,\n",
              "         2.65549243e-05, -6.83876933e-05, -5.66406470e-07, -2.49026543e-05,\n",
              "        -3.11289914e-05,  2.78070293e-05, -9.27450947e-06, -5.62619425e-05,\n",
              "        -6.11726718e-05,  1.86234502e-06, -5.73597845e-06, -4.32322558e-05,\n",
              "         1.13411937e-04,  5.12299448e-06, -3.24234043e-06, -1.06727894e-05,\n",
              "        -4.22733974e-05,  1.38452942e-05, -8.65765614e-05, -1.58290459e-06,\n",
              "         4.59656803e-06, -3.61228049e-05,  1.39200438e-05,  3.86777465e-05,\n",
              "        -8.38410296e-03,  2.40041316e-02,  3.10476348e-02,  7.33603463e-02,\n",
              "         4.66241986e-02, -9.12654214e-03, -1.29855908e-02,  6.51414543e-02,\n",
              "        -1.14508187e-02, -4.98412326e-02, -2.55180337e-02, -1.01107042e-02,\n",
              "        -2.60643400e-02,  3.78917754e-02,  2.71323118e-02, -5.72624430e-02,\n",
              "        -3.95510811e-03,  3.41239311e-02,  2.65803859e-02,  3.33327660e-03,\n",
              "         2.73721945e-03, -4.50456887e-02, -2.39024162e-02,  6.11805730e-02,\n",
              "        -5.90050779e-03,  4.91124727e-02, -1.23397773e-02,  9.74362530e-03,\n",
              "         7.59555912e-03, -2.77873687e-02, -2.17911974e-02,  2.11296324e-02,\n",
              "         5.26832417e-02, -1.44639499e-02, -4.98833135e-02,  2.60339938e-02,\n",
              "        -2.79461332e-02,  5.10251671e-02, -3.49636599e-02,  2.52310131e-02,\n",
              "         3.13128904e-02, -1.61593929e-02, -2.61160508e-02, -1.70324706e-02,\n",
              "        -4.71455157e-02, -7.79070309e-04, -3.46820429e-02, -1.38833718e-02,\n",
              "        -1.66569091e-03,  5.72514534e-03, -4.73642908e-02, -3.82901579e-02,\n",
              "        -1.00360829e-02, -5.23645505e-02,  3.64561677e-02, -2.46551819e-02,\n",
              "         1.57993436e-02, -6.26313686e-03,  1.48949595e-02,  1.98507570e-02,\n",
              "         2.29321308e-02,  5.52336499e-02,  2.73627602e-02,  1.10666202e-02,\n",
              "        -4.06940654e-02, -1.08971745e-02, -2.36220378e-02, -3.56002674e-02,\n",
              "        -4.50383425e-02,  3.47527675e-03, -2.34669000e-02,  3.32013257e-02,\n",
              "        -1.82842091e-02,  6.57841377e-03,  3.13984901e-02, -4.13502380e-02,\n",
              "        -3.69987171e-03,  5.63921174e-03,  2.30011716e-02, -3.52137014e-02,\n",
              "        -5.52291609e-02,  3.69318575e-02,  4.07858044e-02,  6.50838204e-03,\n",
              "        -1.00086257e-02, -2.54546525e-03, -1.65315960e-02,  2.84311511e-02,\n",
              "        -6.16284553e-04,  3.15138921e-02, -1.53393364e-02, -1.37947779e-02,\n",
              "         6.37472514e-03, -7.95821194e-03,  2.82927346e-03, -5.49719017e-03,\n",
              "         2.90082861e-02,  3.19042057e-02,  2.28579924e-03,  3.09316274e-02,\n",
              "        -3.86469550e-02, -2.49628052e-02,  1.82957016e-02, -1.47801563e-02,\n",
              "        -2.53526028e-02,  3.52323167e-02,  1.53780505e-02, -2.73653325e-02,\n",
              "         2.50733010e-02,  1.51930489e-02, -1.46060335e-02, -3.16960849e-02,\n",
              "        -2.36746017e-02,  5.11880964e-04,  1.78504661e-02,  6.70031272e-03,\n",
              "        -6.54411241e-02, -2.39227675e-02, -4.96850023e-03, -5.56476787e-03,\n",
              "        -4.86901663e-02, -1.30477380e-02,  2.53273025e-02,  3.07059791e-02,\n",
              "         3.94810922e-05, -2.47458741e-02,  6.13092855e-02,  1.11722518e-02,\n",
              "         5.98379984e-06, -4.03757258e-05,  6.72989481e-05,  3.56372984e-05,\n",
              "         2.79495525e-05,  8.49831758e-06, -3.32707859e-05,  4.39482210e-05,\n",
              "         1.35868595e-06,  1.09712537e-05,  3.37835263e-05, -2.14497486e-05,\n",
              "         3.24060529e-05,  3.38373720e-05, -2.41251473e-05, -1.00052639e-05,\n",
              "        -8.43658745e-06, -3.12762168e-05,  1.73761018e-05,  9.49987043e-06,\n",
              "        -3.02591980e-05,  9.06086862e-05, -4.33748937e-05,  1.46617786e-05,\n",
              "         3.00934953e-05, -4.76961359e-05, -2.29858597e-05, -8.93956530e-06,\n",
              "         1.94403929e-05,  2.85751048e-05,  1.26246996e-05, -5.71109194e-06,\n",
              "         7.23373341e-06, -2.33924402e-06,  6.98205076e-06,  3.03613797e-06,\n",
              "         2.94697202e-05, -2.30976493e-05,  5.53981499e-06, -6.07583615e-06,\n",
              "         5.63929734e-06,  4.73516557e-05, -2.99510284e-05, -7.87068711e-06,\n",
              "        -7.13557674e-05,  2.01646872e-05,  1.01532387e-05,  3.80982128e-05,\n",
              "        -3.23490603e-05,  2.91882770e-05, -1.61797470e-06,  5.00132373e-05,\n",
              "         2.72806610e-05,  1.36366325e-05,  5.46514129e-05, -1.62522338e-05,\n",
              "         8.04134834e-06,  1.44554124e-05, -9.84429935e-05, -1.10333131e-05,\n",
              "         3.62837272e-06, -2.19255071e-06, -3.10311661e-05, -1.72012078e-05,\n",
              "         5.12509541e-05, -6.11560972e-06,  3.09978059e-05,  1.30331764e-05,\n",
              "        -1.89844013e-05,  4.45618243e-05, -1.36704730e-05,  3.09273928e-05,\n",
              "        -3.16405094e-05,  1.48005893e-05, -5.57099202e-06, -6.71736416e-07,\n",
              "         8.97971859e-06,  4.05422761e-05,  1.10525289e-05, -2.00592149e-05,\n",
              "         3.32087002e-05, -2.09165009e-05,  1.59604133e-05,  3.55103293e-06,\n",
              "        -1.03905841e-05,  1.42696108e-05,  5.12182414e-05, -1.09678604e-05,\n",
              "        -1.53810506e-05, -4.59951625e-05,  2.40690661e-05, -1.83887933e-05,\n",
              "         6.05144669e-06,  4.53949542e-06,  1.91781728e-05, -3.31739284e-05,\n",
              "        -2.86540817e-05, -1.49456091e-05, -3.49033253e-05, -3.16778533e-05,\n",
              "        -4.06054751e-05,  3.31699266e-05, -5.10742793e-05,  1.60111795e-05,\n",
              "         3.99526034e-05, -3.62785395e-05,  8.26550604e-07, -3.55639304e-06,\n",
              "        -2.09351820e-05,  1.97221852e-05, -4.70096779e-07, -3.23963395e-05,\n",
              "        -4.20553406e-05, -1.94742752e-05, -1.18803209e-05, -2.68790409e-05,\n",
              "         8.80668376e-05, -1.00752350e-05,  1.55125799e-05, -8.67029576e-06,\n",
              "        -4.46933918e-05,  4.05365017e-06, -4.67621285e-05,  2.40577401e-06,\n",
              "         8.32195838e-06, -1.96432738e-05,  1.45083832e-05,  2.57447682e-05],\n",
              "       dtype=float32)>,\n",
              " <tf.Tensor: shape=(128, 10000), dtype=float32, numpy=\n",
              " array([[ 6.8948051e-04,  2.9709196e-04,  6.2524813e-04, ...,\n",
              "         -7.9426280e-07, -7.9601699e-07, -7.9398069e-07],\n",
              "        [ 2.5595031e-03,  2.7780477e-03,  3.1788631e-03, ...,\n",
              "         -4.7282724e-06, -4.7248618e-06, -4.7244266e-06],\n",
              "        [-3.2762929e-03, -1.8486892e-03, -3.0593714e-03, ...,\n",
              "          3.6079123e-06,  3.6056492e-06,  3.6063973e-06],\n",
              "        ...,\n",
              "        [-2.2143242e-03, -5.5927900e-04, -1.2613402e-03, ...,\n",
              "          1.8927849e-06,  1.8929774e-06,  1.8924280e-06],\n",
              "        [-3.3332244e-04, -5.9676054e-04, -8.6622959e-04, ...,\n",
              "          7.9093161e-07,  7.8965553e-07,  7.9116757e-07],\n",
              "        [ 4.5934506e-04, -4.8620411e-04,  3.5277873e-04, ...,\n",
              "         -7.3922342e-07, -7.3860065e-07, -7.3729814e-07]], dtype=float32)>,\n",
              " <tf.Tensor: shape=(10000,), dtype=float32, numpy=\n",
              " array([-0.7979983 , -1.0313314 , -1.0313314 , ...,  0.00200034,\n",
              "         0.00199966,  0.00199956], dtype=float32)>]"
            ]
          },
          "metadata": {},
          "execution_count": 101
        }
      ]
    },
    {
      "cell_type": "markdown",
      "metadata": {
        "id": "0O5SkEWkfNlm"
      },
      "source": [
        "<h4> 4.Apply the optimizer to the variables/gradients tuple. </h4>\n"
      ]
    },
    {
      "cell_type": "code",
      "metadata": {
        "id": "PugzLW3rfNlm"
      },
      "source": [
        "# Create the training TensorFlow Operation through our optimizer\n",
        "train_op = optimizer.apply_gradients(zip(grads, tvars))"
      ],
      "execution_count": 102,
      "outputs": []
    },
    {
      "cell_type": "markdown",
      "metadata": {
        "id": "yh9RxoLFfNlm"
      },
      "source": [
        "<a id=\"ltsm\"></a>\n",
        "\n",
        "<h2>LSTM</h2>\n"
      ]
    },
    {
      "cell_type": "markdown",
      "metadata": {
        "id": "RSgHHJdAfNln"
      },
      "source": [
        "We learned how the model is build step by step. Noe, let's then create a Class that represents our model. This class needs a few things:\n",
        "\n",
        "<ul>\n",
        "    <li>We have to create the model in accordance with our defined hyperparameters</li>\n",
        "    <li>We have to create the LSTM cell structure and connect them with our RNN structure</li>\n",
        "    <li>We have to create the word embeddings and point them to the input data</li>\n",
        "    <li>We have to create the input structure for our RNN</li>\n",
        "    <li>We need to create a logistic structure to return the probability of our words</li>\n",
        "    <li>We need to create the loss and cost functions for our optimizer to work, and then create the optimizer</li>\n",
        "    <li>And finally, we need to create a training operation that can be run to actually train our model</li>\n",
        "</ul>\n"
      ]
    },
    {
      "cell_type": "code",
      "metadata": {
        "id": "-O56Sq4FfNln"
      },
      "source": [
        "class PTBModel(object):\n",
        "\n",
        "\n",
        "    def __init__(self):\n",
        "        ######################################\n",
        "        # Setting parameters for ease of use #\n",
        "        ######################################\n",
        "        self.batch_size = batch_size\n",
        "        self.num_steps = num_steps\n",
        "        self.hidden_size_l1 = hidden_size_l1\n",
        "        self.hidden_size_l2 = hidden_size_l2\n",
        "        self.vocab_size = vocab_size\n",
        "        self.embeding_vector_size = embeding_vector_size\n",
        "        # Create a variable for the learning rate\n",
        "        self._lr = 1.0\n",
        "        \n",
        "        ###############################################################################\n",
        "        # Initializing the model using keras Sequential API  #\n",
        "        ###############################################################################\n",
        "        \n",
        "        self._model = tf.keras.models.Sequential()\n",
        "        \n",
        "        ####################################################################\n",
        "        # Creating the word embeddings layer and adding it to the sequence #\n",
        "        ####################################################################\n",
        "        with tf.device(\"/cpu:0\"):\n",
        "            # Create the embeddings for our input data. Size is hidden size.\n",
        "            self._embedding_layer = tf.keras.layers.Embedding(self.vocab_size, self.embeding_vector_size,batch_input_shape=(self.batch_size, self.num_steps),trainable=True,name=\"embedding_vocab\")  #[10000x200]\n",
        "            self._model.add(self._embedding_layer)\n",
        "            \n",
        "\n",
        "        ##########################################################################\n",
        "        # Creating the LSTM cell structure and connect it with the RNN structure #\n",
        "        ##########################################################################\n",
        "        # Create the LSTM Cells. \n",
        "        # This creates only the structure for the LSTM and has to be associated with a RNN unit still.\n",
        "        # The argument  of LSTMCell is size of hidden layer, that is, the number of hidden units of the LSTM (inside A). \n",
        "        # LSTM cell processes one word at a time and computes probabilities of the possible continuations of the sentence.\n",
        "        lstm_cell_l1 = tf.keras.layers.LSTMCell(hidden_size_l1)\n",
        "        lstm_cell_l2 = tf.keras.layers.LSTMCell(hidden_size_l2)\n",
        "        \n",
        "\n",
        "        \n",
        "        # By taking in the LSTM cells as parameters, the StackedRNNCells function junctions the LSTM units to the RNN units.\n",
        "        # RNN cell composed sequentially of stacked simple cells.\n",
        "        stacked_lstm = tf.keras.layers.StackedRNNCells([lstm_cell_l1, lstm_cell_l2])\n",
        "\n",
        "\n",
        "        \n",
        "\n",
        "        ############################################\n",
        "        # Creating the input structure for our RNN #\n",
        "        ############################################\n",
        "        # Input structure is 20x[30x200]\n",
        "        # Considering each word is represended by a 200 dimentional vector, and we have 30 batchs, we create 30 word-vectors of size [30xx2000]\n",
        "        # The input structure is fed from the embeddings, which are filled in by the input data\n",
        "        # Feeding a batch of b sentences to a RNN:\n",
        "        # In step 1,  first word of each of the b sentences (in a batch) is input in parallel.  \n",
        "        # In step 2,  second word of each of the b sentences is input in parallel. \n",
        "        # The parallelism is only for efficiency.  \n",
        "        # Each sentence in a batch is handled in parallel, but the network sees one word of a sentence at a time and does the computations accordingly. \n",
        "        # All the computations involving the words of all sentences in a batch at a given time step are done in parallel. \n",
        "\n",
        "        ########################################################################################################\n",
        "        # Instantiating our RNN model and setting stateful to True to feed forward the state to the next layer #\n",
        "        ########################################################################################################\n",
        "        \n",
        "        self._RNNlayer  =  tf.keras.layers.RNN(stacked_lstm,[batch_size, num_steps],return_state=False,stateful=True,trainable=True)\n",
        "        \n",
        "        # Define the initial state, i.e., the model state for the very first data point\n",
        "        # It initialize the state of the LSTM memory. The memory state of the network is initialized with a vector of zeros and gets updated after reading each word.\n",
        "        self._initial_state = tf.Variable(tf.zeros([batch_size,embeding_vector_size]),trainable=False)\n",
        "        self._RNNlayer.inital_state = self._initial_state\n",
        "    \n",
        "        ############################################\n",
        "        # Adding RNN layer to keras sequential API #\n",
        "        ############################################        \n",
        "        self._model.add(self._RNNlayer)\n",
        "        \n",
        "        #self._model.add(tf.keras.layers.LSTM(hidden_size_l1,return_sequences=True,stateful=True))\n",
        "        #self._model.add(tf.keras.layers.LSTM(hidden_size_l2,return_sequences=True))\n",
        "        \n",
        "        \n",
        "        ####################################################################################################\n",
        "        # Instantiating a Dense layer that connects the output to the vocab_size  and adding layer to model#\n",
        "        ####################################################################################################\n",
        "        self._dense = tf.keras.layers.Dense(self.vocab_size)\n",
        "        self._model.add(self._dense)\n",
        " \n",
        "        \n",
        "        ####################################################################################################\n",
        "        # Adding softmax activation layer and deriving probability to each class and adding layer to model #\n",
        "        ####################################################################################################\n",
        "        self._activation = tf.keras.layers.Activation('softmax')\n",
        "        self._model.add(self._activation)\n",
        "\n",
        "        ##########################################################\n",
        "        # Instantiating the stochastic gradient decent optimizer #\n",
        "        ########################################################## \n",
        "        self._optimizer = tf.keras.optimizers.SGD(lr=self._lr, clipnorm=max_grad_norm)\n",
        "        \n",
        "        \n",
        "        ##############################################################################\n",
        "        # Compiling and summarizing the model stacked using the keras sequential API #\n",
        "        ##############################################################################\n",
        "        self._model.compile(loss=self.crossentropy, optimizer=self._optimizer)\n",
        "        self._model.summary()\n",
        "\n",
        "\n",
        "    def crossentropy(self,y_true, y_pred):\n",
        "        return tf.keras.losses.sparse_categorical_crossentropy(y_true, y_pred)\n",
        "\n",
        "    def train_batch(self,_input_data,_targets):\n",
        "        #################################################\n",
        "        # Creating the Training Operation for our Model #\n",
        "        #################################################\n",
        "        # Create a variable for the learning rate\n",
        "        self._lr = tf.Variable(0.0, trainable=False)\n",
        "        # Get all TensorFlow variables marked as \"trainable\" (i.e. all of them except _lr, which we just created)\n",
        "        tvars = self._model.trainable_variables\n",
        "        # Define the gradient clipping threshold\n",
        "        with tf.GradientTape() as tape:\n",
        "            # Forward pass.\n",
        "            output_words_prob = self._model(_input_data)\n",
        "            # Loss value for this batch.\n",
        "            loss  = self.crossentropy(_targets, output_words_prob)\n",
        "            # average across batch and reduce sum\n",
        "            cost = tf.reduce_sum(loss/ self.batch_size)\n",
        "        # Get gradients of loss wrt the trainable variables.\n",
        "        grad_t_list = tape.gradient(cost, tvars)\n",
        "        # Define the gradient clipping threshold\n",
        "        grads, _ = tf.clip_by_global_norm(grad_t_list, max_grad_norm)\n",
        "        # Create the training TensorFlow Operation through our optimizer\n",
        "        train_op = self._optimizer.apply_gradients(zip(grads, tvars))\n",
        "        return cost\n",
        "        \n",
        "    def test_batch(self,_input_data,_targets):\n",
        "        #################################################\n",
        "        # Creating the Testing Operation for our Model #\n",
        "        #################################################\n",
        "        output_words_prob = self._model(_input_data)\n",
        "        loss  = self.crossentropy(_targets, output_words_prob)\n",
        "        # average across batch and reduce sum\n",
        "        cost = tf.reduce_sum(loss/ self.batch_size)\n",
        "\n",
        "        return cost\n",
        "    @classmethod\n",
        "    def instance(cls) : \n",
        "        return PTBModel()"
      ],
      "execution_count": 103,
      "outputs": []
    },
    {
      "cell_type": "markdown",
      "metadata": {
        "id": "iIWXW62TfNlr"
      },
      "source": [
        "With that, the actual structure of our Recurrent Neural Network with Long Short-Term Memory is finished. What remains for us to do is to actually create the methods to run through time -- that is, the <code>run_epoch</code> method to be run at each epoch and a <code>main</code> script which ties all of this together.\n",
        "\n",
        "What our <code>run_epoch</code> method should do is take our input data and feed it to the relevant operations. This will return at the very least the current result for the cost function.\n"
      ]
    },
    {
      "cell_type": "code",
      "metadata": {
        "id": "M82x3KD9fNls"
      },
      "source": [
        "\n",
        "########################################################################################################################\n",
        "# run_one_epoch takes as parameters  the model instance, the data to be fed, training or testing mode and verbose info #\n",
        "########################################################################################################################\n",
        "def run_one_epoch(m, data,is_training=True,verbose=False):\n",
        "\n",
        "    #Define the epoch size based on the length of the data, batch size and the number of steps\n",
        "    epoch_size = ((len(data) // m.batch_size) - 1) // m.num_steps\n",
        "    start_time = time.time()\n",
        "    costs = 0.\n",
        "    iters = 0\n",
        "    \n",
        "    m._model.reset_states()\n",
        "    \n",
        "    #For each step and data point\n",
        "    for step, (x, y) in enumerate(reader.ptb_iterator(data, m.batch_size, m.num_steps)):\n",
        "        \n",
        "        #Evaluate and return cost, state by running cost, final_state and the function passed as parameter\n",
        "        #y = tf.keras.utils.to_categorical(y, num_classes=vocab_size)\n",
        "        if is_training : \n",
        "            loss=  m.train_batch(x, y)\n",
        "        else :\n",
        "            loss = m.test_batch(x, y)\n",
        "                                   \n",
        "\n",
        "        #Add returned cost to costs (which keeps track of the total costs for this epoch)\n",
        "        costs += loss\n",
        "        \n",
        "        #Add number of steps to iteration counter\n",
        "        iters += m.num_steps\n",
        "\n",
        "        if verbose and step % (epoch_size // 10) == 10:\n",
        "            print(\"Itr %d of %d, perplexity: %.3f speed: %.0f wps\" % (step , epoch_size, np.exp(costs / iters), iters * m.batch_size / (time.time() - start_time)))\n",
        "        \n",
        "\n",
        "\n",
        "    # Returns the Perplexity rating for us to keep track of how the model is evolving\n",
        "    return np.exp(costs / iters)\n"
      ],
      "execution_count": 104,
      "outputs": []
    },
    {
      "cell_type": "markdown",
      "metadata": {
        "id": "zHjEpNjZfNlt"
      },
      "source": [
        "Now, we create the <code>main</code> method to tie everything together. The code here reads the data from the directory, using the <code>reader</code> helper module, and then trains and evaluates the model on both a testing and a validating subset of data.\n"
      ]
    },
    {
      "cell_type": "code",
      "metadata": {
        "id": "3Kc4QW_4fNlu"
      },
      "source": [
        "# Reads the data and separates it into training data, validation data and testing data\n",
        "raw_data = reader.ptb_raw_data(data_dir)\n",
        "train_data, valid_data, test_data, _, _ = raw_data"
      ],
      "execution_count": 105,
      "outputs": []
    },
    {
      "cell_type": "code",
      "metadata": {
        "id": "l0jVzuPHfNlv",
        "colab": {
          "base_uri": "https://localhost:8080/"
        },
        "outputId": "084c099a-3a68-434f-e7c0-13678af97d11"
      },
      "source": [
        "# Instantiates the PTBModel class\n",
        "m=PTBModel.instance()   \n",
        "K = tf.keras.backend \n",
        "for i in range(max_epoch):\n",
        "    # Define the decay for this epoch\n",
        "    lr_decay = decay ** max(i - max_epoch_decay_lr, 0.0)\n",
        "    dcr = learning_rate * lr_decay\n",
        "    m._lr = dcr\n",
        "    K.set_value(m._model.optimizer.learning_rate,m._lr)\n",
        "    print(\"Epoch %d : Learning rate: %.3f\" % (i + 1, m._model.optimizer.learning_rate))\n",
        "    # Run the loop for this epoch in the training mode\n",
        "    train_perplexity = run_one_epoch(m, train_data,is_training=True,verbose=True)\n",
        "    print(\"Epoch %d : Train Perplexity: %.3f\" % (i + 1, train_perplexity))\n",
        "        \n",
        "    # Run the loop for this epoch in the validation mode\n",
        "    valid_perplexity = run_one_epoch(m, valid_data,is_training=False,verbose=False)\n",
        "    print(\"Epoch %d : Valid Perplexity: %.3f\" % (i + 1, valid_perplexity))\n",
        "    \n",
        "# Run the loop in the testing mode to see how effective was our training\n",
        "test_perplexity = run_one_epoch(m, test_data,is_training=False,verbose=False)\n",
        "print(\"Test Perplexity: %.3f\" % test_perplexity)\n",
        "\n"
      ],
      "execution_count": 106,
      "outputs": [
        {
          "output_type": "stream",
          "text": [
            "Model: \"sequential_3\"\n",
            "_________________________________________________________________\n",
            "Layer (type)                 Output Shape              Param #   \n",
            "=================================================================\n",
            "embedding_vocab (Embedding)  (30, 20, 200)             2000000   \n",
            "_________________________________________________________________\n",
            "rnn_3 (RNN)                  (30, 20, 128)             671088    \n",
            "_________________________________________________________________\n",
            "dense_3 (Dense)              (30, 20, 10000)           1290000   \n",
            "_________________________________________________________________\n",
            "activation_3 (Activation)    (30, 20, 10000)           0         \n",
            "=================================================================\n",
            "Total params: 3,961,088\n",
            "Trainable params: 3,955,088\n",
            "Non-trainable params: 6,000\n",
            "_________________________________________________________________\n",
            "Epoch 1 : Learning rate: 1.000\n",
            "Itr 10 of 1549, perplexity: 4848.998 speed: 3951 wps\n",
            "Itr 164 of 1549, perplexity: 1113.729 speed: 4247 wps\n",
            "Itr 318 of 1549, perplexity: 859.474 speed: 4268 wps\n",
            "Itr 472 of 1549, perplexity: 717.979 speed: 4289 wps\n",
            "Itr 626 of 1549, perplexity: 621.610 speed: 4309 wps\n",
            "Itr 780 of 1549, perplexity: 559.136 speed: 4316 wps\n",
            "Itr 934 of 1549, perplexity: 507.841 speed: 4314 wps\n",
            "Itr 1088 of 1549, perplexity: 467.720 speed: 4300 wps\n",
            "Itr 1242 of 1549, perplexity: 436.024 speed: 4289 wps\n",
            "Itr 1396 of 1549, perplexity: 406.588 speed: 4290 wps\n",
            "Epoch 1 : Train Perplexity: 382.959\n",
            "Epoch 1 : Valid Perplexity: 224.170\n",
            "Epoch 2 : Learning rate: 1.000\n",
            "Itr 10 of 1549, perplexity: 251.418 speed: 4086 wps\n",
            "Itr 164 of 1549, perplexity: 224.004 speed: 4359 wps\n",
            "Itr 318 of 1549, perplexity: 214.476 speed: 4346 wps\n",
            "Itr 472 of 1549, perplexity: 205.669 speed: 4308 wps\n",
            "Itr 626 of 1549, perplexity: 196.519 speed: 4290 wps\n",
            "Itr 780 of 1549, perplexity: 192.570 speed: 4276 wps\n",
            "Itr 934 of 1549, perplexity: 188.313 speed: 4287 wps\n",
            "Itr 1088 of 1549, perplexity: 184.578 speed: 4286 wps\n",
            "Itr 1242 of 1549, perplexity: 181.861 speed: 4292 wps\n",
            "Itr 1396 of 1549, perplexity: 177.464 speed: 4297 wps\n",
            "Epoch 2 : Train Perplexity: 174.295\n",
            "Epoch 2 : Valid Perplexity: 167.521\n",
            "Epoch 3 : Learning rate: 1.000\n",
            "Itr 10 of 1549, perplexity: 171.098 speed: 3830 wps\n",
            "Itr 164 of 1549, perplexity: 154.669 speed: 4282 wps\n",
            "Itr 318 of 1549, perplexity: 150.979 speed: 4305 wps\n",
            "Itr 472 of 1549, perplexity: 146.287 speed: 4298 wps\n",
            "Itr 626 of 1549, perplexity: 140.840 speed: 4305 wps\n",
            "Itr 780 of 1549, perplexity: 139.516 speed: 4308 wps\n",
            "Itr 934 of 1549, perplexity: 137.640 speed: 4298 wps\n",
            "Itr 1088 of 1549, perplexity: 136.067 speed: 4279 wps\n",
            "Itr 1242 of 1549, perplexity: 135.166 speed: 4281 wps\n",
            "Itr 1396 of 1549, perplexity: 132.772 speed: 4283 wps\n",
            "Epoch 3 : Train Perplexity: 131.347\n",
            "Epoch 3 : Valid Perplexity: 150.078\n",
            "Epoch 4 : Learning rate: 1.000\n",
            "Itr 10 of 1549, perplexity: 136.703 speed: 4094 wps\n",
            "Itr 164 of 1549, perplexity: 125.358 speed: 4328 wps\n",
            "Itr 318 of 1549, perplexity: 123.587 speed: 4359 wps\n",
            "Itr 472 of 1549, perplexity: 120.077 speed: 4344 wps\n",
            "Itr 626 of 1549, perplexity: 116.111 speed: 4354 wps\n",
            "Itr 780 of 1549, perplexity: 115.718 speed: 4335 wps\n",
            "Itr 934 of 1549, perplexity: 114.524 speed: 4308 wps\n",
            "Itr 1088 of 1549, perplexity: 113.569 speed: 4279 wps\n",
            "Itr 1242 of 1549, perplexity: 113.202 speed: 4261 wps\n",
            "Itr 1396 of 1549, perplexity: 111.418 speed: 4253 wps\n",
            "Epoch 4 : Train Perplexity: 110.553\n",
            "Epoch 4 : Valid Perplexity: 141.965\n",
            "Epoch 5 : Learning rate: 1.000\n",
            "Itr 10 of 1549, perplexity: 116.856 speed: 4245 wps\n",
            "Itr 164 of 1549, perplexity: 109.064 speed: 4247 wps\n",
            "Itr 318 of 1549, perplexity: 107.946 speed: 4222 wps\n",
            "Itr 472 of 1549, perplexity: 104.902 speed: 4194 wps\n",
            "Itr 626 of 1549, perplexity: 101.585 speed: 4173 wps\n",
            "Itr 780 of 1549, perplexity: 101.468 speed: 4168 wps\n",
            "Itr 934 of 1549, perplexity: 100.643 speed: 4191 wps\n",
            "Itr 1088 of 1549, perplexity: 99.987 speed: 4202 wps\n",
            "Itr 1242 of 1549, perplexity: 99.826 speed: 4216 wps\n",
            "Itr 1396 of 1549, perplexity: 98.428 speed: 4219 wps\n",
            "Epoch 5 : Train Perplexity: 97.819\n",
            "Epoch 5 : Valid Perplexity: 136.933\n",
            "Epoch 6 : Learning rate: 0.500\n",
            "Itr 10 of 1549, perplexity: 103.057 speed: 4121 wps\n",
            "Itr 164 of 1549, perplexity: 94.651 speed: 4202 wps\n",
            "Itr 318 of 1549, perplexity: 92.657 speed: 4227 wps\n",
            "Itr 472 of 1549, perplexity: 89.067 speed: 4270 wps\n",
            "Itr 626 of 1549, perplexity: 85.421 speed: 4290 wps\n",
            "Itr 780 of 1549, perplexity: 84.711 speed: 4309 wps\n",
            "Itr 934 of 1549, perplexity: 83.452 speed: 4297 wps\n",
            "Itr 1088 of 1549, perplexity: 82.322 speed: 4295 wps\n",
            "Itr 1242 of 1549, perplexity: 81.630 speed: 4283 wps\n",
            "Itr 1396 of 1549, perplexity: 79.937 speed: 4288 wps\n",
            "Epoch 6 : Train Perplexity: 78.916\n",
            "Epoch 6 : Valid Perplexity: 126.530\n",
            "Epoch 7 : Learning rate: 0.250\n",
            "Itr 10 of 1549, perplexity: 86.680 speed: 4000 wps\n",
            "Itr 164 of 1549, perplexity: 81.672 speed: 4219 wps\n",
            "Itr 318 of 1549, perplexity: 80.184 speed: 4247 wps\n",
            "Itr 472 of 1549, perplexity: 77.111 speed: 4270 wps\n",
            "Itr 626 of 1549, perplexity: 73.880 speed: 4282 wps\n",
            "Itr 780 of 1549, perplexity: 73.231 speed: 4271 wps\n",
            "Itr 934 of 1549, perplexity: 72.066 speed: 4279 wps\n",
            "Itr 1088 of 1549, perplexity: 70.921 speed: 4288 wps\n",
            "Itr 1242 of 1549, perplexity: 70.155 speed: 4289 wps\n",
            "Itr 1396 of 1549, perplexity: 68.538 speed: 4294 wps\n",
            "Epoch 7 : Train Perplexity: 67.490\n",
            "Epoch 7 : Valid Perplexity: 123.574\n",
            "Epoch 8 : Learning rate: 0.125\n",
            "Itr 10 of 1549, perplexity: 78.315 speed: 4230 wps\n",
            "Itr 164 of 1549, perplexity: 74.418 speed: 4295 wps\n",
            "Itr 318 of 1549, perplexity: 73.158 speed: 4311 wps\n",
            "Itr 472 of 1549, perplexity: 70.339 speed: 4311 wps\n",
            "Itr 626 of 1549, perplexity: 67.394 speed: 4287 wps\n",
            "Itr 780 of 1549, perplexity: 66.791 speed: 4274 wps\n",
            "Itr 934 of 1549, perplexity: 65.706 speed: 4254 wps\n",
            "Itr 1088 of 1549, perplexity: 64.620 speed: 4252 wps\n",
            "Itr 1242 of 1549, perplexity: 63.872 speed: 4255 wps\n",
            "Itr 1396 of 1549, perplexity: 62.339 speed: 4255 wps\n",
            "Epoch 8 : Train Perplexity: 61.317\n",
            "Epoch 8 : Valid Perplexity: 123.053\n",
            "Epoch 9 : Learning rate: 0.062\n",
            "Itr 10 of 1549, perplexity: 73.988 speed: 4118 wps\n",
            "Itr 164 of 1549, perplexity: 70.556 speed: 4242 wps\n",
            "Itr 318 of 1549, perplexity: 69.449 speed: 4246 wps\n",
            "Itr 472 of 1549, perplexity: 66.787 speed: 4255 wps\n",
            "Itr 626 of 1549, perplexity: 63.984 speed: 4217 wps\n",
            "Itr 780 of 1549, perplexity: 63.408 speed: 4172 wps\n",
            "Itr 934 of 1549, perplexity: 62.371 speed: 4147 wps\n",
            "Itr 1088 of 1549, perplexity: 61.324 speed: 4140 wps\n",
            "Itr 1242 of 1549, perplexity: 60.591 speed: 4126 wps\n",
            "Itr 1396 of 1549, perplexity: 59.106 speed: 4109 wps\n",
            "Epoch 9 : Train Perplexity: 58.100\n",
            "Epoch 9 : Valid Perplexity: 123.017\n",
            "Epoch 10 : Learning rate: 0.031\n",
            "Itr 10 of 1549, perplexity: 71.821 speed: 3945 wps\n",
            "Itr 164 of 1549, perplexity: 68.500 speed: 4008 wps\n",
            "Itr 318 of 1549, perplexity: 67.450 speed: 4005 wps\n",
            "Itr 472 of 1549, perplexity: 64.868 speed: 4002 wps\n",
            "Itr 626 of 1549, perplexity: 62.149 speed: 4004 wps\n",
            "Itr 780 of 1549, perplexity: 61.592 speed: 4008 wps\n",
            "Itr 934 of 1549, perplexity: 60.595 speed: 4002 wps\n",
            "Itr 1088 of 1549, perplexity: 59.576 speed: 4006 wps\n",
            "Itr 1242 of 1549, perplexity: 58.843 speed: 4008 wps\n",
            "Itr 1396 of 1549, perplexity: 57.381 speed: 4010 wps\n",
            "Epoch 10 : Train Perplexity: 56.385\n",
            "Epoch 10 : Valid Perplexity: 122.995\n",
            "Epoch 11 : Learning rate: 0.016\n",
            "Itr 10 of 1549, perplexity: 70.676 speed: 3804 wps\n",
            "Itr 164 of 1549, perplexity: 67.422 speed: 3949 wps\n",
            "Itr 318 of 1549, perplexity: 66.378 speed: 3983 wps\n",
            "Itr 472 of 1549, perplexity: 63.821 speed: 3978 wps\n",
            "Itr 626 of 1549, perplexity: 61.140 speed: 3989 wps\n",
            "Itr 780 of 1549, perplexity: 60.595 speed: 3992 wps\n",
            "Itr 934 of 1549, perplexity: 59.627 speed: 3987 wps\n",
            "Itr 1088 of 1549, perplexity: 58.628 speed: 3988 wps\n",
            "Itr 1242 of 1549, perplexity: 57.894 speed: 3986 wps\n",
            "Itr 1396 of 1549, perplexity: 56.444 speed: 3995 wps\n",
            "Epoch 11 : Train Perplexity: 55.453\n",
            "Epoch 11 : Valid Perplexity: 122.910\n",
            "Epoch 12 : Learning rate: 0.008\n",
            "Itr 10 of 1549, perplexity: 69.986 speed: 3884 wps\n",
            "Itr 164 of 1549, perplexity: 66.842 speed: 4031 wps\n",
            "Itr 318 of 1549, perplexity: 65.814 speed: 4014 wps\n",
            "Itr 472 of 1549, perplexity: 63.263 speed: 3988 wps\n",
            "Itr 626 of 1549, perplexity: 60.597 speed: 3997 wps\n",
            "Itr 780 of 1549, perplexity: 60.057 speed: 4031 wps\n",
            "Itr 934 of 1549, perplexity: 59.101 speed: 4079 wps\n",
            "Itr 1088 of 1549, perplexity: 58.113 speed: 4070 wps\n",
            "Itr 1242 of 1549, perplexity: 57.378 speed: 4064 wps\n",
            "Itr 1396 of 1549, perplexity: 55.935 speed: 4060 wps\n",
            "Epoch 12 : Train Perplexity: 54.947\n",
            "Epoch 12 : Valid Perplexity: 122.739\n",
            "Epoch 13 : Learning rate: 0.004\n",
            "Itr 10 of 1549, perplexity: 69.567 speed: 3843 wps\n",
            "Itr 164 of 1549, perplexity: 66.514 speed: 3896 wps\n",
            "Itr 318 of 1549, perplexity: 65.511 speed: 3971 wps\n",
            "Itr 472 of 1549, perplexity: 62.967 speed: 3994 wps\n",
            "Itr 626 of 1549, perplexity: 60.308 speed: 3990 wps\n",
            "Itr 780 of 1549, perplexity: 59.772 speed: 3991 wps\n",
            "Itr 934 of 1549, perplexity: 58.819 speed: 3994 wps\n",
            "Itr 1088 of 1549, perplexity: 57.835 speed: 3995 wps\n",
            "Itr 1242 of 1549, perplexity: 57.100 speed: 3998 wps\n",
            "Itr 1396 of 1549, perplexity: 55.662 speed: 3997 wps\n",
            "Epoch 13 : Train Perplexity: 54.676\n",
            "Epoch 13 : Valid Perplexity: 122.513\n",
            "Epoch 14 : Learning rate: 0.002\n",
            "Itr 10 of 1549, perplexity: 69.324 speed: 3963 wps\n",
            "Itr 164 of 1549, perplexity: 66.308 speed: 3994 wps\n",
            "Itr 318 of 1549, perplexity: 65.329 speed: 4003 wps\n",
            "Itr 472 of 1549, perplexity: 62.799 speed: 4006 wps\n",
            "Itr 626 of 1549, perplexity: 60.146 speed: 4005 wps\n",
            "Itr 780 of 1549, perplexity: 59.616 speed: 4009 wps\n",
            "Itr 934 of 1549, perplexity: 58.665 speed: 4011 wps\n",
            "Itr 1088 of 1549, perplexity: 57.684 speed: 4008 wps\n",
            "Itr 1242 of 1549, perplexity: 56.949 speed: 4012 wps\n",
            "Itr 1396 of 1549, perplexity: 55.514 speed: 4015 wps\n",
            "Epoch 14 : Train Perplexity: 54.531\n",
            "Epoch 14 : Valid Perplexity: 122.339\n",
            "Epoch 15 : Learning rate: 0.001\n",
            "Itr 10 of 1549, perplexity: 69.197 speed: 3765 wps\n",
            "Itr 164 of 1549, perplexity: 66.182 speed: 3938 wps\n",
            "Itr 318 of 1549, perplexity: 65.216 speed: 3965 wps\n",
            "Itr 472 of 1549, perplexity: 62.699 speed: 3966 wps\n",
            "Itr 626 of 1549, perplexity: 60.054 speed: 3969 wps\n",
            "Itr 780 of 1549, perplexity: 59.528 speed: 3973 wps\n",
            "Itr 934 of 1549, perplexity: 58.580 speed: 3981 wps\n",
            "Itr 1088 of 1549, perplexity: 57.601 speed: 3985 wps\n",
            "Itr 1242 of 1549, perplexity: 56.867 speed: 4024 wps\n",
            "Itr 1396 of 1549, perplexity: 55.435 speed: 4053 wps\n",
            "Epoch 15 : Train Perplexity: 54.453\n",
            "Epoch 15 : Valid Perplexity: 122.245\n",
            "Test Perplexity: 117.142\n"
          ],
          "name": "stdout"
        }
      ]
    },
    {
      "cell_type": "markdown",
      "metadata": {
        "id": "arrJH8N2fNlv"
      },
      "source": [
        "As you can see, the model's perplexity rating drops very quickly after a few iterations. As was elaborated before, <b>lower Perplexity means that the model is more certain about its prediction</b>. As such, we can be sure that this model is performing well!\n"
      ]
    },
    {
      "cell_type": "markdown",
      "metadata": {
        "id": "9nHYdhcwfNlv"
      },
      "source": [
        "***\n"
      ]
    },
    {
      "cell_type": "markdown",
      "metadata": {
        "id": "wcugkOQgfNlw"
      },
      "source": [
        "This is the end of the <b>Applying Recurrent Neural Networks to Text Processing</b> notebook. Hopefully you now have a better understanding of Recurrent Neural Networks and how to implement one utilizing TensorFlow. Thank you for reading this notebook, and good luck on your studies.\n"
      ]
    },
    {
      "cell_type": "markdown",
      "metadata": {
        "id": "l4EveoTlfNlw"
      },
      "source": [
        "## Want to learn more?\n",
        "\n",
        "Also, you can use **Watson Studio** to run these notebooks faster with bigger datasets.**Watson Studio** is IBM’s leading cloud solution for data scientists, built by data scientists. With Jupyter notebooks, RStudio, Apache Spark and popular libraries pre-packaged in the cloud, **Watson Studio** enables data scientists to collaborate on their projects without having to install anything. Join the fast-growing community of **Watson Studio** users today with a free account at [Watson Studio](https://cocl.us/ML0120EN_DSX).This is the end of this lesson. Thank you for reading this notebook, and good luck on your studies.\n"
      ]
    },
    {
      "cell_type": "markdown",
      "metadata": {
        "id": "pnokytUUfNlw"
      },
      "source": [
        "### Thanks for completing this lesson!\n",
        "\n",
        "Notebook created by <a href=\"https://br.linkedin.com/in/walter-gomes-de-amorim-junior-624726121?utm_medium=Exinfluencer&utm_source=Exinfluencer&utm_content=000026UJ&utm_term=10006555&utm_id=NA-SkillsNetwork-Channel-SkillsNetworkCoursesIBMDeveloperSkillsNetworkDL0120ENSkillsNetwork20629446-2021-01-01\">Walter Gomes de Amorim Junior</a>, <a href = \"https://linkedin.com/in/saeedaghabozorgi?utm_medium=Exinfluencer&utm_source=Exinfluencer&utm_content=000026UJ&utm_term=10006555&utm_id=NA-SkillsNetwork-Channel-SkillsNetworkCoursesIBMDeveloperSkillsNetworkDL0120ENSkillsNetwork20629446-2021-01-01\"> Saeed Aghabozorgi </a></h4>\n",
        "\n",
        "Updated to TF 2.X by  <a href=\"https://www.linkedin.com/in/samaya-madhavan?utm_medium=Exinfluencer&utm_source=Exinfluencer&utm_content=000026UJ&utm_term=10006555&utm_id=NA-SkillsNetwork-Channel-SkillsNetworkCoursesIBMDeveloperSkillsNetworkDL0120ENSkillsNetwork20629446-2021-01-01\"> Samaya Madhavan </a>\n"
      ]
    },
    {
      "cell_type": "markdown",
      "metadata": {
        "id": "rx0pnD_HfNly"
      },
      "source": [
        "<hr>\n",
        "\n",
        "Copyright © 2018 [Cognitive Class](https://cocl.us/DX0108EN_CC). This notebook and its source code are released under the terms of the [MIT License](https://bigdatauniversity.com/mit-license/?utm_medium=Exinfluencer&utm_source=Exinfluencer&utm_content=000026UJ&utm_term=10006555&utm_id=NA-SkillsNetwork-Channel-SkillsNetworkCoursesIBMDeveloperSkillsNetworkDL0120ENSkillsNetwork20629446-2021-01-01).\n"
      ]
    }
  ]
}