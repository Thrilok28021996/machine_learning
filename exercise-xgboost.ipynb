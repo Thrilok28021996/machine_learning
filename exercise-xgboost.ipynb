{
 "cells": [
  {
   "cell_type": "markdown",
   "id": "bf58efc2",
   "metadata": {
    "papermill": {
     "duration": 0.016626,
     "end_time": "2021-07-31T09:37:33.278626",
     "exception": false,
     "start_time": "2021-07-31T09:37:33.262000",
     "status": "completed"
    },
    "tags": []
   },
   "source": [
    "**This notebook is an exercise in the [Intermediate Machine Learning](https://www.kaggle.com/learn/intermediate-machine-learning) course.  You can reference the tutorial at [this link](https://www.kaggle.com/alexisbcook/xgboost).**\n",
    "\n",
    "---\n"
   ]
  },
  {
   "cell_type": "markdown",
   "id": "1ea89fca",
   "metadata": {
    "papermill": {
     "duration": 0.015092,
     "end_time": "2021-07-31T09:37:33.309845",
     "exception": false,
     "start_time": "2021-07-31T09:37:33.294753",
     "status": "completed"
    },
    "tags": []
   },
   "source": [
    "In this exercise, you will use your new knowledge to train a model with **gradient boosting**.\n",
    "\n",
    "# Setup\n",
    "\n",
    "The questions below will give you feedback on your work. Run the following cell to set up the feedback system."
   ]
  },
  {
   "cell_type": "code",
   "execution_count": 1,
   "id": "a1382983",
   "metadata": {
    "execution": {
     "iopub.execute_input": "2021-07-31T09:37:33.346719Z",
     "iopub.status.busy": "2021-07-31T09:37:33.344936Z",
     "iopub.status.idle": "2021-07-31T09:37:35.827944Z",
     "shell.execute_reply": "2021-07-31T09:37:35.829522Z",
     "shell.execute_reply.started": "2021-07-31T09:24:55.596948Z"
    },
    "papermill": {
     "duration": 2.504656,
     "end_time": "2021-07-31T09:37:35.829926",
     "exception": false,
     "start_time": "2021-07-31T09:37:33.325270",
     "status": "completed"
    },
    "tags": []
   },
   "outputs": [
    {
     "name": "stdout",
     "output_type": "stream",
     "text": [
      "Setup Complete\n"
     ]
    }
   ],
   "source": [
    "# Set up code checking\n",
    "import os\n",
    "if not os.path.exists(\"../input/train.csv\"):\n",
    "    os.symlink(\"../input/home-data-for-ml-course/train.csv\", \"../input/train.csv\")  \n",
    "    os.symlink(\"../input/home-data-for-ml-course/test.csv\", \"../input/test.csv\") \n",
    "from learntools.core import binder\n",
    "binder.bind(globals())\n",
    "from learntools.ml_intermediate.ex6 import *\n",
    "print(\"Setup Complete\")"
   ]
  },
  {
   "cell_type": "markdown",
   "id": "df7d1fd5",
   "metadata": {
    "papermill": {
     "duration": 0.015662,
     "end_time": "2021-07-31T09:37:35.863759",
     "exception": false,
     "start_time": "2021-07-31T09:37:35.848097",
     "status": "completed"
    },
    "tags": []
   },
   "source": [
    "You will work with the [Housing Prices Competition for Kaggle Learn Users](https://www.kaggle.com/c/home-data-for-ml-course) dataset from the previous exercise. \n",
    "\n",
    "![Ames Housing dataset image](https://i.imgur.com/lTJVG4e.png)\n",
    "\n",
    "Run the next code cell without changes to load the training and validation sets in `X_train`, `X_valid`, `y_train`, and `y_valid`.  The test set is loaded in `X_test`."
   ]
  },
  {
   "cell_type": "code",
   "execution_count": 2,
   "id": "1df22049",
   "metadata": {
    "execution": {
     "iopub.execute_input": "2021-07-31T09:37:35.909660Z",
     "iopub.status.busy": "2021-07-31T09:37:35.905359Z",
     "iopub.status.idle": "2021-07-31T09:37:36.159869Z",
     "shell.execute_reply": "2021-07-31T09:37:36.159210Z",
     "shell.execute_reply.started": "2021-07-31T09:25:47.672879Z"
    },
    "papermill": {
     "duration": 0.279685,
     "end_time": "2021-07-31T09:37:36.160016",
     "exception": false,
     "start_time": "2021-07-31T09:37:35.880331",
     "status": "completed"
    },
    "tags": []
   },
   "outputs": [],
   "source": [
    "import pandas as pd\n",
    "from sklearn.model_selection import train_test_split\n",
    "\n",
    "# Read the data\n",
    "X = pd.read_csv('../input/train.csv', index_col='Id')\n",
    "X_test_full = pd.read_csv('../input/test.csv', index_col='Id')\n",
    "\n",
    "# Remove rows with missing target, separate target from predictors\n",
    "X.dropna(axis=0, subset=['SalePrice'], inplace=True)\n",
    "y = X.SalePrice              \n",
    "X.drop(['SalePrice'], axis=1, inplace=True)\n",
    "\n",
    "# Break off validation set from training data\n",
    "X_train_full, X_valid_full, y_train, y_valid = train_test_split(X, y, train_size=0.8, test_size=0.2,\n",
    "                                                                random_state=0)\n",
    "\n",
    "# \"Cardinality\" means the number of unique values in a column\n",
    "# Select categorical columns with relatively low cardinality (convenient but arbitrary)\n",
    "low_cardinality_cols = [cname for cname in X_train_full.columns if X_train_full[cname].nunique() < 10 and \n",
    "                        X_train_full[cname].dtype == \"object\"]\n",
    "\n",
    "# Select numeric columns\n",
    "numeric_cols = [cname for cname in X_train_full.columns if X_train_full[cname].dtype in ['int64', 'float64']]\n",
    "\n",
    "# Keep selected columns only\n",
    "my_cols = low_cardinality_cols + numeric_cols\n",
    "X_train = X_train_full[my_cols].copy()\n",
    "X_valid = X_valid_full[my_cols].copy()\n",
    "X_test = X_test_full[my_cols].copy()\n",
    "\n",
    "# One-hot encode the data (to shorten the code, we use pandas)\n",
    "X_train = pd.get_dummies(X_train)\n",
    "X_valid = pd.get_dummies(X_valid)\n",
    "X_test = pd.get_dummies(X_test)\n",
    "X_train, X_valid = X_train.align(X_valid, join='left', axis=1)\n",
    "X_train, X_test = X_train.align(X_test, join='left', axis=1)"
   ]
  },
  {
   "cell_type": "markdown",
   "id": "ae63333e",
   "metadata": {
    "papermill": {
     "duration": 0.015553,
     "end_time": "2021-07-31T09:37:36.191458",
     "exception": false,
     "start_time": "2021-07-31T09:37:36.175905",
     "status": "completed"
    },
    "tags": []
   },
   "source": [
    "# Step 1: Build model\n",
    "\n",
    "### Part A\n",
    "\n",
    "In this step, you'll build and train your first model with gradient boosting.\n",
    "\n",
    "- Begin by setting `my_model_1` to an XGBoost model.  Use the [XGBRegressor](https://xgboost.readthedocs.io/en/latest/python/python_api.html#xgboost.XGBRegressor) class, and set the random seed to 0 (`random_state=0`).  **Leave all other parameters as default.**\n",
    "- Then, fit the model to the training data in `X_train` and `y_train`."
   ]
  },
  {
   "cell_type": "code",
   "execution_count": 3,
   "id": "eb4c7487",
   "metadata": {
    "execution": {
     "iopub.execute_input": "2021-07-31T09:37:36.229931Z",
     "iopub.status.busy": "2021-07-31T09:37:36.229183Z",
     "iopub.status.idle": "2021-07-31T09:37:36.959447Z",
     "shell.execute_reply": "2021-07-31T09:37:36.958719Z",
     "shell.execute_reply.started": "2021-07-31T09:27:48.568927Z"
    },
    "papermill": {
     "duration": 0.752256,
     "end_time": "2021-07-31T09:37:36.959623",
     "exception": false,
     "start_time": "2021-07-31T09:37:36.207367",
     "status": "completed"
    },
    "tags": []
   },
   "outputs": [
    {
     "data": {
      "application/javascript": [
       "parent.postMessage({\"jupyterEvent\": \"custom.exercise_interaction\", \"data\": {\"outcomeType\": 1, \"valueTowardsCompletion\": 0.5, \"interactionType\": 1, \"questionType\": 2, \"questionId\": \"1.1_Model1A\", \"learnToolsVersion\": \"0.3.4\", \"failureMessage\": \"\", \"exceptionClass\": \"\", \"trace\": \"\"}}, \"*\")"
      ],
      "text/plain": [
       "<IPython.core.display.Javascript object>"
      ]
     },
     "metadata": {},
     "output_type": "display_data"
    },
    {
     "data": {
      "text/markdown": [
       "<span style=\"color:#33cc33\">Correct</span>"
      ],
      "text/plain": [
       "Correct"
      ]
     },
     "metadata": {},
     "output_type": "display_data"
    }
   ],
   "source": [
    "from xgboost import XGBRegressor\n",
    "\n",
    "# Define the model\n",
    "my_model_1 = XGBRegressor(random_state=0) # Your code here\n",
    "\n",
    "# Fit the model\n",
    "my_model_1.fit(X_train,y_train) # Your code here\n",
    "\n",
    "# Check your answer\n",
    "step_1.a.check()"
   ]
  },
  {
   "cell_type": "code",
   "execution_count": 4,
   "id": "af534e78",
   "metadata": {
    "execution": {
     "iopub.execute_input": "2021-07-31T09:37:37.000831Z",
     "iopub.status.busy": "2021-07-31T09:37:37.000144Z",
     "iopub.status.idle": "2021-07-31T09:37:37.009288Z",
     "shell.execute_reply": "2021-07-31T09:37:37.008680Z",
     "shell.execute_reply.started": "2021-07-31T09:27:28.916103Z"
    },
    "papermill": {
     "duration": 0.032292,
     "end_time": "2021-07-31T09:37:37.009447",
     "exception": false,
     "start_time": "2021-07-31T09:37:36.977155",
     "status": "completed"
    },
    "tags": []
   },
   "outputs": [
    {
     "data": {
      "application/javascript": [
       "parent.postMessage({\"jupyterEvent\": \"custom.exercise_interaction\", \"data\": {\"interactionType\": 2, \"questionType\": 2, \"questionId\": \"1.1_Model1A\", \"learnToolsVersion\": \"0.3.4\", \"valueTowardsCompletion\": 0.0, \"failureMessage\": \"\", \"exceptionClass\": \"\", \"trace\": \"\", \"outcomeType\": 4}}, \"*\")"
      ],
      "text/plain": [
       "<IPython.core.display.Javascript object>"
      ]
     },
     "metadata": {},
     "output_type": "display_data"
    },
    {
     "data": {
      "text/markdown": [
       "<span style=\"color:#3366cc\">Hint:</span> Begin by defining the model with `my_model_1 = XGBRegressor(random_state=0)`. Then, you can fit the model with the `fit()` method."
      ],
      "text/plain": [
       "Hint: Begin by defining the model with `my_model_1 = XGBRegressor(random_state=0)`. Then, you can fit the model with the `fit()` method."
      ]
     },
     "metadata": {},
     "output_type": "display_data"
    },
    {
     "data": {
      "application/javascript": [
       "parent.postMessage({\"jupyterEvent\": \"custom.exercise_interaction\", \"data\": {\"interactionType\": 3, \"questionType\": 2, \"questionId\": \"1.1_Model1A\", \"learnToolsVersion\": \"0.3.4\", \"valueTowardsCompletion\": 0.0, \"failureMessage\": \"\", \"exceptionClass\": \"\", \"trace\": \"\", \"outcomeType\": 4}}, \"*\")"
      ],
      "text/plain": [
       "<IPython.core.display.Javascript object>"
      ]
     },
     "metadata": {},
     "output_type": "display_data"
    },
    {
     "data": {
      "text/markdown": [
       "<span style=\"color:#33cc99\">Solution:</span> \n",
       "```python\n",
       "# Define the model\n",
       "my_model_1 = XGBRegressor(random_state=0)\n",
       "\n",
       "# Fit the model\n",
       "my_model_1.fit(X_train, y_train)\n",
       "\n",
       "```"
      ],
      "text/plain": [
       "Solution: \n",
       "```python\n",
       "# Define the model\n",
       "my_model_1 = XGBRegressor(random_state=0)\n",
       "\n",
       "# Fit the model\n",
       "my_model_1.fit(X_train, y_train)\n",
       "\n",
       "```"
      ]
     },
     "metadata": {},
     "output_type": "display_data"
    }
   ],
   "source": [
    "# Lines below will give you a hint or solution code\n",
    "step_1.a.hint()\n",
    "step_1.a.solution()"
   ]
  },
  {
   "cell_type": "markdown",
   "id": "c4184fcf",
   "metadata": {
    "papermill": {
     "duration": 0.019037,
     "end_time": "2021-07-31T09:37:37.048468",
     "exception": false,
     "start_time": "2021-07-31T09:37:37.029431",
     "status": "completed"
    },
    "tags": []
   },
   "source": [
    "### Part B\n",
    "\n",
    "Set `predictions_1` to the model's predictions for the validation data.  Recall that the validation features are stored in `X_valid`."
   ]
  },
  {
   "cell_type": "code",
   "execution_count": 5,
   "id": "667909db",
   "metadata": {
    "execution": {
     "iopub.execute_input": "2021-07-31T09:37:37.094767Z",
     "iopub.status.busy": "2021-07-31T09:37:37.094088Z",
     "iopub.status.idle": "2021-07-31T09:37:37.112198Z",
     "shell.execute_reply": "2021-07-31T09:37:37.112797Z",
     "shell.execute_reply.started": "2021-07-31T09:28:18.619752Z"
    },
    "papermill": {
     "duration": 0.044028,
     "end_time": "2021-07-31T09:37:37.113037",
     "exception": false,
     "start_time": "2021-07-31T09:37:37.069009",
     "status": "completed"
    },
    "tags": []
   },
   "outputs": [
    {
     "data": {
      "application/javascript": [
       "parent.postMessage({\"jupyterEvent\": \"custom.exercise_interaction\", \"data\": {\"outcomeType\": 1, \"valueTowardsCompletion\": 0.5, \"interactionType\": 1, \"questionType\": 2, \"questionId\": \"1.2_Model1B\", \"learnToolsVersion\": \"0.3.4\", \"failureMessage\": \"\", \"exceptionClass\": \"\", \"trace\": \"\"}}, \"*\")"
      ],
      "text/plain": [
       "<IPython.core.display.Javascript object>"
      ]
     },
     "metadata": {},
     "output_type": "display_data"
    },
    {
     "data": {
      "text/markdown": [
       "<span style=\"color:#33cc33\">Correct</span>"
      ],
      "text/plain": [
       "Correct"
      ]
     },
     "metadata": {},
     "output_type": "display_data"
    }
   ],
   "source": [
    "from sklearn.metrics import mean_absolute_error\n",
    "\n",
    "# Get predictions\n",
    "predictions_1 = my_model_1.predict(X_valid) # Your code here\n",
    "\n",
    "# Check your answer\n",
    "step_1.b.check()"
   ]
  },
  {
   "cell_type": "code",
   "execution_count": 6,
   "id": "c086c015",
   "metadata": {
    "execution": {
     "iopub.execute_input": "2021-07-31T09:37:37.160701Z",
     "iopub.status.busy": "2021-07-31T09:37:37.159713Z",
     "iopub.status.idle": "2021-07-31T09:37:37.170410Z",
     "shell.execute_reply": "2021-07-31T09:37:37.170962Z",
     "shell.execute_reply.started": "2021-07-31T09:28:24.715974Z"
    },
    "papermill": {
     "duration": 0.037275,
     "end_time": "2021-07-31T09:37:37.171166",
     "exception": false,
     "start_time": "2021-07-31T09:37:37.133891",
     "status": "completed"
    },
    "tags": []
   },
   "outputs": [
    {
     "data": {
      "application/javascript": [
       "parent.postMessage({\"jupyterEvent\": \"custom.exercise_interaction\", \"data\": {\"interactionType\": 2, \"questionType\": 2, \"questionId\": \"1.2_Model1B\", \"learnToolsVersion\": \"0.3.4\", \"valueTowardsCompletion\": 0.0, \"failureMessage\": \"\", \"exceptionClass\": \"\", \"trace\": \"\", \"outcomeType\": 4}}, \"*\")"
      ],
      "text/plain": [
       "<IPython.core.display.Javascript object>"
      ]
     },
     "metadata": {},
     "output_type": "display_data"
    },
    {
     "data": {
      "text/markdown": [
       "<span style=\"color:#3366cc\">Hint:</span> Use the `predict()` method to generate validation predictions."
      ],
      "text/plain": [
       "Hint: Use the `predict()` method to generate validation predictions."
      ]
     },
     "metadata": {},
     "output_type": "display_data"
    },
    {
     "data": {
      "application/javascript": [
       "parent.postMessage({\"jupyterEvent\": \"custom.exercise_interaction\", \"data\": {\"interactionType\": 3, \"questionType\": 2, \"questionId\": \"1.2_Model1B\", \"learnToolsVersion\": \"0.3.4\", \"valueTowardsCompletion\": 0.0, \"failureMessage\": \"\", \"exceptionClass\": \"\", \"trace\": \"\", \"outcomeType\": 4}}, \"*\")"
      ],
      "text/plain": [
       "<IPython.core.display.Javascript object>"
      ]
     },
     "metadata": {},
     "output_type": "display_data"
    },
    {
     "data": {
      "text/markdown": [
       "<span style=\"color:#33cc99\">Solution:</span> \n",
       "```python\n",
       "# Get predictions\n",
       "predictions_1 = my_model_1.predict(X_valid)\n",
       "\n",
       "```"
      ],
      "text/plain": [
       "Solution: \n",
       "```python\n",
       "# Get predictions\n",
       "predictions_1 = my_model_1.predict(X_valid)\n",
       "\n",
       "```"
      ]
     },
     "metadata": {},
     "output_type": "display_data"
    }
   ],
   "source": [
    "# Lines below will give you a hint or solution code\n",
    "step_1.b.hint()\n",
    "step_1.b.solution()"
   ]
  },
  {
   "cell_type": "markdown",
   "id": "a68787ae",
   "metadata": {
    "papermill": {
     "duration": 0.022147,
     "end_time": "2021-07-31T09:37:37.215980",
     "exception": false,
     "start_time": "2021-07-31T09:37:37.193833",
     "status": "completed"
    },
    "tags": []
   },
   "source": [
    "### Part C\n",
    "\n",
    "Finally, use the `mean_absolute_error()` function to calculate the mean absolute error (MAE) corresponding to the predictions for the validation set.  Recall that the labels for the validation data are stored in `y_valid`."
   ]
  },
  {
   "cell_type": "code",
   "execution_count": 7,
   "id": "75e69d94",
   "metadata": {
    "execution": {
     "iopub.execute_input": "2021-07-31T09:37:37.265383Z",
     "iopub.status.busy": "2021-07-31T09:37:37.264302Z",
     "iopub.status.idle": "2021-07-31T09:37:37.276248Z",
     "shell.execute_reply": "2021-07-31T09:37:37.276736Z",
     "shell.execute_reply.started": "2021-07-31T09:29:44.817335Z"
    },
    "papermill": {
     "duration": 0.038088,
     "end_time": "2021-07-31T09:37:37.276945",
     "exception": false,
     "start_time": "2021-07-31T09:37:37.238857",
     "status": "completed"
    },
    "tags": []
   },
   "outputs": [
    {
     "name": "stdout",
     "output_type": "stream",
     "text": [
      "Mean Absolute Error: 17662.736729452055\n"
     ]
    },
    {
     "data": {
      "application/javascript": [
       "parent.postMessage({\"jupyterEvent\": \"custom.exercise_interaction\", \"data\": {\"outcomeType\": 1, \"valueTowardsCompletion\": 0.5, \"interactionType\": 1, \"questionType\": 2, \"questionId\": \"1.3_Model1C\", \"learnToolsVersion\": \"0.3.4\", \"failureMessage\": \"\", \"exceptionClass\": \"\", \"trace\": \"\"}}, \"*\")"
      ],
      "text/plain": [
       "<IPython.core.display.Javascript object>"
      ]
     },
     "metadata": {},
     "output_type": "display_data"
    },
    {
     "data": {
      "text/markdown": [
       "<span style=\"color:#33cc33\">Correct</span>"
      ],
      "text/plain": [
       "Correct"
      ]
     },
     "metadata": {},
     "output_type": "display_data"
    }
   ],
   "source": [
    "# Calculate MAE\n",
    "mae_1 = mean_absolute_error(predictions_1,y_valid)# Your code here\n",
    "\n",
    "# Uncomment to print MAE\n",
    "print(\"Mean Absolute Error:\" , mae_1)\n",
    "\n",
    "# Check your answer\n",
    "step_1.c.check()"
   ]
  },
  {
   "cell_type": "code",
   "execution_count": 8,
   "id": "ea8995f6",
   "metadata": {
    "execution": {
     "iopub.execute_input": "2021-07-31T09:37:37.329458Z",
     "iopub.status.busy": "2021-07-31T09:37:37.328792Z",
     "iopub.status.idle": "2021-07-31T09:37:37.337797Z",
     "shell.execute_reply": "2021-07-31T09:37:37.337089Z",
     "shell.execute_reply.started": "2021-07-31T09:29:24.033425Z"
    },
    "papermill": {
     "duration": 0.03786,
     "end_time": "2021-07-31T09:37:37.337958",
     "exception": false,
     "start_time": "2021-07-31T09:37:37.300098",
     "status": "completed"
    },
    "tags": []
   },
   "outputs": [
    {
     "data": {
      "application/javascript": [
       "parent.postMessage({\"jupyterEvent\": \"custom.exercise_interaction\", \"data\": {\"interactionType\": 2, \"questionType\": 2, \"questionId\": \"1.3_Model1C\", \"learnToolsVersion\": \"0.3.4\", \"valueTowardsCompletion\": 0.0, \"failureMessage\": \"\", \"exceptionClass\": \"\", \"trace\": \"\", \"outcomeType\": 4}}, \"*\")"
      ],
      "text/plain": [
       "<IPython.core.display.Javascript object>"
      ]
     },
     "metadata": {},
     "output_type": "display_data"
    },
    {
     "data": {
      "text/markdown": [
       "<span style=\"color:#3366cc\">Hint:</span> The `mean_absolute_error` function should take the predictions in `predictions_1` and the validation target in `y_valid` as arguments."
      ],
      "text/plain": [
       "Hint: The `mean_absolute_error` function should take the predictions in `predictions_1` and the validation target in `y_valid` as arguments."
      ]
     },
     "metadata": {},
     "output_type": "display_data"
    },
    {
     "data": {
      "application/javascript": [
       "parent.postMessage({\"jupyterEvent\": \"custom.exercise_interaction\", \"data\": {\"interactionType\": 3, \"questionType\": 2, \"questionId\": \"1.3_Model1C\", \"learnToolsVersion\": \"0.3.4\", \"valueTowardsCompletion\": 0.0, \"failureMessage\": \"\", \"exceptionClass\": \"\", \"trace\": \"\", \"outcomeType\": 4}}, \"*\")"
      ],
      "text/plain": [
       "<IPython.core.display.Javascript object>"
      ]
     },
     "metadata": {},
     "output_type": "display_data"
    },
    {
     "data": {
      "text/markdown": [
       "<span style=\"color:#33cc99\">Solution:</span> \n",
       "```python\n",
       "# Calculate MAE\n",
       "mae_1 = mean_absolute_error(predictions_1, y_valid)\n",
       "print(\"Mean Absolute Error:\" , mae_1)\n",
       "\n",
       "```"
      ],
      "text/plain": [
       "Solution: \n",
       "```python\n",
       "# Calculate MAE\n",
       "mae_1 = mean_absolute_error(predictions_1, y_valid)\n",
       "print(\"Mean Absolute Error:\" , mae_1)\n",
       "\n",
       "```"
      ]
     },
     "metadata": {},
     "output_type": "display_data"
    }
   ],
   "source": [
    "# Lines below will give you a hint or solution code\n",
    "step_1.c.hint()\n",
    "step_1.c.solution()"
   ]
  },
  {
   "cell_type": "markdown",
   "id": "4f4816af",
   "metadata": {
    "papermill": {
     "duration": 0.025026,
     "end_time": "2021-07-31T09:37:37.388656",
     "exception": false,
     "start_time": "2021-07-31T09:37:37.363630",
     "status": "completed"
    },
    "tags": []
   },
   "source": [
    "# Step 2: Improve the model\n",
    "\n",
    "Now that you've trained a default model as baseline, it's time to tinker with the parameters, to see if you can get better performance!\n",
    "- Begin by setting `my_model_2` to an XGBoost model, using the [XGBRegressor](https://xgboost.readthedocs.io/en/latest/python/python_api.html#xgboost.XGBRegressor) class.  Use what you learned in the previous tutorial to figure out how to change the default parameters (like `n_estimators` and `learning_rate`) to get better results.\n",
    "- Then, fit the model to the training data in `X_train` and `y_train`.\n",
    "- Set `predictions_2` to the model's predictions for the validation data.  Recall that the validation features are stored in `X_valid`.\n",
    "- Finally, use the `mean_absolute_error()` function to calculate the mean absolute error (MAE) corresponding to the predictions on the validation set.  Recall that the labels for the validation data are stored in `y_valid`.\n",
    "\n",
    "In order for this step to be marked correct, your model in `my_model_2` must attain lower MAE than the model in `my_model_1`. "
   ]
  },
  {
   "cell_type": "code",
   "execution_count": 9,
   "id": "2746c7c9",
   "metadata": {
    "execution": {
     "iopub.execute_input": "2021-07-31T09:37:37.454990Z",
     "iopub.status.busy": "2021-07-31T09:37:37.454090Z",
     "iopub.status.idle": "2021-07-31T09:37:44.882409Z",
     "shell.execute_reply": "2021-07-31T09:37:44.883069Z",
     "shell.execute_reply.started": "2021-07-31T09:33:26.546821Z"
    },
    "papermill": {
     "duration": 7.468249,
     "end_time": "2021-07-31T09:37:44.883348",
     "exception": false,
     "start_time": "2021-07-31T09:37:37.415099",
     "status": "completed"
    },
    "tags": []
   },
   "outputs": [
    {
     "name": "stdout",
     "output_type": "stream",
     "text": [
      "Mean Absolute Error: 17308.831001177226\n"
     ]
    },
    {
     "data": {
      "application/javascript": [
       "parent.postMessage({\"jupyterEvent\": \"custom.exercise_interaction\", \"data\": {\"outcomeType\": 1, \"valueTowardsCompletion\": 0.5, \"interactionType\": 1, \"questionType\": 2, \"questionId\": \"2_Model2\", \"learnToolsVersion\": \"0.3.4\", \"failureMessage\": \"\", \"exceptionClass\": \"\", \"trace\": \"\"}}, \"*\")"
      ],
      "text/plain": [
       "<IPython.core.display.Javascript object>"
      ]
     },
     "metadata": {},
     "output_type": "display_data"
    },
    {
     "data": {
      "text/markdown": [
       "<span style=\"color:#33cc33\">Correct</span>"
      ],
      "text/plain": [
       "Correct"
      ]
     },
     "metadata": {},
     "output_type": "display_data"
    }
   ],
   "source": [
    "# Define the model\n",
    "my_model_2 = XGBRegressor(n_estimators=1000,learning_rate=0.1,random_state=2)# Your code here\n",
    "\n",
    "# Fit the model\n",
    "my_model_2.fit(X_train,y_train) # Your code here\n",
    "\n",
    "# Get predictions\n",
    "predictions_2 = my_model_2.predict(X_valid) # Your code here\n",
    "\n",
    "# Calculate MAE\n",
    "mae_2 = mean_absolute_error(predictions_2,y_valid)# Your code here\n",
    "\n",
    "# Uncomment to print MAE\n",
    "print(\"Mean Absolute Error:\" , mae_2)\n",
    "\n",
    "# Check your answer\n",
    "step_2.check()"
   ]
  },
  {
   "cell_type": "code",
   "execution_count": 10,
   "id": "21d3214f",
   "metadata": {
    "execution": {
     "iopub.execute_input": "2021-07-31T09:37:44.956849Z",
     "iopub.status.busy": "2021-07-31T09:37:44.956106Z",
     "iopub.status.idle": "2021-07-31T09:37:44.967239Z",
     "shell.execute_reply": "2021-07-31T09:37:44.966476Z",
     "shell.execute_reply.started": "2021-07-31T09:33:14.081164Z"
    },
    "papermill": {
     "duration": 0.049748,
     "end_time": "2021-07-31T09:37:44.967411",
     "exception": false,
     "start_time": "2021-07-31T09:37:44.917663",
     "status": "completed"
    },
    "tags": []
   },
   "outputs": [
    {
     "data": {
      "application/javascript": [
       "parent.postMessage({\"jupyterEvent\": \"custom.exercise_interaction\", \"data\": {\"interactionType\": 2, \"questionType\": 2, \"questionId\": \"2_Model2\", \"learnToolsVersion\": \"0.3.4\", \"valueTowardsCompletion\": 0.0, \"failureMessage\": \"\", \"exceptionClass\": \"\", \"trace\": \"\", \"outcomeType\": 4}}, \"*\")"
      ],
      "text/plain": [
       "<IPython.core.display.Javascript object>"
      ]
     },
     "metadata": {},
     "output_type": "display_data"
    },
    {
     "data": {
      "text/markdown": [
       "<span style=\"color:#3366cc\">Hint:</span> In the official solution to this problem, we chose to increase the number of trees in the model (with the `n_estimators` parameter) and decrease the learning rate (with the `learning_rate` parameter)."
      ],
      "text/plain": [
       "Hint: In the official solution to this problem, we chose to increase the number of trees in the model (with the `n_estimators` parameter) and decrease the learning rate (with the `learning_rate` parameter)."
      ]
     },
     "metadata": {},
     "output_type": "display_data"
    },
    {
     "data": {
      "application/javascript": [
       "parent.postMessage({\"jupyterEvent\": \"custom.exercise_interaction\", \"data\": {\"interactionType\": 3, \"questionType\": 2, \"questionId\": \"2_Model2\", \"learnToolsVersion\": \"0.3.4\", \"valueTowardsCompletion\": 0.0, \"failureMessage\": \"\", \"exceptionClass\": \"\", \"trace\": \"\", \"outcomeType\": 4}}, \"*\")"
      ],
      "text/plain": [
       "<IPython.core.display.Javascript object>"
      ]
     },
     "metadata": {},
     "output_type": "display_data"
    },
    {
     "data": {
      "text/markdown": [
       "<span style=\"color:#33cc99\">Solution:</span> \n",
       "```python\n",
       "# Define the model\n",
       "my_model_2 = XGBRegressor(n_estimators=1000, learning_rate=0.05)\n",
       "\n",
       "# Fit the model\n",
       "my_model_2.fit(X_train, y_train)\n",
       "\n",
       "# Get predictions\n",
       "predictions_2 = my_model_2.predict(X_valid)\n",
       "\n",
       "# Calculate MAE\n",
       "mae_2 = mean_absolute_error(predictions_2, y_valid)\n",
       "print(\"Mean Absolute Error:\" , mae_2)\n",
       "\n",
       "```"
      ],
      "text/plain": [
       "Solution: \n",
       "```python\n",
       "# Define the model\n",
       "my_model_2 = XGBRegressor(n_estimators=1000, learning_rate=0.05)\n",
       "\n",
       "# Fit the model\n",
       "my_model_2.fit(X_train, y_train)\n",
       "\n",
       "# Get predictions\n",
       "predictions_2 = my_model_2.predict(X_valid)\n",
       "\n",
       "# Calculate MAE\n",
       "mae_2 = mean_absolute_error(predictions_2, y_valid)\n",
       "print(\"Mean Absolute Error:\" , mae_2)\n",
       "\n",
       "```"
      ]
     },
     "metadata": {},
     "output_type": "display_data"
    }
   ],
   "source": [
    "# Lines below will give you a hint or solution code\n",
    "step_2.hint()\n",
    "step_2.solution()"
   ]
  },
  {
   "cell_type": "markdown",
   "id": "e9be0b23",
   "metadata": {
    "papermill": {
     "duration": 0.031816,
     "end_time": "2021-07-31T09:37:45.030879",
     "exception": false,
     "start_time": "2021-07-31T09:37:44.999063",
     "status": "completed"
    },
    "tags": []
   },
   "source": [
    "# Step 3: Break the model\n",
    "\n",
    "In this step, you will create a model that performs worse than the original model in Step 1.  This will help you to develop your intuition for how to set parameters.  You might even find that you accidentally get better performance, which is ultimately a nice problem to have and a valuable learning experience!\n",
    "- Begin by setting `my_model_3` to an XGBoost model, using the [XGBRegressor](https://xgboost.readthedocs.io/en/latest/python/python_api.html#xgboost.XGBRegressor) class.  Use what you learned in the previous tutorial to figure out how to change the default parameters (like `n_estimators` and `learning_rate`) to design a model to get high MAE.\n",
    "- Then, fit the model to the training data in `X_train` and `y_train`.\n",
    "- Set `predictions_3` to the model's predictions for the validation data.  Recall that the validation features are stored in `X_valid`.\n",
    "- Finally, use the `mean_absolute_error()` function to calculate the mean absolute error (MAE) corresponding to the predictions on the validation set.  Recall that the labels for the validation data are stored in `y_valid`.\n",
    "\n",
    "In order for this step to be marked correct, your model in `my_model_3` must attain higher MAE than the model in `my_model_1`. "
   ]
  },
  {
   "cell_type": "code",
   "execution_count": 11,
   "id": "d776d0e5",
   "metadata": {
    "execution": {
     "iopub.execute_input": "2021-07-31T09:37:45.097874Z",
     "iopub.status.busy": "2021-07-31T09:37:45.097114Z",
     "iopub.status.idle": "2021-07-31T09:37:49.097033Z",
     "shell.execute_reply": "2021-07-31T09:37:49.096318Z",
     "shell.execute_reply.started": "2021-07-31T09:36:15.751235Z"
    },
    "papermill": {
     "duration": 4.033624,
     "end_time": "2021-07-31T09:37:49.097233",
     "exception": false,
     "start_time": "2021-07-31T09:37:45.063609",
     "status": "completed"
    },
    "tags": []
   },
   "outputs": [
    {
     "name": "stdout",
     "output_type": "stream",
     "text": [
      "Mean Absolute Error: 111120.44125240797\n"
     ]
    },
    {
     "data": {
      "application/javascript": [
       "parent.postMessage({\"jupyterEvent\": \"custom.exercise_interaction\", \"data\": {\"outcomeType\": 1, \"valueTowardsCompletion\": 0.5, \"interactionType\": 1, \"questionType\": 2, \"questionId\": \"3_Model3\", \"learnToolsVersion\": \"0.3.4\", \"failureMessage\": \"\", \"exceptionClass\": \"\", \"trace\": \"\"}}, \"*\")"
      ],
      "text/plain": [
       "<IPython.core.display.Javascript object>"
      ]
     },
     "metadata": {},
     "output_type": "display_data"
    },
    {
     "data": {
      "text/markdown": [
       "<span style=\"color:#33cc33\">Correct</span>"
      ],
      "text/plain": [
       "Correct"
      ]
     },
     "metadata": {},
     "output_type": "display_data"
    }
   ],
   "source": [
    "# Define the model\n",
    "my_model_3 = XGBRegressor(n_estimators=500,learning_rate=0.001,random_state=4)\n",
    "\n",
    "# Fit the model\n",
    "my_model_3.fit(X_train,y_train) # Your code here\n",
    "\n",
    "# Get predictions\n",
    "predictions_3 = my_model_3.predict(X_valid)\n",
    "\n",
    "# Calculate MAE\n",
    "mae_3 = mean_absolute_error(predictions_3,y_valid)\n",
    "\n",
    "# Uncomment to print MAE\n",
    "print(\"Mean Absolute Error:\" , mae_3)\n",
    "\n",
    "# Check your answer\n",
    "step_3.check()"
   ]
  },
  {
   "cell_type": "code",
   "execution_count": 12,
   "id": "f9b4c4fc",
   "metadata": {
    "execution": {
     "iopub.execute_input": "2021-07-31T09:37:49.164908Z",
     "iopub.status.busy": "2021-07-31T09:37:49.164115Z",
     "iopub.status.idle": "2021-07-31T09:37:49.173828Z",
     "shell.execute_reply": "2021-07-31T09:37:49.174357Z",
     "shell.execute_reply.started": "2021-07-31T09:36:29.273004Z"
    },
    "papermill": {
     "duration": 0.044119,
     "end_time": "2021-07-31T09:37:49.174583",
     "exception": false,
     "start_time": "2021-07-31T09:37:49.130464",
     "status": "completed"
    },
    "tags": []
   },
   "outputs": [
    {
     "data": {
      "application/javascript": [
       "parent.postMessage({\"jupyterEvent\": \"custom.exercise_interaction\", \"data\": {\"interactionType\": 2, \"questionType\": 2, \"questionId\": \"3_Model3\", \"learnToolsVersion\": \"0.3.4\", \"valueTowardsCompletion\": 0.0, \"failureMessage\": \"\", \"exceptionClass\": \"\", \"trace\": \"\", \"outcomeType\": 4}}, \"*\")"
      ],
      "text/plain": [
       "<IPython.core.display.Javascript object>"
      ]
     },
     "metadata": {},
     "output_type": "display_data"
    },
    {
     "data": {
      "text/markdown": [
       "<span style=\"color:#3366cc\">Hint:</span> In the official solution for this problem, we chose to greatly decrease the number of trees in the model by tinkering with the `n_estimators` parameter."
      ],
      "text/plain": [
       "Hint: In the official solution for this problem, we chose to greatly decrease the number of trees in the model by tinkering with the `n_estimators` parameter."
      ]
     },
     "metadata": {},
     "output_type": "display_data"
    },
    {
     "data": {
      "application/javascript": [
       "parent.postMessage({\"jupyterEvent\": \"custom.exercise_interaction\", \"data\": {\"interactionType\": 3, \"questionType\": 2, \"questionId\": \"3_Model3\", \"learnToolsVersion\": \"0.3.4\", \"valueTowardsCompletion\": 0.0, \"failureMessage\": \"\", \"exceptionClass\": \"\", \"trace\": \"\", \"outcomeType\": 4}}, \"*\")"
      ],
      "text/plain": [
       "<IPython.core.display.Javascript object>"
      ]
     },
     "metadata": {},
     "output_type": "display_data"
    },
    {
     "data": {
      "text/markdown": [
       "<span style=\"color:#33cc99\">Solution:</span> \n",
       "```python\n",
       "# Define the model\n",
       "my_model_3 = XGBRegressor(n_estimators=1)\n",
       "\n",
       "# Fit the model\n",
       "my_model_3.fit(X_train, y_train)\n",
       "\n",
       "# Get predictions\n",
       "predictions_3 = my_model_3.predict(X_valid)\n",
       "\n",
       "# Calculate MAE\n",
       "mae_3 = mean_absolute_error(predictions_3, y_valid)\n",
       "print(\"Mean Absolute Error:\" , mae_3)\n",
       "\n",
       "```"
      ],
      "text/plain": [
       "Solution: \n",
       "```python\n",
       "# Define the model\n",
       "my_model_3 = XGBRegressor(n_estimators=1)\n",
       "\n",
       "# Fit the model\n",
       "my_model_3.fit(X_train, y_train)\n",
       "\n",
       "# Get predictions\n",
       "predictions_3 = my_model_3.predict(X_valid)\n",
       "\n",
       "# Calculate MAE\n",
       "mae_3 = mean_absolute_error(predictions_3, y_valid)\n",
       "print(\"Mean Absolute Error:\" , mae_3)\n",
       "\n",
       "```"
      ]
     },
     "metadata": {},
     "output_type": "display_data"
    }
   ],
   "source": [
    "# Lines below will give you a hint or solution code\n",
    "step_3.hint()\n",
    "step_3.solution()"
   ]
  },
  {
   "cell_type": "markdown",
   "id": "1e182a9a",
   "metadata": {
    "papermill": {
     "duration": 0.032253,
     "end_time": "2021-07-31T09:37:49.238919",
     "exception": false,
     "start_time": "2021-07-31T09:37:49.206666",
     "status": "completed"
    },
    "tags": []
   },
   "source": [
    "# Keep going\n",
    "\n",
    "Continue to learn about **[data leakage](https://www.kaggle.com/alexisbcook/data-leakage)**.  This is an important issue for a data scientist to understand, and it has the potential to ruin your models in subtle and dangerous ways!"
   ]
  },
  {
   "cell_type": "markdown",
   "id": "00df9dba",
   "metadata": {
    "papermill": {
     "duration": 0.031645,
     "end_time": "2021-07-31T09:37:49.302820",
     "exception": false,
     "start_time": "2021-07-31T09:37:49.271175",
     "status": "completed"
    },
    "tags": []
   },
   "source": [
    "---\n",
    "\n",
    "\n",
    "\n",
    "\n",
    "*Have questions or comments? Visit the [Learn Discussion forum](https://www.kaggle.com/learn-forum/161289) to chat with other Learners.*"
   ]
  }
 ],
 "metadata": {
  "kernelspec": {
   "display_name": "Python 3",
   "language": "python",
   "name": "python3"
  },
  "language_info": {
   "codemirror_mode": {
    "name": "ipython",
    "version": 3
   },
   "file_extension": ".py",
   "mimetype": "text/x-python",
   "name": "python",
   "nbconvert_exporter": "python",
   "pygments_lexer": "ipython3",
   "version": "3.7.10"
  },
  "papermill": {
   "default_parameters": {},
   "duration": 25.858357,
   "end_time": "2021-07-31T09:37:50.725817",
   "environment_variables": {},
   "exception": null,
   "input_path": "__notebook__.ipynb",
   "output_path": "__notebook__.ipynb",
   "parameters": {},
   "start_time": "2021-07-31T09:37:24.867460",
   "version": "2.3.3"
  }
 },
 "nbformat": 4,
 "nbformat_minor": 5
}
